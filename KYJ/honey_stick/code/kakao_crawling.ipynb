{
 "cells": [
  {
   "attachments": {},
   "cell_type": "markdown",
   "metadata": {},
   "source": [
    "패키지 로드"
   ]
  },
  {
   "cell_type": "code",
   "execution_count": 1,
   "metadata": {},
   "outputs": [],
   "source": [
    "import numpy as np\n",
    "import pandas as pd\n",
    "import re\n",
    "import requests\n",
    "from bs4 import BeautifulSoup\n",
    "import urllib.request\n",
    "import json"
   ]
  },
  {
   "cell_type": "markdown",
   "metadata": {},
   "source": [
    "SSL 관련 함수 설정"
   ]
  },
  {
   "cell_type": "code",
   "execution_count": null,
   "metadata": {},
   "outputs": [],
   "source": [
    "import requests\n",
    "import urllib3\n",
    "import ssl\n",
    "\n",
    "\n",
    "class CustomHttpAdapter (requests.adapters.HTTPAdapter):\n",
    "    # \"Transport adapter\" that allows us to use custom ssl_context.\n",
    "\n",
    "    def __init__(self, ssl_context=None, **kwargs):\n",
    "        self.ssl_context = ssl_context\n",
    "        super().__init__(**kwargs)\n",
    "\n",
    "    def init_poolmanager(self, connections, maxsize, block=False):\n",
    "        self.poolmanager = urllib3.poolmanager.PoolManager(\n",
    "            num_pools=connections, maxsize=maxsize,\n",
    "            block=block, ssl_context=self.ssl_context)\n",
    "\n",
    "\n",
    "def get_legacy_session():\n",
    "    ctx = ssl.create_default_context(ssl.Purpose.SERVER_AUTH)\n",
    "    ctx.options |= 0x4  # OP_LEGACY_SERVER_CONNECT\n",
    "    session = requests.session()\n",
    "    session.mount('https://', CustomHttpAdapter(ctx))\n",
    "    return session"
   ]
  },
  {
   "cell_type": "markdown",
   "metadata": {},
   "source": [
    "페이지 수 계산 함수"
   ]
  },
  {
   "cell_type": "code",
   "execution_count": 3,
   "metadata": {},
   "outputs": [],
   "source": [
    "def page_count(product_num):\n",
    "    if product_num % 20 == 0:\n",
    "        page = int(product_num / 20)\n",
    "    else:\n",
    "        page = int(product_num/20) + 1\n",
    "    return page"
   ]
  },
  {
   "cell_type": "markdown",
   "metadata": {},
   "source": [
    "beautifulsoup url 읽기 함수"
   ]
  },
  {
   "cell_type": "code",
   "execution_count": 5,
   "metadata": {},
   "outputs": [],
   "source": [
    "def url_soup(url):\n",
    "    res = get_legacy_session().get(url)\n",
    "    soup = BeautifulSoup(res.text, 'html.parser')\n",
    "    soup = json.loads(soup.decode('utf-8'))\n",
    "    return soup"
   ]
  },
  {
   "cell_type": "markdown",
   "metadata": {},
   "source": [
    "제품 리뷰 수집 함수"
   ]
  },
  {
   "cell_type": "code",
   "execution_count": 4,
   "metadata": {},
   "outputs": [],
   "source": [
    "\n",
    "def review_product(id, reviewCount):\n",
    "    review_list_temp = []\n",
    "    review_temp = []\n",
    "    page_review = page_count(reviewCount)\n",
    "    for page in range(page_review):\n",
    "        url_review = f'https://gift.kakao.com/a/v2/review/products/{id}?page={page}&sortProperty=SCORE&size=20&_=1692145409357'\n",
    "        soup_dict = url_soup(url_review)\n",
    "        for n in range(20):\n",
    "            try:\n",
    "                review_text = soup_dict['reviewList']['contents'][n]['content']\n",
    "                rating = soup_dict['reviewList']['contents'][n]['product']['rating']\n",
    "                review_tag1 = soup_dict['reviewList']['contents'][n]['tag1']\n",
    "                review_tag2 = soup_dict['reviewList']['contents'][n]['tag2']\n",
    "                review_time = soup_dict['reviewList']['contents'][n]['displayStateInfo']['displayedAt']\n",
    "                review_temp = product_details + [review_text, rating, review_tag1, review_tag2, review_time]\n",
    "                review_list_temp.append(review_temp)\n",
    "            except:continue\n",
    "    return review_list_temp"
   ]
  },
  {
   "cell_type": "markdown",
   "metadata": {},
   "source": [
    "데이터 수집"
   ]
  },
  {
   "cell_type": "code",
   "execution_count": 6,
   "metadata": {},
   "outputs": [
    {
     "name": "stdout",
     "output_type": "stream",
     "text": [
      "1 / 230 완료 --------------------\n",
      "2 / 230 완료 --------------------\n",
      "3 / 230 완료 --------------------\n",
      "6 / 230 완료 --------------------\n",
      "7 / 230 완료 --------------------\n",
      "8 / 230 완료 --------------------\n",
      "10 / 230 완료 --------------------\n",
      "11 / 230 완료 --------------------\n",
      "13 / 230 완료 --------------------\n",
      "14 / 230 완료 --------------------\n",
      "15 / 230 완료 --------------------\n",
      "16 / 230 완료 --------------------\n",
      "17 / 230 완료 --------------------\n",
      "18 / 230 완료 --------------------\n",
      "19 / 230 완료 --------------------\n",
      "20 / 230 완료 --------------------\n",
      "21 / 230 완료 --------------------\n",
      "22 / 230 완료 --------------------\n",
      "23 / 230 완료 --------------------\n",
      "24 / 230 완료 --------------------\n",
      "25 / 230 완료 --------------------\n",
      "26 / 230 완료 --------------------\n",
      "27 / 230 완료 --------------------\n",
      "28 / 230 완료 --------------------\n",
      "29 / 230 완료 --------------------\n",
      "30 / 230 완료 --------------------\n",
      "31 / 230 완료 --------------------\n",
      "32 / 230 완료 --------------------\n",
      "33 / 230 완료 --------------------\n",
      "34 / 230 완료 --------------------\n",
      "35 / 230 완료 --------------------\n",
      "36 / 230 완료 --------------------\n",
      "37 / 230 완료 --------------------\n",
      "38 / 230 완료 --------------------\n",
      "39 / 230 완료 --------------------\n",
      "40 / 230 완료 --------------------\n",
      "41 / 230 완료 --------------------\n",
      "42 / 230 완료 --------------------\n",
      "43 / 230 완료 --------------------\n",
      "44 / 230 완료 --------------------\n",
      "45 / 230 완료 --------------------\n",
      "46 / 230 완료 --------------------\n",
      "47 / 230 완료 --------------------\n",
      "48 / 230 완료 --------------------\n",
      "49 / 230 완료 --------------------\n",
      "50 / 230 완료 --------------------\n",
      "51 / 230 완료 --------------------\n",
      "52 / 230 완료 --------------------\n",
      "53 / 230 완료 --------------------\n",
      "54 / 230 완료 --------------------\n",
      "55 / 230 완료 --------------------\n",
      "56 / 230 완료 --------------------\n",
      "57 / 230 완료 --------------------\n",
      "58 / 230 완료 --------------------\n",
      "59 / 230 완료 --------------------\n",
      "60 / 230 완료 --------------------\n",
      "61 / 230 완료 --------------------\n",
      "62 / 230 완료 --------------------\n",
      "63 / 230 완료 --------------------\n",
      "64 / 230 완료 --------------------\n",
      "65 / 230 완료 --------------------\n",
      "66 / 230 완료 --------------------\n",
      "67 / 230 완료 --------------------\n",
      "68 / 230 완료 --------------------\n",
      "69 / 230 완료 --------------------\n",
      "70 / 230 완료 --------------------\n",
      "71 / 230 완료 --------------------\n",
      "72 / 230 완료 --------------------\n",
      "73 / 230 완료 --------------------\n",
      "74 / 230 완료 --------------------\n",
      "75 / 230 완료 --------------------\n",
      "76 / 230 완료 --------------------\n",
      "77 / 230 완료 --------------------\n",
      "78 / 230 완료 --------------------\n",
      "79 / 230 완료 --------------------\n",
      "80 / 230 완료 --------------------\n",
      "81 / 230 완료 --------------------\n",
      "82 / 230 완료 --------------------\n",
      "83 / 230 완료 --------------------\n",
      "84 / 230 완료 --------------------\n",
      "85 / 230 완료 --------------------\n",
      "86 / 230 완료 --------------------\n",
      "87 / 230 완료 --------------------\n",
      "88 / 230 완료 --------------------\n",
      "89 / 230 완료 --------------------\n",
      "90 / 230 완료 --------------------\n",
      "91 / 230 완료 --------------------\n",
      "92 / 230 완료 --------------------\n",
      "93 / 230 완료 --------------------\n",
      "94 / 230 완료 --------------------\n",
      "95 / 230 완료 --------------------\n",
      "96 / 230 완료 --------------------\n",
      "97 / 230 완료 --------------------\n",
      "98 / 230 완료 --------------------\n",
      "99 / 230 완료 --------------------\n",
      "100 / 230 완료 --------------------\n",
      "101 / 230 완료 --------------------\n",
      "102 / 230 완료 --------------------\n",
      "103 / 230 완료 --------------------\n",
      "104 / 230 완료 --------------------\n",
      "105 / 230 완료 --------------------\n",
      "106 / 230 완료 --------------------\n",
      "107 / 230 완료 --------------------\n",
      "108 / 230 완료 --------------------\n",
      "109 / 230 완료 --------------------\n",
      "110 / 230 완료 --------------------\n",
      "111 / 230 완료 --------------------\n",
      "112 / 230 완료 --------------------\n",
      "113 / 230 완료 --------------------\n",
      "114 / 230 완료 --------------------\n",
      "115 / 230 완료 --------------------\n",
      "116 / 230 완료 --------------------\n",
      "117 / 230 완료 --------------------\n",
      "118 / 230 완료 --------------------\n",
      "119 / 230 완료 --------------------\n",
      "120 / 230 완료 --------------------\n",
      "121 / 230 완료 --------------------\n",
      "122 / 230 완료 --------------------\n",
      "123 / 230 완료 --------------------\n",
      "124 / 230 완료 --------------------\n",
      "125 / 230 완료 --------------------\n",
      "126 / 230 완료 --------------------\n",
      "127 / 230 완료 --------------------\n",
      "128 / 230 완료 --------------------\n",
      "129 / 230 완료 --------------------\n",
      "130 / 230 완료 --------------------\n",
      "131 / 230 완료 --------------------\n",
      "132 / 230 완료 --------------------\n",
      "133 / 230 완료 --------------------\n",
      "134 / 230 완료 --------------------\n",
      "135 / 230 완료 --------------------\n",
      "136 / 230 완료 --------------------\n",
      "137 / 230 완료 --------------------\n",
      "138 / 230 완료 --------------------\n",
      "139 / 230 완료 --------------------\n",
      "140 / 230 완료 --------------------\n",
      "141 / 230 완료 --------------------\n",
      "142 / 230 완료 --------------------\n",
      "143 / 230 완료 --------------------\n",
      "144 / 230 완료 --------------------\n",
      "145 / 230 완료 --------------------\n",
      "146 / 230 완료 --------------------\n",
      "147 / 230 완료 --------------------\n",
      "148 / 230 완료 --------------------\n",
      "149 / 230 완료 --------------------\n",
      "150 / 230 완료 --------------------\n",
      "151 / 230 완료 --------------------\n",
      "152 / 230 완료 --------------------\n",
      "153 / 230 완료 --------------------\n",
      "154 / 230 완료 --------------------\n",
      "155 / 230 완료 --------------------\n",
      "156 / 230 완료 --------------------\n",
      "157 / 230 완료 --------------------\n",
      "158 / 230 완료 --------------------\n",
      "159 / 230 완료 --------------------\n",
      "160 / 230 완료 --------------------\n",
      "161 / 230 완료 --------------------\n",
      "162 / 230 완료 --------------------\n",
      "163 / 230 완료 --------------------\n",
      "164 / 230 완료 --------------------\n",
      "165 / 230 완료 --------------------\n",
      "166 / 230 완료 --------------------\n",
      "167 / 230 완료 --------------------\n",
      "168 / 230 완료 --------------------\n",
      "169 / 230 완료 --------------------\n",
      "170 / 230 완료 --------------------\n",
      "171 / 230 완료 --------------------\n",
      "172 / 230 완료 --------------------\n",
      "173 / 230 완료 --------------------\n",
      "174 / 230 완료 --------------------\n",
      "175 / 230 완료 --------------------\n",
      "176 / 230 완료 --------------------\n",
      "177 / 230 완료 --------------------\n",
      "178 / 230 완료 --------------------\n",
      "179 / 230 완료 --------------------\n",
      "180 / 230 완료 --------------------\n",
      "181 / 230 완료 --------------------\n",
      "182 / 230 완료 --------------------\n",
      "183 / 230 완료 --------------------\n",
      "184 / 230 완료 --------------------\n",
      "185 / 230 완료 --------------------\n",
      "186 / 230 완료 --------------------\n",
      "187 / 230 완료 --------------------\n",
      "188 / 230 완료 --------------------\n",
      "189 / 230 완료 --------------------\n",
      "190 / 230 완료 --------------------\n",
      "191 / 230 완료 --------------------\n",
      "192 / 230 완료 --------------------\n",
      "193 / 230 완료 --------------------\n",
      "194 / 230 완료 --------------------\n",
      "195 / 230 완료 --------------------\n",
      "196 / 230 완료 --------------------\n",
      "197 / 230 완료 --------------------\n",
      "198 / 230 완료 --------------------\n",
      "199 / 230 완료 --------------------\n",
      "200 / 230 완료 --------------------\n",
      "201 / 230 완료 --------------------\n",
      "202 / 230 완료 --------------------\n",
      "203 / 230 완료 --------------------\n",
      "204 / 230 완료 --------------------\n",
      "205 / 230 완료 --------------------\n",
      "206 / 230 완료 --------------------\n",
      "207 / 230 완료 --------------------\n",
      "208 / 230 완료 --------------------\n",
      "209 / 230 완료 --------------------\n",
      "210 / 230 완료 --------------------\n",
      "211 / 230 완료 --------------------\n",
      "212 / 230 완료 --------------------\n",
      "213 / 230 완료 --------------------\n",
      "214 / 230 완료 --------------------\n",
      "215 / 230 완료 --------------------\n",
      "216 / 230 완료 --------------------\n",
      "217 / 230 완료 --------------------\n",
      "218 / 230 완료 --------------------\n",
      "219 / 230 완료 --------------------\n",
      "220 / 230 완료 --------------------\n",
      "221 / 230 완료 --------------------\n",
      "222 / 230 완료 --------------------\n",
      "223 / 230 완료 --------------------\n",
      "224 / 230 완료 --------------------\n",
      "225 / 230 완료 --------------------\n",
      "226 / 230 완료 --------------------\n",
      "227 / 230 완료 --------------------\n",
      "228 / 230 완료 --------------------\n",
      "229 / 230 완료 --------------------\n",
      "230 / 230 완료 --------------------\n"
     ]
    }
   ],
   "source": [
    "review_list = []\n",
    "url = f'https://gift.kakao.com/a/v2/search/products?query=%EA%BF%80%EC%8A%A4%ED%8B%B1&categoryCode=102104&categoryName=%EC%8C%80%2F%EA%B3%BC%EC%9D%BC%2F%EB%86%8D%EC%B6%95%EC%88%98%EC%82%B0%EB%AC%BC&sortProperty=REVIEW_COUNT&sortDir=desc&page=0&_=1692150737323'\n",
    "soup_product_dict = url_soup(url)\n",
    "product_num = soup_product_dict['products']['totalCount']\n",
    "page_product = page_count(product_num)\n",
    "for page in range(page_product):\n",
    "    url_products = f'https://gift.kakao.com/a/v2/search/products?query=%EA%BF%80%EC%8A%A4%ED%8B%B1&categoryCode=102104&categoryName=%EC%8C%80%2F%EA%B3%BC%EC%9D%BC%2F%EB%86%8D%EC%B6%95%EC%88%98%EC%82%B0%EB%AC%BC&sortProperty=REVIEW_COUNT&sortDir=desc&page={page}&_=1692150737323'\n",
    "    soup_product_dict = url_soup(url_products)\n",
    "    for product_n in range(20):\n",
    "        try:\n",
    "            if ('꿀' in soup_product_dict['products']['contents'][product_n]['name']) & ('스틱' in soup_product_dict['products']['contents'][product_n]['name']):\n",
    "                id = soup_product_dict['products']['contents'][product_n]['id']\n",
    "                name = soup_product_dict['products']['contents'][product_n]['name']\n",
    "                brand = soup_product_dict['products']['contents'][product_n]['brand']['name']\n",
    "                sellingPrice = soup_product_dict['products']['contents'][product_n]['price']['sellingPrice']\n",
    "                wishCount = soup_product_dict['products']['contents'][product_n]['wish']['wishCount']\n",
    "                reviewCount = reviewCount = soup_product_dict['products']['contents'][product_n]['review']['reviewCount']\n",
    "                tag_1 = soup_product_dict['products']['contents'][product_n]['tierTag']['tierTags'][0]['tags']\n",
    "                tag_2 = soup_product_dict['products']['contents'][product_n]['tierTag']['tierTags'][1]['tags']\n",
    "                product_details = [id, name, brand, sellingPrice, wishCount, reviewCount, tag_1, tag_2]\n",
    "                review_list = review_list + review_product(id, reviewCount)\n",
    "                print((page*20)+product_n+1, '/', product_num, '완료', '-'*20)\n",
    "            else:\n",
    "                print((page*20)+product_n+1, '/', product_num, '완료', '-'*20)\n",
    "        except:\n",
    "            continue"
   ]
  },
  {
   "cell_type": "code",
   "execution_count": 8,
   "metadata": {},
   "outputs": [],
   "source": [
    "review_df = pd.DataFrame(review_list, columns = ['id', 'name', 'brand', 'sellingPrice', 'wishCount', 'reviewCount', 'product_tag1', 'product_tag2',\n",
    "                                                 'review_text', 'rating', 'review_tag1', 'review_tag2', 'review_time'])"
   ]
  },
  {
   "cell_type": "markdown",
   "metadata": {},
   "source": [
    "데이터 저장"
   ]
  },
  {
   "cell_type": "code",
   "execution_count": 26,
   "metadata": {},
   "outputs": [],
   "source": [
    "review_df.to_csv(r\"C:\\Users\\NT550-048\\Desktop\\잇더\\꿀스틱\\data\\kakao_data.csv\")"
   ]
  },
  {
   "cell_type": "markdown",
   "metadata": {},
   "source": [
    "데이터 확인"
   ]
  },
  {
   "cell_type": "code",
   "execution_count": 28,
   "metadata": {},
   "outputs": [
    {
     "data": {
      "text/plain": [
       "48"
      ]
     },
     "execution_count": 28,
     "metadata": {},
     "output_type": "execute_result"
    }
   ],
   "source": [
    "review_df['id'].unique()"
   ]
  },
  {
   "cell_type": "code",
   "execution_count": 29,
   "metadata": {},
   "outputs": [
    {
     "data": {
      "text/plain": [
       "1922"
      ]
     },
     "execution_count": 29,
     "metadata": {},
     "output_type": "execute_result"
    }
   ],
   "source": [
    "len(review_df)"
   ]
  },
  {
   "cell_type": "markdown",
   "metadata": {},
   "source": [
    "SSL 관련 함수 예시"
   ]
  },
  {
   "cell_type": "code",
   "execution_count": null,
   "metadata": {},
   "outputs": [],
   "source": [
    "res = get_legacy_session().get('https://gift.kakao.com/a/v2/review/products/2270784?page=0&sortProperty=SCORE&size=20&_=1692145409357')\n",
    "soup = BeautifulSoup(res.text, 'html.parser')\n",
    "soup_dict = json.loads(soup.decode('utf-8'))"
   ]
  }
 ],
 "metadata": {
  "kernelspec": {
   "display_name": "base",
   "language": "python",
   "name": "python3"
  },
  "language_info": {
   "codemirror_mode": {
    "name": "ipython",
    "version": 3
   },
   "file_extension": ".py",
   "mimetype": "text/x-python",
   "name": "python",
   "nbconvert_exporter": "python",
   "pygments_lexer": "ipython3",
   "version": "3.9.17"
  },
  "orig_nbformat": 4
 },
 "nbformat": 4,
 "nbformat_minor": 2
}
