{
 "cells": [
  {
   "cell_type": "code",
   "execution_count": 52,
   "metadata": {},
   "outputs": [],
   "source": [
    "import pandas as pd\n",
    "import numpy as np\n",
    "import datetime\n",
    "import requests\n",
    "from hanspell import spell_checker\n",
    "from kss import split_sentences"
   ]
  },
  {
   "cell_type": "code",
   "execution_count": 62,
   "metadata": {},
   "outputs": [],
   "source": [
    "# 한국어 형태소 분석\n",
    "from konlpy.tag import Okt, Hannanum, Kkma, Mecab, Komoran"
   ]
  },
  {
   "cell_type": "markdown",
   "metadata": {},
   "source": [
    "### 전처리 함수 설정"
   ]
  },
  {
   "cell_type": "markdown",
   "metadata": {},
   "source": [
    "맞춤법 교정 함수(500자 이상 포함)"
   ]
  },
  {
   "cell_type": "code",
   "execution_count": null,
   "metadata": {},
   "outputs": [],
   "source": [
    "def spell_check_all(txt):\n",
    "    from hanspell import spell_checker\n",
    "    checked_list = []\n",
    "    if len(txt) >= 500:\n",
    "        sentences = split_sentences(txt)\n",
    "        for sen in sentences:\n",
    "            checked_list.append(spell_checker.check(sen).checked)\n",
    "        result = ' '.join(checked_list)\n",
    "    else:\n",
    "        result = spell_checker.check(txt).checked\n",
    "    return result"
   ]
  },
  {
   "cell_type": "markdown",
   "metadata": {},
   "source": [
    "토큰화 함수(konlpy)"
   ]
  },
  {
   "cell_type": "code",
   "execution_count": 61,
   "metadata": {},
   "outputs": [],
   "source": [
    "# konlpy 라이브러리로 텍스트 데이터에서 형태소를 추출한다.\n",
    "def get_pos (x) :\n",
    "    tagger = Okt()\n",
    "    pos = tagger.pos(x)\n",
    "    #pos = tagger.pos(x, norm = True, stem = True)\n",
    "    return pos"
   ]
  },
  {
   "cell_type": "code",
   "execution_count": 2,
   "metadata": {},
   "outputs": [],
   "source": [
    "kurly_data = pd.read_csv(r\"C:\\Users\\NT550-048\\Desktop\\잇더\\꿀스틱\\data\\kurly_data.csv\", index_col=0)\n",
    "workerbee_data = pd.read_csv(r\"C:\\Users\\NT550-048\\Desktop\\잇더\\꿀스틱\\data\\workerbee_data.csv\", index_col=0)\n",
    "kakao_data = pd.read_csv(r\"C:\\Users\\NT550-048\\Desktop\\잇더\\꿀스틱\\data\\kakao_data.csv\", index_col=0)"
   ]
  },
  {
   "cell_type": "markdown",
   "metadata": {},
   "source": [
    "### 마켓컬리 데이터 전처리"
   ]
  },
  {
   "cell_type": "code",
   "execution_count": 67,
   "metadata": {},
   "outputs": [
    {
     "data": {
      "text/html": [
       "<div>\n",
       "<style scoped>\n",
       "    .dataframe tbody tr th:only-of-type {\n",
       "        vertical-align: middle;\n",
       "    }\n",
       "\n",
       "    .dataframe tbody tr th {\n",
       "        vertical-align: top;\n",
       "    }\n",
       "\n",
       "    .dataframe thead th {\n",
       "        text-align: right;\n",
       "    }\n",
       "</style>\n",
       "<table border=\"1\" class=\"dataframe\">\n",
       "  <thead>\n",
       "    <tr style=\"text-align: right;\">\n",
       "      <th></th>\n",
       "      <th>ProductCode</th>\n",
       "      <th>MemberGrade</th>\n",
       "      <th>MemberName</th>\n",
       "      <th>ProductName</th>\n",
       "      <th>ReviewText</th>\n",
       "      <th>ReviewDate</th>\n",
       "      <th>ReviewLike</th>\n",
       "    </tr>\n",
       "  </thead>\n",
       "  <tbody>\n",
       "    <tr>\n",
       "      <th>0</th>\n",
       "      <td>5136210</td>\n",
       "      <td>일반</td>\n",
       "      <td>박**</td>\n",
       "      <td>[바로생활] 아카시아꿀 스틱 10포</td>\n",
       "      <td>작은 박스로 2개 (10개씩 들어있어 20개네요 ) 주문했습니다.  의심이 많은 타...</td>\n",
       "      <td>2023.06.23</td>\n",
       "      <td>0</td>\n",
       "    </tr>\n",
       "    <tr>\n",
       "      <th>1</th>\n",
       "      <td>5136210</td>\n",
       "      <td>프렌즈</td>\n",
       "      <td>강**</td>\n",
       "      <td>[바로생활] 아카시아꿀 스틱 10포</td>\n",
       "      <td>물에 타먹으니까 되게 다네요</td>\n",
       "      <td>2023.08.15</td>\n",
       "      <td>0</td>\n",
       "    </tr>\n",
       "  </tbody>\n",
       "</table>\n",
       "</div>"
      ],
      "text/plain": [
       "   ProductCode MemberGrade MemberName          ProductName  \\\n",
       "0      5136210          일반        박**  [바로생활] 아카시아꿀 스틱 10포   \n",
       "1      5136210         프렌즈        강**  [바로생활] 아카시아꿀 스틱 10포   \n",
       "\n",
       "                                          ReviewText  ReviewDate  ReviewLike  \n",
       "0  작은 박스로 2개 (10개씩 들어있어 20개네요 ) 주문했습니다.  의심이 많은 타...  2023.06.23           0  \n",
       "1                                    물에 타먹으니까 되게 다네요  2023.08.15           0  "
      ]
     },
     "execution_count": 67,
     "metadata": {},
     "output_type": "execute_result"
    }
   ],
   "source": [
    "kurly_data.head(2)"
   ]
  },
  {
   "cell_type": "markdown",
   "metadata": {},
   "source": [
    "줄바꿈 기호 변환 / '&'기호 ','로 대체"
   ]
  },
  {
   "cell_type": "code",
   "execution_count": 4,
   "metadata": {},
   "outputs": [],
   "source": [
    "kurly_data['ReviewText'] = kurly_data['ReviewText'].apply(lambda x:x.replace('\\n', ' ') if '\\n' in x else x)"
   ]
  },
  {
   "cell_type": "code",
   "execution_count": null,
   "metadata": {},
   "outputs": [],
   "source": [
    "kurly_data['ReviewText'] = kurly_data['ReviewText'].apply(lambda x:x.replace('&', ', ') if '&' in x else x)"
   ]
  },
  {
   "cell_type": "markdown",
   "metadata": {},
   "source": [
    "맞춤법 교정"
   ]
  },
  {
   "cell_type": "code",
   "execution_count": 68,
   "metadata": {},
   "outputs": [],
   "source": [
    "kurly_data['ReviewText'] = kurly_data['ReviewText'].apply(lambda x:spell_check_all(x))"
   ]
  },
  {
   "cell_type": "markdown",
   "metadata": {},
   "source": [
    "토큰화"
   ]
  },
  {
   "cell_type": "code",
   "execution_count": 69,
   "metadata": {},
   "outputs": [],
   "source": [
    "kurly_data['token_okt'] = kurly_data['ReviewText'].apply(lambda x:get_pos(x))"
   ]
  },
  {
   "cell_type": "code",
   "execution_count": 70,
   "metadata": {},
   "outputs": [
    {
     "data": {
      "text/html": [
       "<div>\n",
       "<style scoped>\n",
       "    .dataframe tbody tr th:only-of-type {\n",
       "        vertical-align: middle;\n",
       "    }\n",
       "\n",
       "    .dataframe tbody tr th {\n",
       "        vertical-align: top;\n",
       "    }\n",
       "\n",
       "    .dataframe thead th {\n",
       "        text-align: right;\n",
       "    }\n",
       "</style>\n",
       "<table border=\"1\" class=\"dataframe\">\n",
       "  <thead>\n",
       "    <tr style=\"text-align: right;\">\n",
       "      <th></th>\n",
       "      <th>ProductCode</th>\n",
       "      <th>MemberGrade</th>\n",
       "      <th>MemberName</th>\n",
       "      <th>ProductName</th>\n",
       "      <th>ReviewText</th>\n",
       "      <th>ReviewDate</th>\n",
       "      <th>ReviewLike</th>\n",
       "      <th>token_okt</th>\n",
       "    </tr>\n",
       "  </thead>\n",
       "  <tbody>\n",
       "    <tr>\n",
       "      <th>0</th>\n",
       "      <td>5136210</td>\n",
       "      <td>일반</td>\n",
       "      <td>박**</td>\n",
       "      <td>[바로생활] 아카시아꿀 스틱 10포</td>\n",
       "      <td>작은 박스로 2개 (10개씩 들어있어 20개네요 ) 주문했습니다.  의심이 많은 타...</td>\n",
       "      <td>2023.06.23</td>\n",
       "      <td>0</td>\n",
       "      <td>[(작은, Adjective), (박스, Noun), (로, Josa), (2, N...</td>\n",
       "    </tr>\n",
       "    <tr>\n",
       "      <th>1</th>\n",
       "      <td>5136210</td>\n",
       "      <td>프렌즈</td>\n",
       "      <td>강**</td>\n",
       "      <td>[바로생활] 아카시아꿀 스틱 10포</td>\n",
       "      <td>물에 타먹으니까 되게 다네요</td>\n",
       "      <td>2023.08.15</td>\n",
       "      <td>0</td>\n",
       "      <td>[(물, Noun), (에, Josa), (타, Noun), (먹으니까, Verb)...</td>\n",
       "    </tr>\n",
       "  </tbody>\n",
       "</table>\n",
       "</div>"
      ],
      "text/plain": [
       "   ProductCode MemberGrade MemberName          ProductName  \\\n",
       "0      5136210          일반        박**  [바로생활] 아카시아꿀 스틱 10포   \n",
       "1      5136210         프렌즈        강**  [바로생활] 아카시아꿀 스틱 10포   \n",
       "\n",
       "                                          ReviewText  ReviewDate  ReviewLike  \\\n",
       "0  작은 박스로 2개 (10개씩 들어있어 20개네요 ) 주문했습니다.  의심이 많은 타...  2023.06.23           0   \n",
       "1                                    물에 타먹으니까 되게 다네요  2023.08.15           0   \n",
       "\n",
       "                                           token_okt  \n",
       "0  [(작은, Adjective), (박스, Noun), (로, Josa), (2, N...  \n",
       "1  [(물, Noun), (에, Josa), (타, Noun), (먹으니까, Verb)...  "
      ]
     },
     "execution_count": 70,
     "metadata": {},
     "output_type": "execute_result"
    }
   ],
   "source": [
    "kurly_data.head(2)"
   ]
  },
  {
   "cell_type": "code",
   "execution_count": 97,
   "metadata": {},
   "outputs": [],
   "source": [
    "kurly_data.to_csv(r\"C:\\Users\\NT550-048\\Desktop\\잇더\\꿀스틱\\data\\kurly_data_preprocessed.csv\")"
   ]
  },
  {
   "cell_type": "markdown",
   "metadata": {},
   "source": [
    "### 워커비 데이터 전처리"
   ]
  },
  {
   "cell_type": "code",
   "execution_count": 71,
   "metadata": {},
   "outputs": [
    {
     "data": {
      "text/html": [
       "<div>\n",
       "<style scoped>\n",
       "    .dataframe tbody tr th:only-of-type {\n",
       "        vertical-align: middle;\n",
       "    }\n",
       "\n",
       "    .dataframe tbody tr th {\n",
       "        vertical-align: top;\n",
       "    }\n",
       "\n",
       "    .dataframe thead th {\n",
       "        text-align: right;\n",
       "    }\n",
       "</style>\n",
       "<table border=\"1\" class=\"dataframe\">\n",
       "  <thead>\n",
       "    <tr style=\"text-align: right;\">\n",
       "      <th></th>\n",
       "      <th>itemNo</th>\n",
       "      <th>itemName</th>\n",
       "      <th>lastSalePrice</th>\n",
       "      <th>heartCount</th>\n",
       "      <th>reviewCount</th>\n",
       "      <th>itemReviewNo</th>\n",
       "      <th>optionValue</th>\n",
       "      <th>userId</th>\n",
       "      <th>point</th>\n",
       "      <th>contents</th>\n",
       "      <th>reviewType</th>\n",
       "      <th>registrationType</th>\n",
       "      <th>isGift</th>\n",
       "      <th>isReported</th>\n",
       "      <th>giftReview</th>\n",
       "      <th>partnerComment</th>\n",
       "      <th>insertTimestamp</th>\n",
       "    </tr>\n",
       "  </thead>\n",
       "  <tbody>\n",
       "    <tr>\n",
       "      <th>0</th>\n",
       "      <td>1308881</td>\n",
       "      <td>[꿀카라멜] 워커비 허니 얼그레이 카라멜 50g</td>\n",
       "      <td>3000</td>\n",
       "      <td>7126</td>\n",
       "      <td>796</td>\n",
       "      <td>6390415</td>\n",
       "      <td>['[구매단위]박스구매(12개입)']</td>\n",
       "      <td>hai***</td>\n",
       "      <td>5</td>\n",
       "      <td>°고마운 일이 생겨, 지인분께 선물로도 드리고~ 나도 먹고! 재주문 했어요~, 포장...</td>\n",
       "      <td>0</td>\n",
       "      <td>USER</td>\n",
       "      <td>F</td>\n",
       "      <td>F</td>\n",
       "      <td>NaN</td>\n",
       "      <td>NaN</td>\n",
       "      <td>2023-08-11 05:42:48</td>\n",
       "    </tr>\n",
       "    <tr>\n",
       "      <th>1</th>\n",
       "      <td>1308881</td>\n",
       "      <td>[꿀카라멜] 워커비 허니 얼그레이 카라멜 50g</td>\n",
       "      <td>3000</td>\n",
       "      <td>7126</td>\n",
       "      <td>796</td>\n",
       "      <td>6376671</td>\n",
       "      <td>['[구매단위]낱개구매']</td>\n",
       "      <td>yangsfami***</td>\n",
       "      <td>5</td>\n",
       "      <td>얼그레이향이 은은하게 나서 정말 맛있어요 당 떨어질 때 하나씩 집어먹기 딱 좋은 것...</td>\n",
       "      <td>0</td>\n",
       "      <td>USER</td>\n",
       "      <td>F</td>\n",
       "      <td>F</td>\n",
       "      <td>NaN</td>\n",
       "      <td>NaN</td>\n",
       "      <td>2023-08-09 16:58:54</td>\n",
       "    </tr>\n",
       "  </tbody>\n",
       "</table>\n",
       "</div>"
      ],
      "text/plain": [
       "    itemNo                    itemName  lastSalePrice  heartCount  \\\n",
       "0  1308881  [꿀카라멜] 워커비 허니 얼그레이 카라멜 50g           3000        7126   \n",
       "1  1308881  [꿀카라멜] 워커비 허니 얼그레이 카라멜 50g           3000        7126   \n",
       "\n",
       "   reviewCount  itemReviewNo           optionValue        userId  point  \\\n",
       "0          796       6390415  ['[구매단위]박스구매(12개입)']        hai***      5   \n",
       "1          796       6376671        ['[구매단위]낱개구매']  yangsfami***      5   \n",
       "\n",
       "                                            contents  reviewType  \\\n",
       "0  °고마운 일이 생겨, 지인분께 선물로도 드리고~ 나도 먹고! 재주문 했어요~, 포장...           0   \n",
       "1  얼그레이향이 은은하게 나서 정말 맛있어요 당 떨어질 때 하나씩 집어먹기 딱 좋은 것...           0   \n",
       "\n",
       "  registrationType isGift isReported  giftReview  partnerComment  \\\n",
       "0             USER      F          F         NaN             NaN   \n",
       "1             USER      F          F         NaN             NaN   \n",
       "\n",
       "       insertTimestamp  \n",
       "0  2023-08-11 05:42:48  \n",
       "1  2023-08-09 16:58:54  "
      ]
     },
     "execution_count": 71,
     "metadata": {},
     "output_type": "execute_result"
    }
   ],
   "source": [
    "workerbee_data.head(2)"
   ]
  },
  {
   "cell_type": "code",
   "execution_count": 82,
   "metadata": {},
   "outputs": [
    {
     "name": "stdout",
     "output_type": "stream",
     "text": [
      "0    5110\n",
      "Name: reviewType, dtype: int64\n",
      "USER    5110\n",
      "Name: registrationType, dtype: int64\n",
      "F    3925\n",
      "T    1185\n",
      "Name: isGift, dtype: int64\n",
      "F    5110\n",
      "Name: isReported, dtype: int64\n"
     ]
    }
   ],
   "source": [
    "print(workerbee_data['reviewType'].value_counts())\n",
    "print(workerbee_data['registrationType'].value_counts())\n",
    "print(workerbee_data['isGift'].value_counts())\n",
    "print(workerbee_data['isReported'].value_counts())"
   ]
  },
  {
   "cell_type": "code",
   "execution_count": 81,
   "metadata": {},
   "outputs": [
    {
     "name": "stdout",
     "output_type": "stream",
     "text": [
      "5110\n",
      "5110\n"
     ]
    }
   ],
   "source": [
    "print(len(workerbee_data['giftReview'].isna()))\n",
    "print(len(workerbee_data['partnerComment'].isna()))"
   ]
  },
  {
   "cell_type": "markdown",
   "metadata": {},
   "source": [
    "결측치 컬럼 제거"
   ]
  },
  {
   "cell_type": "code",
   "execution_count": 84,
   "metadata": {},
   "outputs": [],
   "source": [
    "workerbee_data.drop(['reviewType', 'registrationType', 'isReported', 'giftReview', 'partnerComment'], axis = 1, inplace=True)"
   ]
  },
  {
   "cell_type": "markdown",
   "metadata": {},
   "source": [
    "줄바꿈 기호 변환 / '&' 기호 ','로 대체"
   ]
  },
  {
   "cell_type": "code",
   "execution_count": 88,
   "metadata": {},
   "outputs": [],
   "source": [
    "workerbee_data['contents'] = workerbee_data['contents'].apply(lambda x:x.replace('\\n', ' ') if '\\n' in x else x)"
   ]
  },
  {
   "cell_type": "code",
   "execution_count": 90,
   "metadata": {},
   "outputs": [],
   "source": [
    "workerbee_data['contents'] = workerbee_data['contents'].apply(lambda x:x.replace('&', ', ') if '&' in x else x)"
   ]
  },
  {
   "cell_type": "markdown",
   "metadata": {},
   "source": [
    "맞춤법 교정"
   ]
  },
  {
   "cell_type": "code",
   "execution_count": 91,
   "metadata": {},
   "outputs": [],
   "source": [
    "workerbee_data['contents'] = workerbee_data['contents'].apply(lambda x:spell_check_all(x))"
   ]
  },
  {
   "cell_type": "markdown",
   "metadata": {},
   "source": [
    "토큰화"
   ]
  },
  {
   "cell_type": "code",
   "execution_count": 94,
   "metadata": {},
   "outputs": [],
   "source": [
    "workerbee_data['token_okt'] = workerbee_data['contents'].apply(lambda x:get_pos(x))"
   ]
  },
  {
   "cell_type": "code",
   "execution_count": 95,
   "metadata": {},
   "outputs": [
    {
     "data": {
      "text/html": [
       "<div>\n",
       "<style scoped>\n",
       "    .dataframe tbody tr th:only-of-type {\n",
       "        vertical-align: middle;\n",
       "    }\n",
       "\n",
       "    .dataframe tbody tr th {\n",
       "        vertical-align: top;\n",
       "    }\n",
       "\n",
       "    .dataframe thead th {\n",
       "        text-align: right;\n",
       "    }\n",
       "</style>\n",
       "<table border=\"1\" class=\"dataframe\">\n",
       "  <thead>\n",
       "    <tr style=\"text-align: right;\">\n",
       "      <th></th>\n",
       "      <th>itemNo</th>\n",
       "      <th>itemName</th>\n",
       "      <th>lastSalePrice</th>\n",
       "      <th>heartCount</th>\n",
       "      <th>reviewCount</th>\n",
       "      <th>itemReviewNo</th>\n",
       "      <th>optionValue</th>\n",
       "      <th>userId</th>\n",
       "      <th>point</th>\n",
       "      <th>contents</th>\n",
       "      <th>isGift</th>\n",
       "      <th>insertTimestamp</th>\n",
       "      <th>token_okt</th>\n",
       "    </tr>\n",
       "  </thead>\n",
       "  <tbody>\n",
       "    <tr>\n",
       "      <th>0</th>\n",
       "      <td>1308881</td>\n",
       "      <td>[꿀카라멜] 워커비 허니 얼그레이 카라멜 50g</td>\n",
       "      <td>3000</td>\n",
       "      <td>7126</td>\n",
       "      <td>796</td>\n",
       "      <td>6390415</td>\n",
       "      <td>['[구매단위]박스구매(12개입)']</td>\n",
       "      <td>hai***</td>\n",
       "      <td>5</td>\n",
       "      <td>°고마운 일이 생겨, 지인분께 선물로도 드리고~ 나도 먹고! 재주문 했어요~, 포장...</td>\n",
       "      <td>F</td>\n",
       "      <td>2023-08-11 05:42:48</td>\n",
       "      <td>[(°, Foreign), (고마운, Adjective), (일이, Modifier...</td>\n",
       "    </tr>\n",
       "    <tr>\n",
       "      <th>1</th>\n",
       "      <td>1308881</td>\n",
       "      <td>[꿀카라멜] 워커비 허니 얼그레이 카라멜 50g</td>\n",
       "      <td>3000</td>\n",
       "      <td>7126</td>\n",
       "      <td>796</td>\n",
       "      <td>6376671</td>\n",
       "      <td>['[구매단위]낱개구매']</td>\n",
       "      <td>yangsfami***</td>\n",
       "      <td>5</td>\n",
       "      <td>얼 그레이 향임 은은하게 나서 정말 맛있어요 당 떨어질 때 하나씩 집어먹기 딱 좋은...</td>\n",
       "      <td>F</td>\n",
       "      <td>2023-08-09 16:58:54</td>\n",
       "      <td>[(얼, Noun), (그레이, Noun), (향임, Noun), (은은하게, Ad...</td>\n",
       "    </tr>\n",
       "  </tbody>\n",
       "</table>\n",
       "</div>"
      ],
      "text/plain": [
       "    itemNo                    itemName  lastSalePrice  heartCount  \\\n",
       "0  1308881  [꿀카라멜] 워커비 허니 얼그레이 카라멜 50g           3000        7126   \n",
       "1  1308881  [꿀카라멜] 워커비 허니 얼그레이 카라멜 50g           3000        7126   \n",
       "\n",
       "   reviewCount  itemReviewNo           optionValue        userId  point  \\\n",
       "0          796       6390415  ['[구매단위]박스구매(12개입)']        hai***      5   \n",
       "1          796       6376671        ['[구매단위]낱개구매']  yangsfami***      5   \n",
       "\n",
       "                                            contents isGift  \\\n",
       "0  °고마운 일이 생겨, 지인분께 선물로도 드리고~ 나도 먹고! 재주문 했어요~, 포장...      F   \n",
       "1  얼 그레이 향임 은은하게 나서 정말 맛있어요 당 떨어질 때 하나씩 집어먹기 딱 좋은...      F   \n",
       "\n",
       "       insertTimestamp                                          token_okt  \n",
       "0  2023-08-11 05:42:48  [(°, Foreign), (고마운, Adjective), (일이, Modifier...  \n",
       "1  2023-08-09 16:58:54  [(얼, Noun), (그레이, Noun), (향임, Noun), (은은하게, Ad...  "
      ]
     },
     "execution_count": 95,
     "metadata": {},
     "output_type": "execute_result"
    }
   ],
   "source": [
    "workerbee_data.head(2)"
   ]
  },
  {
   "cell_type": "code",
   "execution_count": 96,
   "metadata": {},
   "outputs": [],
   "source": [
    "workerbee_data.to_csv(r\"C:\\Users\\NT550-048\\Desktop\\잇더\\꿀스틱\\data\\workerbee_data_preprocessed.csv\")"
   ]
  },
  {
   "cell_type": "markdown",
   "metadata": {},
   "source": [
    "### 카카오톡 선물하기 데이터 전처리"
   ]
  },
  {
   "cell_type": "code",
   "execution_count": 44,
   "metadata": {},
   "outputs": [],
   "source": [
    "kakao_data = pd.read_csv(r\"C:\\Users\\NT550-048\\Desktop\\잇더\\꿀스틱\\data\\kakao_data.csv\", index_col=0)"
   ]
  },
  {
   "cell_type": "code",
   "execution_count": 45,
   "metadata": {},
   "outputs": [
    {
     "data": {
      "text/html": [
       "<div>\n",
       "<style scoped>\n",
       "    .dataframe tbody tr th:only-of-type {\n",
       "        vertical-align: middle;\n",
       "    }\n",
       "\n",
       "    .dataframe tbody tr th {\n",
       "        vertical-align: top;\n",
       "    }\n",
       "\n",
       "    .dataframe thead th {\n",
       "        text-align: right;\n",
       "    }\n",
       "</style>\n",
       "<table border=\"1\" class=\"dataframe\">\n",
       "  <thead>\n",
       "    <tr style=\"text-align: right;\">\n",
       "      <th></th>\n",
       "      <th>id</th>\n",
       "      <th>name</th>\n",
       "      <th>brand</th>\n",
       "      <th>sellingPrice</th>\n",
       "      <th>wishCount</th>\n",
       "      <th>reviewCount</th>\n",
       "      <th>product_tag1</th>\n",
       "      <th>product_tag2</th>\n",
       "      <th>review_text</th>\n",
       "      <th>rating</th>\n",
       "      <th>review_tag1</th>\n",
       "      <th>review_tag2</th>\n",
       "      <th>review_time</th>\n",
       "    </tr>\n",
       "  </thead>\n",
       "  <tbody>\n",
       "    <tr>\n",
       "      <th>0</th>\n",
       "      <td>2270784</td>\n",
       "      <td>국산 프로폴리스 혼합 천연벌꿀 허니스틱(15스틱) 답례품 비마스터 -23.5</td>\n",
       "      <td>비마스터</td>\n",
       "      <td>27800</td>\n",
       "      <td>2228</td>\n",
       "      <td>1152</td>\n",
       "      <td>[]</td>\n",
       "      <td>[]</td>\n",
       "      <td>숙취후 아침에 따뜻한 물에 한포 간편히 타먹을수 있어서 좋드라구요.\\n스틱형이라 휴...</td>\n",
       "      <td>4</td>\n",
       "      <td>응원</td>\n",
       "      <td>직장동료</td>\n",
       "      <td>20230410141648</td>\n",
       "    </tr>\n",
       "    <tr>\n",
       "      <th>1</th>\n",
       "      <td>2270784</td>\n",
       "      <td>국산 프로폴리스 혼합 천연벌꿀 허니스틱(15스틱) 답례품 비마스터 -23.5</td>\n",
       "      <td>비마스터</td>\n",
       "      <td>27800</td>\n",
       "      <td>2228</td>\n",
       "      <td>1152</td>\n",
       "      <td>[]</td>\n",
       "      <td>[]</td>\n",
       "      <td>친구가 건강관리 하라고 선물해 주었습니다 !!\\n후기가 좋아서 기대했는데\\n맛있고 ...</td>\n",
       "      <td>4</td>\n",
       "      <td>생일</td>\n",
       "      <td>친구</td>\n",
       "      <td>20230409032702</td>\n",
       "    </tr>\n",
       "  </tbody>\n",
       "</table>\n",
       "</div>"
      ],
      "text/plain": [
       "        id                                        name brand  sellingPrice  \\\n",
       "0  2270784  국산 프로폴리스 혼합 천연벌꿀 허니스틱(15스틱) 답례품 비마스터 -23.5  비마스터         27800   \n",
       "1  2270784  국산 프로폴리스 혼합 천연벌꿀 허니스틱(15스틱) 답례품 비마스터 -23.5  비마스터         27800   \n",
       "\n",
       "   wishCount  reviewCount product_tag1 product_tag2  \\\n",
       "0       2228         1152           []           []   \n",
       "1       2228         1152           []           []   \n",
       "\n",
       "                                         review_text  rating review_tag1  \\\n",
       "0  숙취후 아침에 따뜻한 물에 한포 간편히 타먹을수 있어서 좋드라구요.\\n스틱형이라 휴...       4          응원   \n",
       "1  친구가 건강관리 하라고 선물해 주었습니다 !!\\n후기가 좋아서 기대했는데\\n맛있고 ...       4          생일   \n",
       "\n",
       "  review_tag2     review_time  \n",
       "0        직장동료  20230410141648  \n",
       "1          친구  20230409032702  "
      ]
     },
     "execution_count": 45,
     "metadata": {},
     "output_type": "execute_result"
    }
   ],
   "source": [
    "kakao_data.head(2)"
   ]
  },
  {
   "cell_type": "markdown",
   "metadata": {},
   "source": [
    "줄바꿈 기호 변환"
   ]
  },
  {
   "cell_type": "code",
   "execution_count": 46,
   "metadata": {},
   "outputs": [],
   "source": [
    "kakao_data['review_text'] = kakao_data['review_text'].apply(lambda x:x.replace('\\n', ' ') if '\\n' in x else x)"
   ]
  },
  {
   "cell_type": "markdown",
   "metadata": {},
   "source": [
    "리뷰 작성 시각 날짜형식으로 변환"
   ]
  },
  {
   "cell_type": "code",
   "execution_count": 47,
   "metadata": {},
   "outputs": [
    {
     "data": {
      "text/plain": [
       "20230410141648"
      ]
     },
     "execution_count": 47,
     "metadata": {},
     "output_type": "execute_result"
    }
   ],
   "source": [
    "kakao_data['review_time'][0]"
   ]
  },
  {
   "cell_type": "code",
   "execution_count": 48,
   "metadata": {},
   "outputs": [],
   "source": [
    "kakao_data['review_time'] = kakao_data['review_time'].apply(lambda x:datetime.datetime.strptime(str(x), '%Y%m%d%H%M%S'))"
   ]
  },
  {
   "cell_type": "code",
   "execution_count": 49,
   "metadata": {},
   "outputs": [
    {
     "data": {
      "text/plain": [
       "Timestamp('2023-04-10 14:16:48')"
      ]
     },
     "execution_count": 49,
     "metadata": {},
     "output_type": "execute_result"
    }
   ],
   "source": [
    "kakao_data['review_time'][0]"
   ]
  },
  {
   "cell_type": "markdown",
   "metadata": {},
   "source": [
    "결측치 컬럼 확인 후 제거"
   ]
  },
  {
   "cell_type": "code",
   "execution_count": 42,
   "metadata": {},
   "outputs": [
    {
     "data": {
      "text/html": [
       "<div>\n",
       "<style scoped>\n",
       "    .dataframe tbody tr th:only-of-type {\n",
       "        vertical-align: middle;\n",
       "    }\n",
       "\n",
       "    .dataframe tbody tr th {\n",
       "        vertical-align: top;\n",
       "    }\n",
       "\n",
       "    .dataframe thead th {\n",
       "        text-align: right;\n",
       "    }\n",
       "</style>\n",
       "<table border=\"1\" class=\"dataframe\">\n",
       "  <thead>\n",
       "    <tr style=\"text-align: right;\">\n",
       "      <th></th>\n",
       "      <th>id</th>\n",
       "      <th>sellingPrice</th>\n",
       "      <th>wishCount</th>\n",
       "      <th>reviewCount</th>\n",
       "      <th>rating</th>\n",
       "    </tr>\n",
       "  </thead>\n",
       "  <tbody>\n",
       "    <tr>\n",
       "      <th>count</th>\n",
       "      <td>1.922000e+03</td>\n",
       "      <td>1922.000000</td>\n",
       "      <td>1922.000000</td>\n",
       "      <td>1922.000000</td>\n",
       "      <td>1922.000000</td>\n",
       "    </tr>\n",
       "    <tr>\n",
       "      <th>mean</th>\n",
       "      <td>2.384494e+06</td>\n",
       "      <td>27667.637877</td>\n",
       "      <td>2204.285640</td>\n",
       "      <td>661.895942</td>\n",
       "      <td>3.929240</td>\n",
       "    </tr>\n",
       "    <tr>\n",
       "      <th>std</th>\n",
       "      <td>1.210880e+06</td>\n",
       "      <td>10013.266241</td>\n",
       "      <td>1733.916523</td>\n",
       "      <td>516.820952</td>\n",
       "      <td>0.363894</td>\n",
       "    </tr>\n",
       "    <tr>\n",
       "      <th>min</th>\n",
       "      <td>7.586040e+05</td>\n",
       "      <td>7900.000000</td>\n",
       "      <td>2.000000</td>\n",
       "      <td>1.000000</td>\n",
       "      <td>1.000000</td>\n",
       "    </tr>\n",
       "    <tr>\n",
       "      <th>25%</th>\n",
       "      <td>2.144896e+06</td>\n",
       "      <td>25900.000000</td>\n",
       "      <td>973.000000</td>\n",
       "      <td>77.000000</td>\n",
       "      <td>4.000000</td>\n",
       "    </tr>\n",
       "    <tr>\n",
       "      <th>50%</th>\n",
       "      <td>2.270784e+06</td>\n",
       "      <td>27800.000000</td>\n",
       "      <td>2228.000000</td>\n",
       "      <td>1152.000000</td>\n",
       "      <td>4.000000</td>\n",
       "    </tr>\n",
       "    <tr>\n",
       "      <th>75%</th>\n",
       "      <td>2.270784e+06</td>\n",
       "      <td>27800.000000</td>\n",
       "      <td>2228.000000</td>\n",
       "      <td>1152.000000</td>\n",
       "      <td>4.000000</td>\n",
       "    </tr>\n",
       "    <tr>\n",
       "      <th>max</th>\n",
       "      <td>7.280901e+06</td>\n",
       "      <td>85900.000000</td>\n",
       "      <td>5840.000000</td>\n",
       "      <td>1152.000000</td>\n",
       "      <td>4.000000</td>\n",
       "    </tr>\n",
       "  </tbody>\n",
       "</table>\n",
       "</div>"
      ],
      "text/plain": [
       "                 id  sellingPrice    wishCount  reviewCount       rating\n",
       "count  1.922000e+03   1922.000000  1922.000000  1922.000000  1922.000000\n",
       "mean   2.384494e+06  27667.637877  2204.285640   661.895942     3.929240\n",
       "std    1.210880e+06  10013.266241  1733.916523   516.820952     0.363894\n",
       "min    7.586040e+05   7900.000000     2.000000     1.000000     1.000000\n",
       "25%    2.144896e+06  25900.000000   973.000000    77.000000     4.000000\n",
       "50%    2.270784e+06  27800.000000  2228.000000  1152.000000     4.000000\n",
       "75%    2.270784e+06  27800.000000  2228.000000  1152.000000     4.000000\n",
       "max    7.280901e+06  85900.000000  5840.000000  1152.000000     4.000000"
      ]
     },
     "execution_count": 42,
     "metadata": {},
     "output_type": "execute_result"
    }
   ],
   "source": [
    "kakao_data.describe()"
   ]
  },
  {
   "cell_type": "code",
   "execution_count": 50,
   "metadata": {},
   "outputs": [
    {
     "data": {
      "text/plain": [
       "[]    1922\n",
       "Name: product_tag1, dtype: int64"
      ]
     },
     "execution_count": 50,
     "metadata": {},
     "output_type": "execute_result"
    }
   ],
   "source": [
    "kakao_data['product_tag1'].value_counts()"
   ]
  },
  {
   "cell_type": "code",
   "execution_count": 36,
   "metadata": {},
   "outputs": [],
   "source": [
    "kakao_data.drop('product_tag1', axis = 1, inplace=True)"
   ]
  },
  {
   "cell_type": "markdown",
   "metadata": {},
   "source": [
    "tag2는 264개 데이터가 package_gift로 존재"
   ]
  },
  {
   "cell_type": "code",
   "execution_count": 51,
   "metadata": {},
   "outputs": [
    {
     "data": {
      "text/plain": [
       "[]                  1658\n",
       "['PACKAGE_GIFT']     264\n",
       "Name: product_tag2, dtype: int64"
      ]
     },
     "execution_count": 51,
     "metadata": {},
     "output_type": "execute_result"
    }
   ],
   "source": [
    "kakao_data['product_tag2'].value_counts()"
   ]
  },
  {
   "cell_type": "markdown",
   "metadata": {},
   "source": [
    "맞춤법 교정"
   ]
  },
  {
   "cell_type": "code",
   "execution_count": 53,
   "metadata": {},
   "outputs": [],
   "source": [
    "kakao_data['review_text'] = kakao_data['review_text'].apply(lambda x:x.replace('&', ', ') if '&' in x else x)"
   ]
  },
  {
   "cell_type": "code",
   "execution_count": 55,
   "metadata": {},
   "outputs": [],
   "source": [
    "kakao_data['review_text'] = kakao_data['review_text'].apply(lambda x:spell_check_all(x))"
   ]
  },
  {
   "cell_type": "markdown",
   "metadata": {},
   "source": [
    "토큰화"
   ]
  },
  {
   "cell_type": "code",
   "execution_count": 64,
   "metadata": {},
   "outputs": [],
   "source": [
    "kakao_data['token_okt'] = kakao_data['review_text'].apply(lambda x:get_pos(x))"
   ]
  },
  {
   "cell_type": "code",
   "execution_count": 65,
   "metadata": {},
   "outputs": [
    {
     "data": {
      "text/html": [
       "<div>\n",
       "<style scoped>\n",
       "    .dataframe tbody tr th:only-of-type {\n",
       "        vertical-align: middle;\n",
       "    }\n",
       "\n",
       "    .dataframe tbody tr th {\n",
       "        vertical-align: top;\n",
       "    }\n",
       "\n",
       "    .dataframe thead th {\n",
       "        text-align: right;\n",
       "    }\n",
       "</style>\n",
       "<table border=\"1\" class=\"dataframe\">\n",
       "  <thead>\n",
       "    <tr style=\"text-align: right;\">\n",
       "      <th></th>\n",
       "      <th>id</th>\n",
       "      <th>name</th>\n",
       "      <th>brand</th>\n",
       "      <th>sellingPrice</th>\n",
       "      <th>wishCount</th>\n",
       "      <th>reviewCount</th>\n",
       "      <th>product_tag1</th>\n",
       "      <th>product_tag2</th>\n",
       "      <th>review_text</th>\n",
       "      <th>rating</th>\n",
       "      <th>review_tag1</th>\n",
       "      <th>review_tag2</th>\n",
       "      <th>review_time</th>\n",
       "      <th>token_okt</th>\n",
       "    </tr>\n",
       "  </thead>\n",
       "  <tbody>\n",
       "    <tr>\n",
       "      <th>0</th>\n",
       "      <td>2270784</td>\n",
       "      <td>국산 프로폴리스 혼합 천연벌꿀 허니스틱(15스틱) 답례품 비마스터 -23.5</td>\n",
       "      <td>비마스터</td>\n",
       "      <td>27800</td>\n",
       "      <td>2228</td>\n",
       "      <td>1152</td>\n",
       "      <td>[]</td>\n",
       "      <td>[]</td>\n",
       "      <td>숙취 후 아침에 따뜻한 물에 한포 간편히 타먹을 수 있어서 좋더라고요. 스틱형이라 ...</td>\n",
       "      <td>4</td>\n",
       "      <td>응원</td>\n",
       "      <td>직장동료</td>\n",
       "      <td>2023-04-10 14:16:48</td>\n",
       "      <td>[(숙취, Noun), (후, Noun), (아침, Noun), (에, Josa),...</td>\n",
       "    </tr>\n",
       "  </tbody>\n",
       "</table>\n",
       "</div>"
      ],
      "text/plain": [
       "        id                                        name brand  sellingPrice  \\\n",
       "0  2270784  국산 프로폴리스 혼합 천연벌꿀 허니스틱(15스틱) 답례품 비마스터 -23.5  비마스터         27800   \n",
       "\n",
       "   wishCount  reviewCount product_tag1 product_tag2  \\\n",
       "0       2228         1152           []           []   \n",
       "\n",
       "                                         review_text  rating review_tag1  \\\n",
       "0  숙취 후 아침에 따뜻한 물에 한포 간편히 타먹을 수 있어서 좋더라고요. 스틱형이라 ...       4          응원   \n",
       "\n",
       "  review_tag2         review_time  \\\n",
       "0        직장동료 2023-04-10 14:16:48   \n",
       "\n",
       "                                           token_okt  \n",
       "0  [(숙취, Noun), (후, Noun), (아침, Noun), (에, Josa),...  "
      ]
     },
     "execution_count": 65,
     "metadata": {},
     "output_type": "execute_result"
    }
   ],
   "source": [
    "kakao_data.head(1)"
   ]
  },
  {
   "cell_type": "code",
   "execution_count": 66,
   "metadata": {},
   "outputs": [],
   "source": [
    "kakao_data.to_csv(r'C:\\Users\\NT550-048\\Desktop\\잇더\\꿀스틱\\data\\kakao_data_preprocessed.csv')"
   ]
  },
  {
   "cell_type": "code",
   "execution_count": null,
   "metadata": {},
   "outputs": [],
   "source": []
  },
  {
   "cell_type": "code",
   "execution_count": null,
   "metadata": {},
   "outputs": [],
   "source": []
  }
 ],
 "metadata": {
  "kernelspec": {
   "display_name": "doeat",
   "language": "python",
   "name": "python3"
  },
  "language_info": {
   "codemirror_mode": {
    "name": "ipython",
    "version": 3
   },
   "file_extension": ".py",
   "mimetype": "text/x-python",
   "name": "python",
   "nbconvert_exporter": "python",
   "pygments_lexer": "ipython3",
   "version": "3.10.9"
  },
  "orig_nbformat": 4
 },
 "nbformat": 4,
 "nbformat_minor": 2
}
