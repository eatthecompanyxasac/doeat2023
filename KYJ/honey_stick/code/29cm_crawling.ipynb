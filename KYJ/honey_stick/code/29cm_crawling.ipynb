{
 "cells": [
  {
   "attachments": {},
   "cell_type": "markdown",
   "metadata": {},
   "source": [
    "패키지 로드"
   ]
  },
  {
   "cell_type": "code",
   "execution_count": 3,
   "metadata": {},
   "outputs": [],
   "source": [
    "import numpy as np\n",
    "import pandas as pd\n",
    "from selenium import webdriver\n",
    "from selenium.webdriver.chrome.service import Service\n",
    "from selenium.webdriver.common.by import By\n",
    "from selenium.webdriver.common.keys import Keys\n",
    "import time\n",
    "import re\n",
    "import requests\n",
    "from bs4 import BeautifulSoup\n",
    "import urllib.request\n",
    "import json"
   ]
  },
  {
   "cell_type": "markdown",
   "metadata": {},
   "source": [
    "리뷰 수집 함수"
   ]
  },
  {
   "cell_type": "code",
   "execution_count": 2,
   "metadata": {},
   "outputs": [],
   "source": [
    "def review_product(id):\n",
    "    review_temp = []\n",
    "    for page_n in range(page):\n",
    "        url_review = f'https://review-api.29cm.co.kr/api/v4/reviews?itemId={id}&page={page_n}&size=20'\n",
    "        review_page = urllib.request.urlopen(url_review)\n",
    "        review_data = review_page.read().decode('utf-8')\n",
    "        review_data = json.loads(review_data)\n",
    "        for n in range(20):\n",
    "            try:\n",
    "                itemReviewNo = review_data['data']['results'][n]['itemReviewNo']\n",
    "                optionValue = review_data['data']['results'][n]['optionValue']\n",
    "                userId = review_data['data']['results'][n]['userId']\n",
    "                point = review_data['data']['results'][n]['point']\n",
    "                contents = review_data['data']['results'][n]['contents']\n",
    "                reviewType = review_data['data']['results'][n]['reviewType']\n",
    "                registrationType = review_data['data']['results'][n]['registrationType']\n",
    "                isGift = review_data['data']['results'][n]['isGift']\n",
    "                isReported = review_data['data']['results'][n]['isReported']\n",
    "                giftReview = review_data['data']['results'][n]['giftReview']\n",
    "                partnerComment = review_data['data']['results'][n]['partnerComment']\n",
    "                insertTimestamp = review_data['data']['results'][n]['insertTimestamp']\n",
    "                review_temp.append([itemNo, itemName, lastSalePrice, heartCount, reviewCount,\n",
    "                                itemReviewNo, optionValue, userId, point, contents, reviewType,\n",
    "                                registrationType, isGift, isReported, giftReview, partnerComment, insertTimestamp])\n",
    "            except:\n",
    "                continue\n",
    "    return review_temp\n",
    "        "
   ]
  },
  {
   "cell_type": "markdown",
   "metadata": {},
   "source": [
    "상품코드 및 리뷰 크롤링"
   ]
  },
  {
   "cell_type": "code",
   "execution_count": 4,
   "metadata": {},
   "outputs": [
    {
     "name": "stdout",
     "output_type": "stream",
     "text": [
      "1308881 끝! ( 1 / 48 )\n",
      "1571702 끝! ( 2 / 48 )\n",
      "704896 끝! ( 3 / 48 )\n",
      "1830694 끝! ( 4 / 48 )\n",
      "828517 끝! ( 5 / 48 )\n",
      "704893 끝! ( 6 / 48 )\n",
      "2150484 끝! ( 7 / 48 )\n",
      "1571740 끝! ( 8 / 48 )\n",
      "704864 끝! ( 9 / 48 )\n",
      "787434 끝! ( 10 / 48 )\n",
      "1761413 끝! ( 11 / 48 )\n",
      "1764501 끝! ( 12 / 48 )\n",
      "704891 끝! ( 13 / 48 )\n",
      "2150486 끝! ( 14 / 48 )\n",
      "704639 끝! ( 15 / 48 )\n",
      "1587019 끝! ( 16 / 48 )\n",
      "1159441 끝! ( 17 / 48 )\n",
      "751922 끝! ( 18 / 48 )\n",
      "2046019 끝! ( 19 / 48 )\n",
      "704591 끝! ( 20 / 48 )\n",
      "704400 끝! ( 21 / 48 )\n",
      "890469 끝! ( 22 / 48 )\n",
      "704862 끝! ( 23 / 48 )\n",
      "704495 끝! ( 24 / 48 )\n",
      "1321777 끝! ( 25 / 48 )\n",
      "787442 끝! ( 26 / 48 )\n",
      "704664 끝! ( 27 / 48 )\n",
      "1533318 끝! ( 28 / 48 )\n",
      "833978 끝! ( 29 / 48 )\n",
      "2161559 끝! ( 30 / 48 )\n",
      "704858 끝! ( 31 / 48 )\n",
      "787438 끝! ( 32 / 48 )\n",
      "787430 끝! ( 33 / 48 )\n",
      "787426 끝! ( 34 / 48 )\n",
      "787423 끝! ( 35 / 48 )\n",
      "787441 끝! ( 36 / 48 )\n",
      "704688 끝! ( 37 / 48 )\n",
      "1533576 끝! ( 38 / 48 )\n",
      "954061 끝! ( 39 / 48 )\n",
      "1830672 끝! ( 40 / 48 )\n",
      "1970378 끝! ( 41 / 48 )\n",
      "1692080 끝! ( 42 / 48 )\n",
      "1970374 끝! ( 43 / 48 )\n",
      "1830707 끝! ( 44 / 48 )\n",
      "1525472 끝! ( 45 / 48 )\n",
      "1970379 끝! ( 46 / 48 )\n",
      "1970377 끝! ( 47 / 48 )\n",
      "1761417 끝! ( 48 / 48 )\n"
     ]
    }
   ],
   "source": [
    "url_product = f'https://search-api.29cm.co.kr/api/v4/products?keyword=%EC%9B%8C%EC%BB%A4%EB%B9%84&brands=&categoryLargeCode=&categoryMediumCode=&categorySmallCode=&isFreeShipping=&isDiscount=&minPrice=&maxPrice=&colors=&limit=50&offset=0&sort=latest&gender=&excludeSoldOut=' # 페이지 0부터\n",
    "product_page = urllib.request.urlopen(url_product)\n",
    "product_data = product_page.read().decode('utf-8')\n",
    "product_data = json.loads(product_data)\n",
    "product_num = len(product_data['data'])\n",
    "review_list = []\n",
    "for product_n in range(product_num):\n",
    "    itemNo = product_data['data'][product_n]['itemNo']\n",
    "    itemName = product_data['data'][product_n]['itemName']\n",
    "    lastSalePrice = product_data['data'][product_n]['lastSalePrice']\n",
    "    heartCount = product_data['data'][product_n]['heartCount']\n",
    "    reviewCount = product_data['data'][product_n]['reviewCount']\n",
    "    if reviewCount % 20 == 0:\n",
    "        page = int(reviewCount / 20)\n",
    "    else:\n",
    "        page = int(reviewCount / 20) + 1\n",
    "    review_list = review_list + review_product(itemNo)\n",
    "    print(itemNo, \"끝!\", \"(\", product_n+1, \"/\", product_num, \")\")"
   ]
  },
  {
   "cell_type": "code",
   "execution_count": 5,
   "metadata": {},
   "outputs": [],
   "source": [
    "review_df = pd.DataFrame(review_list, columns = ['itemNo', 'itemName', 'lastSalePrice', 'heartCount', 'reviewCount',\n",
    "                                'itemReviewNo', 'optionValue', 'userId', 'point', 'contents', 'reviewType',\n",
    "                                'registrationType', 'isGift', 'isReported', 'giftReview', 'partnerComment', 'insertTimestamp'])"
   ]
  },
  {
   "cell_type": "markdown",
   "metadata": {},
   "source": [
    "데이터 저장"
   ]
  },
  {
   "cell_type": "code",
   "execution_count": 9,
   "metadata": {},
   "outputs": [],
   "source": [
    "review_df.to_csv(r'C:\\Users\\Kwon\\Desktop\\잇더컴퍼니\\꿀스틱\\data\\workerbee_data.csv')"
   ]
  }
 ],
 "metadata": {
  "kernelspec": {
   "display_name": "base",
   "language": "python",
   "name": "python3"
  },
  "language_info": {
   "codemirror_mode": {
    "name": "ipython",
    "version": 3
   },
   "file_extension": ".py",
   "mimetype": "text/x-python",
   "name": "python",
   "nbconvert_exporter": "python",
   "pygments_lexer": "ipython3",
   "version": "3.9.17"
  },
  "orig_nbformat": 4
 },
 "nbformat": 4,
 "nbformat_minor": 2
}
