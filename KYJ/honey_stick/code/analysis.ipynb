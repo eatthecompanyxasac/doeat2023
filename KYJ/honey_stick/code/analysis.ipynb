{
 "cells": [
  {
   "cell_type": "code",
   "execution_count": 1,
   "metadata": {},
   "outputs": [
    {
     "name": "stderr",
     "output_type": "stream",
     "text": [
      "c:\\Users\\Kwon\\anaconda3\\lib\\site-packages\\numpy\\_distributor_init.py:30: UserWarning: loaded more than 1 DLL from .libs:\n",
      "c:\\Users\\Kwon\\anaconda3\\lib\\site-packages\\numpy\\.libs\\libopenblas.EL2C6PLE4ZYW3ECEVIV3OXXGRN2NRFM2.gfortran-win_amd64.dll\n",
      "c:\\Users\\Kwon\\anaconda3\\lib\\site-packages\\numpy\\.libs\\libopenblas64__v0.3.21-gcc_10_3_0.dll\n",
      "  warnings.warn(\"loaded more than 1 DLL from .libs:\"\n"
     ]
    }
   ],
   "source": [
    "import pandas as pd\n",
    "import numpy as np\n",
    "import csv\n",
    "from collections import Counter\n",
    "# 워드클라우드\n",
    "from wordcloud import WordCloud\n",
    "import matplotlib.pyplot as plt\n",
    "from PIL import Image\n",
    "from collections import Counter"
   ]
  },
  {
   "cell_type": "code",
   "execution_count": 42,
   "metadata": {},
   "outputs": [],
   "source": [
    "# 리뷰 출력시 ... 없이 전부 나오게 설정\n",
    "pd.set_option('display.max_colwidth', None)\n",
    "#pd.set_option('display.max_columns', None)\n",
    "#pd.set_option('display.width', None)\n",
    "pd.set_option('display.max_rows', None)"
   ]
  },
  {
   "cell_type": "markdown",
   "metadata": {},
   "source": [
    "### 함수설정"
   ]
  },
  {
   "cell_type": "code",
   "execution_count": 40,
   "metadata": {},
   "outputs": [],
   "source": [
    "def change_token(data, change_dict):\n",
    "    data['token_nouns_bareun'] = data['token_nouns_bareun'].apply(lambda x:[change_tokens_dict[token] if token in change_tokens_dict.keys() else token for token in x])\n",
    "    data['token_verbs_bareun'] = data['token_verbs_bareun'].apply(lambda x:[change_tokens_dict[token] if token in change_tokens_dict.keys() else token for token in x])"
   ]
  },
  {
   "cell_type": "code",
   "execution_count": 34,
   "metadata": {},
   "outputs": [],
   "source": [
    "def kw_rate_list(data, keyword_list):\n",
    "    \n",
    "    for keyword in keyword_list:\n",
    "        print('전체 리뷰', len(data), '건 중 \"', keyword, '\" 가 포함된 리뷰 비율 :', round((len(data[(data['token_nouns_bareun']+data['token_verbs_bareun']).apply(lambda x:keyword in x)]) / len(data))*100, 2), '%')\n",
    "        #return round((len(data[(data['token_nouns_bareun']+data['token_verbs_bareun']).apply(lambda x:keyword in x)]) / len(data))*100, 2)\n",
    "    #return round((len(data[(data['token_nouns_bareun']+data['token_verbs_bareun']).apply(lambda x:keyword in x)]) / len(data))*100, 2)"
   ]
  },
  {
   "cell_type": "code",
   "execution_count": 35,
   "metadata": {},
   "outputs": [],
   "source": [
    "def kw_rate(data, keyword):\n",
    "    return round((len(data[(data['token_nouns_bareun']+data['token_verbs_bareun']).apply(lambda x:keyword in x)]) / len(data)), 4)\n",
    "    #return round((len(data[(data['token_nouns_bareun']+data['token_verbs_bareun']).apply(lambda x:keyword in x)]) / len(data))*100, 2)"
   ]
  },
  {
   "cell_type": "code",
   "execution_count": 41,
   "metadata": {},
   "outputs": [],
   "source": [
    "def kw_in_token(data, keyword):\n",
    "    print('전체 리뷰', len(data), '건 중', \"'\", keyword, \"' 가 포함된 리뷰 총\", len(data[(data['token_nouns_bareun']+data['token_verbs_bareun']).apply(lambda x:keyword in x)]['ReviewText']),'건')\n",
    "    return data[(data['token_nouns_bareun']+data['token_verbs_bareun']).apply(lambda x:keyword in x)]['ReviewText']"
   ]
  },
  {
   "cell_type": "markdown",
   "metadata": {},
   "source": [
    "### 데이터 로드"
   ]
  },
  {
   "cell_type": "code",
   "execution_count": 2,
   "metadata": {},
   "outputs": [],
   "source": [
    "kurly_data = pd.read_csv(r\"C:\\Users\\Kwon\\Desktop\\eatthecompany_project\\doeat2023\\KYJ\\honey_stick\\data\\kurly_data_analysis.csv\", index_col=0)\n",
    "workerbee_data = pd.read_csv(r\"C:\\Users\\Kwon\\Desktop\\eatthecompany_project\\doeat2023\\KYJ\\honey_stick\\data\\workerbee_data_analysis.csv\", index_col=0)\n",
    "kakao_data = pd.read_csv(r\"C:\\Users\\Kwon\\Desktop\\eatthecompany_project\\doeat2023\\KYJ\\honey_stick\\data\\kakao_data_analysis.csv\", index_col=0)"
   ]
  },
  {
   "cell_type": "code",
   "execution_count": 68,
   "metadata": {},
   "outputs": [],
   "source": [
    "for data in [kakao_data, kurly_data, workerbee_data]:\n",
    "    data.drop_duplicates(subset='ReviewText', keep='first', inplace=True)"
   ]
  },
  {
   "cell_type": "code",
   "execution_count": 3,
   "metadata": {},
   "outputs": [],
   "source": [
    "for data in [kakao_data, kurly_data, workerbee_data]:\n",
    "    data['token_nouns_bareun'] = data['token_nouns_bareun'].apply(lambda x: eval(x))\n",
    "    data['token_verbs_bareun'] = data['token_verbs_bareun'].apply(lambda x: eval(x))"
   ]
  },
  {
   "cell_type": "code",
   "execution_count": 11,
   "metadata": {},
   "outputs": [
    {
     "name": "stdout",
     "output_type": "stream",
     "text": [
      "1921개 리뷰 중 '선물' 키워드 포함 리뷰 비율 : 41.8 %\n"
     ]
    }
   ],
   "source": [
    "print(str(len(kakao_data))+'개 리뷰 중', \"'선물' 키워드 포함 리뷰 비율 :\", kw_rate(kakao_data, '선물')*100, '%')"
   ]
  },
  {
   "cell_type": "code",
   "execution_count": 47,
   "metadata": {},
   "outputs": [
    {
     "data": {
      "text/plain": [
       "1221"
      ]
     },
     "execution_count": 47,
     "metadata": {},
     "output_type": "execute_result"
    }
   ],
   "source": [
    "workerbee_data[(workerbee_data['ProductCode']==828517)|(workerbee_data['ProductCode']==1571702)]"
   ]
  },
  {
   "cell_type": "code",
   "execution_count": 50,
   "metadata": {},
   "outputs": [
    {
     "name": "stdout",
     "output_type": "stream",
     "text": [
      "전체 리뷰 109 건 중 \" 고급 \" 가 포함된 리뷰 비율 : 0.0 %\n",
      "전체 리뷰 109 건 중 \" 예쁘다 \" 가 포함된 리뷰 비율 : 37.61 %\n",
      "전체 리뷰 109 건 중 \" 귀엽다 \" 가 포함된 리뷰 비율 : 25.69 %\n"
     ]
    }
   ],
   "source": [
    "kw_rate_list(workerbee_data[(workerbee_data['ProductCode']==1970378)], ['고급', '예쁘다', '귀엽다'])"
   ]
  },
  {
   "cell_type": "code",
   "execution_count": 51,
   "metadata": {},
   "outputs": [
    {
     "name": "stdout",
     "output_type": "stream",
     "text": [
      "전체 리뷰 571 건 중 \" 고급 \" 가 포함된 리뷰 비율 : 1.4 %\n",
      "전체 리뷰 571 건 중 \" 예쁘다 \" 가 포함된 리뷰 비율 : 19.26 %\n",
      "전체 리뷰 571 건 중 \" 귀엽다 \" 가 포함된 리뷰 비율 : 10.33 %\n"
     ]
    }
   ],
   "source": [
    "kw_rate_list(workerbee_data[(workerbee_data['ProductCode']==704639)|(workerbee_data['ProductCode']==704862)|(workerbee_data['ProductCode']==704591)|\n",
    "                            (workerbee_data['ProductCode']==1159441)|(workerbee_data['ProductCode']==704664)|(workerbee_data['ProductCode']==751922)], ['고급', '예쁘다', '귀엽다'])"
   ]
  },
  {
   "cell_type": "code",
   "execution_count": null,
   "metadata": {},
   "outputs": [],
   "source": []
  },
  {
   "cell_type": "markdown",
   "metadata": {},
   "source": [
    "### 불용어 제거"
   ]
  },
  {
   "cell_type": "code",
   "execution_count": 36,
   "metadata": {},
   "outputs": [],
   "source": [
    "change_tokens_dict = {'거트':'요거트', '릭요거트':'요거트', '그릭요거트':'요거트', '이쁘':'예쁘', '패키징':'패키지', '패키':'패키지', '요거트볼':'요거트',\n",
    "                      '요거':'요거트', '꿀요거트':'요거트', '여거트':'요거트', '이뿌':'예쁘', '기엽':'귀엽', '예뿌':'예쁘', '않':'아니', '제주벌꿀':'제주',\n",
    "                      '쥬스':'주스', '맛있':'맛'}"
   ]
  },
  {
   "cell_type": "code",
   "execution_count": 37,
   "metadata": {},
   "outputs": [],
   "source": [
    "rm_nouns = ['것', '씩', 'ㅎ', '거', '저', 'ㅎㅎ', '들', '포', '꿀', '스틱', '구매', '용', '형', '하나', '수', '개', '소',\n",
    "            '번', '1', 'ㅋ', '중', '굿', '분', '요', '편', '듯', '적', '님', '나', '제', '대', '비', '전', '뭐', '몇',\n",
    "            '데', '만', '다', '떼', '날', '꺼', '겸', '점', '이', '성', '이거', 'ㅋㅋㅋㅋ', 'ㅎㅎㅎ', '등', '1', '2', '3', '디', '년',\n",
    "            '그거', '재', '재재재', '벌꿀']#선물"
   ]
  },
  {
   "cell_type": "code",
   "execution_count": 39,
   "metadata": {},
   "outputs": [],
   "source": [
    "rm_verbs = ['하', '이', '있', '먹', '같', '되', '스럽', '지', '좋', '보', '받', '들']"
   ]
  },
  {
   "cell_type": "markdown",
   "metadata": {},
   "source": [
    "불용어 제거"
   ]
  },
  {
   "cell_type": "code",
   "execution_count": 42,
   "metadata": {},
   "outputs": [],
   "source": [
    "for data in [kurly_data, workerbee_data, kakao_data]:\n",
    "    data['token_nouns_bareun'] = data['token_nouns_bareun'].apply(lambda x:[token for token in x if token not in rm_nouns])\n",
    "    data['token_verbs_bareun'] = data['token_verbs_bareun'].apply(lambda x:[token for token in x if token not in rm_verbs])"
   ]
  },
  {
   "cell_type": "markdown",
   "metadata": {},
   "source": [
    "용어 통일"
   ]
  },
  {
   "cell_type": "code",
   "execution_count": 43,
   "metadata": {},
   "outputs": [],
   "source": [
    "for data in [kurly_data, workerbee_data, kakao_data]:\n",
    "    change_token(data, change_tokens_dict)"
   ]
  },
  {
   "cell_type": "code",
   "execution_count": 44,
   "metadata": {},
   "outputs": [],
   "source": [
    "for data in [kurly_data, workerbee_data, kakao_data]:\n",
    "    data['token_verbs_bareun'] = data['token_verbs_bareun'].apply(lambda x:[x_token+'다' for x_token in x])"
   ]
  },
  {
   "cell_type": "code",
   "execution_count": 76,
   "metadata": {},
   "outputs": [
    {
     "data": {
      "text/html": [
       "<div>\n",
       "<style scoped>\n",
       "    .dataframe tbody tr th:only-of-type {\n",
       "        vertical-align: middle;\n",
       "    }\n",
       "\n",
       "    .dataframe tbody tr th {\n",
       "        vertical-align: top;\n",
       "    }\n",
       "\n",
       "    .dataframe thead th {\n",
       "        text-align: right;\n",
       "    }\n",
       "</style>\n",
       "<table border=\"1\" class=\"dataframe\">\n",
       "  <thead>\n",
       "    <tr style=\"text-align: right;\">\n",
       "      <th></th>\n",
       "      <th>ProductCode</th>\n",
       "      <th>ProductName</th>\n",
       "      <th>lastSalePrice</th>\n",
       "      <th>heartCount</th>\n",
       "      <th>reviewCount</th>\n",
       "      <th>itemReviewNo</th>\n",
       "      <th>optionValue</th>\n",
       "      <th>userId</th>\n",
       "      <th>point</th>\n",
       "      <th>ReviewText</th>\n",
       "      <th>isGift</th>\n",
       "      <th>ReviewTime</th>\n",
       "      <th>token_nouns_bareun</th>\n",
       "      <th>token_verbs_bareun</th>\n",
       "      <th>sentiment_label</th>\n",
       "      <th>sentiment_score</th>\n",
       "    </tr>\n",
       "  </thead>\n",
       "  <tbody>\n",
       "    <tr>\n",
       "      <th>0</th>\n",
       "      <td>1308881</td>\n",
       "      <td>[꿀카라멜] 워커비 허니 얼그레이 카라멜 50g</td>\n",
       "      <td>3000</td>\n",
       "      <td>7126</td>\n",
       "      <td>796</td>\n",
       "      <td>6390415</td>\n",
       "      <td>['[구매단위]박스구매(12개입)']</td>\n",
       "      <td>hai***</td>\n",
       "      <td>5</td>\n",
       "      <td>°고마운 일이 생겨, 지인분께 선물로도 드리고~ 나도 먹고! 재주문 했어요~, 포장이 너무 귀엽! 얼그레이 향이 진하게 코 끝에!</td>\n",
       "      <td>F</td>\n",
       "      <td>2023-08-11 05:42:48</td>\n",
       "      <td>[일, 지인, 선물, 주문, 포장, 귀엽, 얼그레이, 향, 코, 끝]</td>\n",
       "      <td>[고맙다, 생기다, 드리다, 진하다]</td>\n",
       "      <td>1</td>\n",
       "      <td>0.994407</td>\n",
       "    </tr>\n",
       "  </tbody>\n",
       "</table>\n",
       "</div>"
      ],
      "text/plain": [
       "   ProductCode                 ProductName  lastSalePrice  heartCount  \\\n",
       "0      1308881  [꿀카라멜] 워커비 허니 얼그레이 카라멜 50g           3000        7126   \n",
       "\n",
       "   reviewCount  itemReviewNo           optionValue  userId  point  \\\n",
       "0          796       6390415  ['[구매단위]박스구매(12개입)']  hai***      5   \n",
       "\n",
       "                                                                 ReviewText  \\\n",
       "0  °고마운 일이 생겨, 지인분께 선물로도 드리고~ 나도 먹고! 재주문 했어요~, 포장이 너무 귀엽! 얼그레이 향이 진하게 코 끝에!   \n",
       "\n",
       "  isGift           ReviewTime                      token_nouns_bareun  \\\n",
       "0      F  2023-08-11 05:42:48  [일, 지인, 선물, 주문, 포장, 귀엽, 얼그레이, 향, 코, 끝]   \n",
       "\n",
       "     token_verbs_bareun  sentiment_label  sentiment_score  \n",
       "0  [고맙다, 생기다, 드리다, 진하다]                1         0.994407  "
      ]
     },
     "execution_count": 76,
     "metadata": {},
     "output_type": "execute_result"
    }
   ],
   "source": [
    "workerbee_data.head(1)"
   ]
  },
  {
   "cell_type": "code",
   "execution_count": 26,
   "metadata": {},
   "outputs": [
    {
     "data": {
      "text/html": [
       "<div>\n",
       "<style scoped>\n",
       "    .dataframe tbody tr th:only-of-type {\n",
       "        vertical-align: middle;\n",
       "    }\n",
       "\n",
       "    .dataframe tbody tr th {\n",
       "        vertical-align: top;\n",
       "    }\n",
       "\n",
       "    .dataframe thead th {\n",
       "        text-align: right;\n",
       "    }\n",
       "</style>\n",
       "<table border=\"1\" class=\"dataframe\">\n",
       "  <thead>\n",
       "    <tr style=\"text-align: right;\">\n",
       "      <th></th>\n",
       "      <th>ProductCode</th>\n",
       "      <th>ProductName</th>\n",
       "      <th>lastSalePrice</th>\n",
       "      <th>optionValue</th>\n",
       "      <th>userId</th>\n",
       "      <th>point</th>\n",
       "      <th>ReviewText</th>\n",
       "      <th>ReviewTime</th>\n",
       "      <th>token_nouns_bareun</th>\n",
       "      <th>token_verbs_bareun</th>\n",
       "      <th>sentiment_label</th>\n",
       "      <th>sentiment_score</th>\n",
       "    </tr>\n",
       "  </thead>\n",
       "  <tbody>\n",
       "    <tr>\n",
       "      <th>0</th>\n",
       "      <td>1308881</td>\n",
       "      <td>[꿀카라멜] 워커비 허니 얼그...</td>\n",
       "      <td>3000</td>\n",
       "      <td>['[구매단위]박스구매(12개...</td>\n",
       "      <td>hai***</td>\n",
       "      <td>5</td>\n",
       "      <td>°고마운 일이 생겨, 지인분께...</td>\n",
       "      <td>2023-08-11 05:42:48</td>\n",
       "      <td>[일, 지인, 선물, 재, 주...</td>\n",
       "      <td>[고맙, 생기, 드리, 진하]</td>\n",
       "      <td>1</td>\n",
       "      <td>0.994407</td>\n",
       "    </tr>\n",
       "  </tbody>\n",
       "</table>\n",
       "</div>"
      ],
      "text/plain": [
       "   ProductCode          ProductName  lastSalePrice          optionValue  \\\n",
       "0      1308881  [꿀카라멜] 워커비 허니 얼그...           3000  ['[구매단위]박스구매(12개...   \n",
       "\n",
       "   userId  point           ReviewText           ReviewTime  \\\n",
       "0  hai***      5  °고마운 일이 생겨, 지인분께...  2023-08-11 05:42:48   \n",
       "\n",
       "    token_nouns_bareun token_verbs_bareun  sentiment_label  sentiment_score  \n",
       "0  [일, 지인, 선물, 재, 주...   [고맙, 생기, 드리, 진하]                1         0.994407  "
      ]
     },
     "execution_count": 26,
     "metadata": {},
     "output_type": "execute_result"
    }
   ],
   "source": [
    "workerbee_data.drop(['heartCount','reviewCount','itemReviewNo','isGift'], axis=1).head(1)"
   ]
  },
  {
   "cell_type": "code",
   "execution_count": 17,
   "metadata": {},
   "outputs": [
    {
     "data": {
      "text/plain": [
       "46"
      ]
     },
     "execution_count": 17,
     "metadata": {},
     "output_type": "execute_result"
    }
   ],
   "source": [
    "len(workerbee_data['ProductCode'].unique())"
   ]
  },
  {
   "cell_type": "code",
   "execution_count": 54,
   "metadata": {},
   "outputs": [],
   "source": [
    "#friend = ['친구']['팀원', '동료']['남편']['스승', '선생']['동생', '언니']['조카']\n",
    "same = ['친구','동생','베프','여친','남친','동료','누나','오빠','청년', '젊은', '20대', '30대', '연인', '남편', '팀원', '언니'] #1 또래\n",
    "over = ['스승', '삼촌','이모','고모','상사','엄마','어머니', '아빠','아버지','할아버지', '할머니', '부모','조부모','어른','어르신','시부모','시어머','시아버'] # 2 어른\n",
    "under = ['어린이', '아이', '자녀', '아들', '딸','아기','애기', '조카'] # 3 아이"
   ]
  },
  {
   "cell_type": "code",
   "execution_count": 60,
   "metadata": {},
   "outputs": [],
   "source": [
    "def age_find(token_list):\n",
    "    age = 0\n",
    "    for i in under:\n",
    "        if i in token_list:\n",
    "            age = 1\n",
    "            continue\n",
    "    for i in over:\n",
    "        if i in token_list:\n",
    "            age = 2\n",
    "            continue\n",
    "    for i in same:\n",
    "        if i in token_list:\n",
    "            age = 3\n",
    "            continue\n",
    "    return age"
   ]
  },
  {
   "cell_type": "code",
   "execution_count": 56,
   "metadata": {},
   "outputs": [],
   "source": [
    "workerbee_data['token'] = workerbee_data['token_nouns_bareun']+workerbee_data['token_verbs_bareun']"
   ]
  },
  {
   "cell_type": "code",
   "execution_count": 63,
   "metadata": {},
   "outputs": [],
   "source": [
    "workerbee_data['age_label'] = workerbee_data['token'].apply(lambda x:age_find(x))"
   ]
  },
  {
   "cell_type": "code",
   "execution_count": 65,
   "metadata": {},
   "outputs": [],
   "source": [
    "workerbee_data.to_excel(r'C:\\Users\\Kwon\\Desktop\\eatthecompany_project\\doeat2023\\KYJ\\honey_stick\\analysis\\workerbee_age_label.xlsx')"
   ]
  },
  {
   "cell_type": "code",
   "execution_count": 85,
   "metadata": {},
   "outputs": [
    {
     "name": "stdout",
     "output_type": "stream",
     "text": [
      "전체 리뷰 10476 건 중 ' 선생 ' 가 포함된 리뷰 총 21 건\n"
     ]
    },
    {
     "data": {
      "text/plain": [
       "3738                                           토마토랑 갈아먹을려고 샀어요 딱 한잔분량이라 간편해요 트레이너 선생님이 꿀은 살 안 찐대요\n",
       "5664                                                                         어린이집 선생님들께 선물했는데 좋아요\n",
       "5916                                                    어린이집 졸업을 앞두고 8개 각각 선생님들 선물로 샀는데 좋을것같아요 ^^\n",
       "8140                                                   유치원선생님께 선물드렸어요 포장도 예쁘고 가볍게 드리기 좋은 선물구성인듯해요\n",
       "8141                                                                             우리 아이 돌봄 선생님께 선물\n",
       "8176     선생님께 선물했는데 너무 감사하다며 이렇게 찍어보내셨더라고여^^  먹어보지는 않았지만 후기가 좋아서  믿고 구매해서 선물 했어요~  드리면서도 좋더라고여^^ \n",
       "8308                                                                                  얼집선생님 명절선물용\n",
       "8310                                                                    이쁘게포장되어와서 선생님들. 이모님께 돌렸어요\n",
       "8327                                                                       선생님 선물 드리려고 샀어요 좀 작긴해요\n",
       "8329                                                어린이집 선생님 명절 선물로 구매했어요. 기분좋은 선물이 된것 같아 뿌듯합니다!!\n",
       "8397                                                          어린이집 선생님들께 드리려고 샀는데 후기가 좋아서 다행이에요~~\n",
       "8460                                                  크기도 적당하고 가격대도 부담스럽지 않아 어린이집 선생님께 드렸어요. 좋아요.\n",
       "8571                                                                               스승의날 선생님 선물했어요\n",
       "8653                                                                               방문 선생님 선물 드렸어요\n",
       "8688                                                                               얼집선생님 선물로 좋았으요\n",
       "8736                                                                     선생님 명절 선물로 드리기 좋은것 같아요^^\n",
       "8739                                                                얼집선생님 선물용으로 구매했는데 패키지가 넘 예쁘네요\n",
       "8826                                                           목을 많이쓰는 선생님께 추석선물로 드렸어요~맘에들어하시네요^^\n",
       "8827                                                              아이들 선생님께 선물했어요~ 산뜻한 포장이 맘에드네요^^\n",
       "9653                   김재호선생님이 정성스럽게 완성하셔서 가격이 있나봐요 ㅠ 할인해서 더 구매합니다 청소년 아들은 맛이 다르다는데  전 똑같은 꿀 같아요 \n",
       "10420                                                              집에오시는 아이들 과외선생님들께 하나씩 드리기도좋아요.\n",
       "Name: ReviewText, dtype: object"
      ]
     },
     "execution_count": 85,
     "metadata": {},
     "output_type": "execute_result"
    }
   ],
   "source": [
    "kw_in_token(kurly_data, '선생')"
   ]
  },
  {
   "cell_type": "code",
   "execution_count": null,
   "metadata": {},
   "outputs": [],
   "source": []
  }
 ],
 "metadata": {
  "kernelspec": {
   "display_name": "doeat",
   "language": "python",
   "name": "python3"
  },
  "language_info": {
   "codemirror_mode": {
    "name": "ipython",
    "version": 3
   },
   "file_extension": ".py",
   "mimetype": "text/x-python",
   "name": "python",
   "nbconvert_exporter": "python",
   "pygments_lexer": "ipython3",
   "version": "3.8.8"
  },
  "orig_nbformat": 4
 },
 "nbformat": 4,
 "nbformat_minor": 2
}
