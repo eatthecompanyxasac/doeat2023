{
 "cells": [
  {
   "attachments": {},
   "cell_type": "markdown",
   "metadata": {},
   "source": [
    "# 패키지 로드"
   ]
  },
  {
   "cell_type": "code",
   "execution_count": 51,
   "metadata": {},
   "outputs": [],
   "source": [
    "import numpy as np\n",
    "import pandas as pd\n",
    "from selenium import webdriver\n",
    "from selenium.webdriver.chrome.service import Service\n",
    "from selenium.webdriver.common.by import By\n",
    "from selenium.webdriver.common.keys import Keys\n",
    "import re\n",
    "import time\n",
    "import requests\n",
    "import csv"
   ]
  },
  {
   "cell_type": "markdown",
   "metadata": {},
   "source": [
    "# 기본 함수 설정"
   ]
  },
  {
   "cell_type": "markdown",
   "metadata": {},
   "source": [
    "상품코드 추출 함수"
   ]
  },
  {
   "cell_type": "code",
   "execution_count": 14,
   "metadata": {},
   "outputs": [],
   "source": [
    "def goodsno_list(goodsno):\n",
    "    goodsno = []\n",
    "    num_goods = int(re.findall(r'\\d+', driver.find_element(By.XPATH, '/html/body/div/div[3]/div/div/div/div[2]/div[1]/div').text)[0])\n",
    "    # 상품 페이지 수 계산\n",
    "    if num_goods % 12 == 0:\n",
    "        goods_page = num_goods / 12\n",
    "    else:\n",
    "        goods_page = int(num_goods / 12) + 1\n",
    "    # 상품코드 추출\n",
    "    for page_no in range(1, goods_page+1):\n",
    "        url_goodsno = f'https://www.kurly.com/search?sword={keyword}&page={page_no}&filters=category%{category}'\n",
    "        driver.get(url_goodsno)\n",
    "        time.sleep(1)\n",
    "        if page_no == goods_page:\n",
    "            for num in range(1, (num_goods%12)+1):\n",
    "                goodsno_num = re.findall(r'\\d+', driver.find_element(By.XPATH, f'/html/body/div/div[3]/div/div/div/div[2]/div[3]/a[{num}]').get_attribute('href'))[0]\n",
    "                goodsno.append(goodsno_num)\n",
    "        else:\n",
    "            for num in range(1, 10):\n",
    "                goodsno_num = re.findall(r'\\d+', driver.find_element(By.XPATH, f'/html/body/div/div[3]/div/div/div/div[2]/div[3]/a[{num}]').get_attribute('href'))[0]\n",
    "                goodsno.append(goodsno_num)\n",
    "    return goodsno"
   ]
  },
  {
   "cell_type": "markdown",
   "metadata": {},
   "source": [
    "리뷰 추출 함수"
   ]
  },
  {
   "cell_type": "code",
   "execution_count": 32,
   "metadata": {},
   "outputs": [],
   "source": [
    "# 제품별 리뷰 추출\n",
    "def review_list(good, review):\n",
    "    url = f'https://www.kurly.com/goods/{good}'\n",
    "    driver.get(url)\n",
    "    time.sleep(4)\n",
    "    # 리뷰 수 추출\n",
    "    review_tot_temp = re.findall(r'\\d+', driver.find_element(By.XPATH, '/html/body/div/div/div[3]/div[2]/nav/ul/li[3]/a/span[2]').text)\n",
    "    review_tot = int(''.join(review_tot_temp))\n",
    "    review_in_page = 10\n",
    "    if review_tot%10 == 0:\n",
    "        page_review = int(review_tot/10)\n",
    "        lastpage_review = 10\n",
    "    else:\n",
    "        page_review = int(review_tot/10) + 1\n",
    "        lastpage_review = review_tot%10\n",
    "    # 크롤링\n",
    "    for _ in range(page_review):\n",
    "        if _ == (page_review-1):\n",
    "            review_in_page = lastpage_review\n",
    "        for n in range(4, 4+review_in_page):\n",
    "            try:\n",
    "                name = driver.find_element(By.XPATH, f'/html/body/div/div/div[3]/div[2]/div/div[3]/section/div[2]/div[{n}]/div/div/span[3]').text\n",
    "                grade = driver.find_element(By.XPATH, f'/html/body/div/div/div[3]/div[2]/div/div[3]/section/div[2]/div[{n}]/div/div/span[2]').text\n",
    "            except:\n",
    "                name = driver.find_element(By.XPATH, f'/html/body/div/div/div[3]/div[2]/div/div[3]/section/div[2]/div[{n}]/div/div/span[2]').text\n",
    "                grade = driver.find_element(By.XPATH, f'/html/body/div/div/div[3]/div[2]/div/div[3]/section/div[2]/div[{n}]/div/div/span[1]').text\n",
    "            menu = driver.find_element(By.XPATH, f'/html/body/div/div/div[3]/div[2]/div/div[3]/section/div[2]/div[{n}]/article/div/div/h3').text\n",
    "            review_txt = driver.find_element(By.XPATH, f'/html/body/div/div/div[3]/div[2]/div/div[3]/section/div[2]/div[{n}]/article/div/p').text\n",
    "            review_date = driver.find_element(By.XPATH, f'/html/body/div/div/div[3]/div[2]/div/div[3]/section/div[2]/div[{n}]/article/div/footer/div/span').text\n",
    "            try:\n",
    "                like = int(re.findall(r'\\d+', driver.find_element(By.XPATH, f'/html/body/div/div/div[3]/div[2]/div/div[3]/section/div[2]/div[{n}]/article/div/footer/button/span[2]').text)[0])\n",
    "            except:\n",
    "                like = 0\n",
    "            review.append([good, grade, name, menu, review_txt, review_date, like])\n",
    "        if _ != (page_review-1):\n",
    "            driver.find_element(By.XPATH, '/html/body/div/div/div[3]/div[2]/div/div[3]/section/div[2]/div[14]/button[2]').click()\n",
    "            time.sleep(1)"
   ]
  },
  {
   "cell_type": "markdown",
   "metadata": {},
   "source": [
    "# 리뷰 수집"
   ]
  },
  {
   "cell_type": "markdown",
   "metadata": {},
   "source": [
    "키워드 및 카테고리 설정"
   ]
  },
  {
   "cell_type": "code",
   "execution_count": 13,
   "metadata": {},
   "outputs": [],
   "source": [
    "keyword = '솥밥'\n",
    "category = '3A911006'\n",
    "path = r\"C:/Users/NT550-048/Desktop/chromedriver.exe\"\n",
    "url_goodsno = f'https://www.kurly.com/search?sword={keyword}&page=1&filters=category%{category}'"
   ]
  },
  {
   "cell_type": "markdown",
   "metadata": {},
   "source": [
    "상품코드 추출"
   ]
  },
  {
   "cell_type": "code",
   "execution_count": 44,
   "metadata": {},
   "outputs": [],
   "source": [
    "# test\n",
    "s = Service(path)\n",
    "driver = webdriver.Chrome(service=s)\n",
    "driver.get(url_goodsno)\n",
    "time.sleep(2)\n",
    "goodsno = goodsno_list(goodsno)"
   ]
  },
  {
   "cell_type": "markdown",
   "metadata": {},
   "source": [
    "상품리뷰 추출"
   ]
  },
  {
   "cell_type": "code",
   "execution_count": null,
   "metadata": {},
   "outputs": [],
   "source": [
    "review = []\n",
    "for good in goodsno:\n",
    "    review_list(good, review)"
   ]
  },
  {
   "cell_type": "markdown",
   "metadata": {},
   "source": [
    "데이터프레임 저장"
   ]
  },
  {
   "cell_type": "code",
   "execution_count": 46,
   "metadata": {},
   "outputs": [],
   "source": [
    "review_df = pd.DataFrame(review, columns = ['ProductCode', 'MemberGrade', 'MemberName', 'ProductName', 'ReviewText', 'ReviewDate', 'ReviewLike'])"
   ]
  },
  {
   "cell_type": "markdown",
   "metadata": {},
   "source": [
    "csv파일로 저장"
   ]
  },
  {
   "cell_type": "code",
   "execution_count": 48,
   "metadata": {},
   "outputs": [],
   "source": [
    "review_df.to_csv('C:/Users/NT550-048/Desktop/잇더/temp.csv')"
   ]
  },
  {
   "cell_type": "code",
   "execution_count": null,
   "metadata": {},
   "outputs": [],
   "source": [
    "# csv 저장/로드 오류시 사용\n",
    "import csv\n",
    "review_df.to_csv('C:/Users/NT550-048/Desktop/잇더/temp.csv', doublequote=False, escapechar='\"', quoting=csv.QUOTE_NONE)"
   ]
  }
 ],
 "metadata": {
  "kernelspec": {
   "display_name": "base",
   "language": "python",
   "name": "python3"
  },
  "language_info": {
   "codemirror_mode": {
    "name": "ipython",
    "version": 3
   },
   "file_extension": ".py",
   "mimetype": "text/x-python",
   "name": "python",
   "nbconvert_exporter": "python",
   "pygments_lexer": "ipython3",
   "version": "3.10.9"
  },
  "orig_nbformat": 4
 },
 "nbformat": 4,
 "nbformat_minor": 2
}
