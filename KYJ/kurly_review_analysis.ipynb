{
 "cells": [
  {
   "cell_type": "markdown",
   "metadata": {},
   "source": [
    "패키지 로드"
   ]
  },
  {
   "cell_type": "code",
   "execution_count": 43,
   "metadata": {},
   "outputs": [],
   "source": [
    "import torch\n",
    "import pandas as pd\n",
    "import numpy as np\n",
    "import csv\n",
    "from hanspell import spell_checker\n",
    "from collections import Counter\n",
    "# 한국어 형태소 분석\n",
    "from konlpy.tag import Okt, Hannanum, Kkma, Mecab, Komoran\n",
    "# 워드클라우드\n",
    "from wordcloud import WordCloud\n",
    "import matplotlib.pyplot as plt\n",
    "from PIL import Image\n",
    "from collections import Counter"
   ]
  },
  {
   "cell_type": "markdown",
   "metadata": {},
   "source": [
    "데이터 불러오기"
   ]
  },
  {
   "cell_type": "code",
   "execution_count": 1,
   "metadata": {},
   "outputs": [],
   "source": [
    "file_path = \"C:/Users/NT550-048/Desktop/잇더/data/data_kurly_0724.csv\""
   ]
  },
  {
   "cell_type": "code",
   "execution_count": 4,
   "metadata": {},
   "outputs": [],
   "source": [
    "data_kurly = pd.read_csv(file_path, index_col = 0)"
   ]
  },
  {
   "cell_type": "markdown",
   "metadata": {},
   "source": [
    "데이터프레임 중 리스트 형식 문자열로 불러와질때 사용"
   ]
  },
  {
   "cell_type": "code",
   "execution_count": 50,
   "metadata": {},
   "outputs": [],
   "source": [
    "data_kurly['tokens_noStem'] = data_kurly['tokens_noStem'].apply(lambda x:eval(x))"
   ]
  },
  {
   "cell_type": "markdown",
   "metadata": {},
   "source": [
    "# 토큰화 (원형 살려서)\n",
    "- stem : false"
   ]
  },
  {
   "cell_type": "code",
   "execution_count": 5,
   "metadata": {},
   "outputs": [],
   "source": [
    "def token_pos(x):\n",
    "    tagger = Okt()\n",
    "    tokened = tagger.pos(x)\n",
    "    #tokened = tagger.pos(x, norm = True, stem = True)\n",
    "    return tokened"
   ]
  },
  {
   "cell_type": "code",
   "execution_count": 6,
   "metadata": {},
   "outputs": [],
   "source": [
    "# 튜플 리스트 받아서 명사/동사/형용사만 추출\n",
    "# word_class = ['Noun', 'Verb', 'Adjective']\n",
    "def token_select(token_tuple_list, word_class):\n",
    "    selected_token = []\n",
    "    for token_review in token_tuple_list:\n",
    "        if token_review[1] in word_class:\n",
    "            selected_token.append(token_review[0])\n",
    "    return selected_token"
   ]
  },
  {
   "cell_type": "markdown",
   "metadata": {},
   "source": [
    "원형 살리지 않고 토큰화한 컬럼 추가"
   ]
  },
  {
   "cell_type": "code",
   "execution_count": 59,
   "metadata": {},
   "outputs": [],
   "source": [
    "data_kurly['tokens_noStem'] = data_kurly['fixed_ReviewText'].apply(lambda x:token_pos(x))"
   ]
  },
  {
   "cell_type": "markdown",
   "metadata": {},
   "source": [
    "토큰 중 품사 선택"
   ]
  },
  {
   "cell_type": "code",
   "execution_count": 52,
   "metadata": {},
   "outputs": [],
   "source": [
    "word_class = ['Noun', 'Verb', 'Adjective']\n",
    "data_kurly['token_noStem'] = data_kurly['tokens_noStem'].apply(lambda x:token_select(x, word_class))"
   ]
  },
  {
   "cell_type": "markdown",
   "metadata": {},
   "source": [
    "# 빈도분석"
   ]
  },
  {
   "cell_type": "markdown",
   "metadata": {},
   "source": [
    "긍정리뷰 빈도분석"
   ]
  },
  {
   "cell_type": "code",
   "execution_count": 58,
   "metadata": {},
   "outputs": [
    {
     "data": {
      "text/plain": [
       "[('맛있어요', 2206),\n",
       " ('맛', 1834),\n",
       " ('솥밥', 1783),\n",
       " ('구매', 1291),\n",
       " ('좋아요', 1286),\n",
       " ('잘', 1255),\n",
       " ('전복', 1193),\n",
       " ('밥', 1184),\n",
       " ('더', 1089),\n",
       " ('해', 1003),\n",
       " ('먹었어요', 967),\n",
       " ('거', 954),\n",
       " ('맛있게', 939),\n",
       " ('해서', 865),\n",
       " ('한', 840),\n",
       " ('재구매', 828),\n",
       " ('것', 734),\n",
       " ('좀', 710),\n",
       " ('했어요', 703),\n",
       " ('키트', 664),\n",
       " ('같아요', 627),\n",
       " ('수', 601),\n",
       " ('안', 600),\n",
       " ('먹기', 580),\n",
       " ('후기', 570),\n",
       " ('쌀', 568),\n",
       " ('때', 567),\n",
       " ('했는데', 559),\n",
       " ('추가', 543),\n",
       " ('주문', 541),\n",
       " ('맛있네요', 518),\n",
       " ('간편하고', 514),\n",
       " ('육수', 510),\n",
       " ('맛있어서', 499),\n",
       " ('끼', 488),\n",
       " ('미나리', 484),\n",
       " ('할', 483),\n",
       " ('정말', 476),\n",
       " ('입니다', 458),\n",
       " ('먹을', 457),\n",
       " ('또', 439),\n",
       " ('먹어', 439),\n",
       " ('기대', 430),\n",
       " ('조금', 417),\n",
       " ('양', 413),\n",
       " ('진짜', 412),\n",
       " ('요', 395),\n",
       " ('간편하게', 378),\n",
       " ('도미', 367),\n",
       " ('간장', 365),\n",
       " ('자주', 365),\n",
       " ('있어서', 362),\n",
       " ('넣고', 361),\n",
       " ('합니다', 360),\n",
       " ('좋네요', 352),\n",
       " ('먹었습니다', 351),\n",
       " ('생각', 341),\n",
       " ('아이', 332),\n",
       " ('있어요', 331),\n",
       " ('소스', 331),\n",
       " ('저', 330),\n",
       " ('먹는', 323),\n",
       " ('간이', 316),\n",
       " ('두', 306),\n",
       " ('맛있었어요', 302),\n",
       " ('집', 302),\n",
       " ('고기', 302),\n",
       " ('보고', 296),\n",
       " ('전기밥솥', 285),\n",
       " ('먹고', 282),\n",
       " ('번', 269),\n",
       " ('먹으니', 265),\n",
       " ('좋아서', 264),\n",
       " ('하면', 257),\n",
       " ('맛있고', 256),\n",
       " ('전', 253),\n",
       " ('먹으면', 246),\n",
       " ('먹었는데', 245),\n",
       " ('추천', 244),\n",
       " ('양념장', 241),\n",
       " ('아주', 241),\n",
       " ('처음', 241),\n",
       " ('중', 237),\n",
       " ('게', 236),\n",
       " ('구입', 236),\n",
       " ('물', 231),\n",
       " ('살짝', 231),\n",
       " ('정도', 230),\n",
       " ('맛있는', 230),\n",
       " ('문어', 226),\n",
       " ('듯', 225),\n",
       " ('개', 222),\n",
       " ('조리', 221),\n",
       " ('향', 220),\n",
       " ('사', 216),\n",
       " ('않고', 216),\n",
       " ('하는', 216),\n",
       " ('재', 212),\n",
       " ('재료', 211),\n",
       " ('리소토', 211),\n",
       " ('의사', 209),\n",
       " ('있는', 208),\n",
       " ('밀', 206),\n",
       " ('다른', 205),\n",
       " ('먹어도', 204),\n",
       " ('일', 204),\n",
       " ('해요', 203),\n",
       " ('해먹', 201),\n",
       " ('인분', 198),\n",
       " ('그냥', 197),\n",
       " ('괜찮아요', 194),\n",
       " ('좋고', 192),\n",
       " ('룸', 191),\n",
       " ('편하고', 188),\n",
       " ('버섯', 185),\n",
       " ('먹어요', 184),\n",
       " ('있어', 184),\n",
       " ('좋았어요', 178),\n",
       " ('다음', 177),\n",
       " ('생선', 175),\n",
       " ('제품', 174),\n",
       " ('치즈', 171),\n",
       " ('양념', 170),\n",
       " ('봤는데', 170),\n",
       " ('봤어요', 170),\n",
       " ('가격', 170),\n",
       " ('남편', 167),\n",
       " ('좋을', 167),\n",
       " ('요리', 166),\n",
       " ('만들기', 164),\n",
       " ('하나', 163),\n",
       " ('비벼', 163),\n",
       " ('컬리', 162),\n",
       " ('간도', 161),\n",
       " ('밥솥', 159),\n",
       " ('건강한', 158),\n",
       " ('이', 157),\n",
       " ('좋은', 156),\n",
       " ('시켜', 154),\n",
       " ('최고', 154),\n",
       " ('간단하게', 154),\n",
       " ('약간', 153),\n",
       " ('소고기', 152),\n",
       " ('가끔', 151),\n",
       " ('넣어', 149),\n",
       " ('맛있습니다', 148),\n",
       " ('느낌', 148),\n",
       " ('바질', 148),\n",
       " ('반찬', 143),\n",
       " ('냄비', 141),\n",
       " ('만들어', 141),\n",
       " ('넣어서', 140),\n",
       " ('사서', 137),\n",
       " ('간단하고', 134),\n",
       " ('가족', 134),\n",
       " ('쉽고', 134),\n",
       " ('하기', 133),\n",
       " ('제', 131),\n",
       " ('솥', 130),\n",
       " ('비리', 129),\n",
       " ('오', 128),\n",
       " ('샀어요', 127),\n",
       " ('하니', 126),\n",
       " ('인', 123),\n",
       " ('있습니다', 122),\n",
       " ('되네요', 122),\n",
       " ('맛있다고', 122),\n",
       " ('좋아해서', 121),\n",
       " ('냄새', 121),\n",
       " ('종종', 120),\n",
       " ('양도', 120),\n",
       " ('돼요', 120),\n",
       " ('맛있을', 120),\n",
       " ('사봤어요', 119),\n",
       " ('된', 119),\n",
       " ('굿', 118),\n",
       " ('괜찮았어요', 118),\n",
       " ('좋습니다', 116),\n",
       " ('레시피', 116),\n",
       " ('컵', 115),\n",
       " ('못', 114),\n",
       " ('했습니다', 113),\n",
       " ('먹어서', 112),\n",
       " ('됩니다', 112),\n",
       " ('입맛', 112),\n",
       " ('한번', 112),\n",
       " ('이번', 111),\n",
       " ('하고', 106),\n",
       " ('식사', 106),\n",
       " ('나고', 106),\n",
       " ('있고', 105),\n",
       " ('편하게', 105),\n",
       " ('설명', 104),\n",
       " ('간편해서', 104),\n",
       " ('되어', 104),\n",
       " ('살', 104),\n",
       " ('간', 103),\n",
       " ('뚝딱', 102),\n",
       " ('괜찮네요', 101),\n",
       " ('해도', 101),\n",
       " ('완성', 101),\n",
       " ('가지', 100),\n",
       " ('좋겠어요', 100),\n",
       " ('쪽파', 99),\n",
       " ('콜린스', 99),\n",
       " ('해물', 97),\n",
       " ('항상', 96),\n",
       " ('건강', 96),\n",
       " ('매장', 96),\n",
       " ('세', 95),\n",
       " ('김', 94),\n",
       " ('예정', 94),\n",
       " ('건', 94),\n",
       " ('온', 93),\n",
       " ('음식', 93),\n",
       " ('만', 93),\n",
       " ('먹었네요', 92),\n",
       " ('비린', 91),\n",
       " ('만들어서', 91),\n",
       " ('누룽지', 91),\n",
       " ('할인', 88),\n",
       " ('들기름', 87),\n",
       " ('비린내', 86),\n",
       " ('필요', 86),\n",
       " ('좋아', 85),\n",
       " ('손님', 84),\n",
       " ('달래', 84),\n",
       " ('바로', 83),\n",
       " ('냉동', 82),\n",
       " ('사진', 82),\n",
       " ('꼭', 82),\n",
       " ('엄마', 81),\n",
       " ('손질', 81),\n",
       " ('하게', 80),\n",
       " ('편해요', 79),\n",
       " ('먹음', 79),\n",
       " ('가서', 79),\n",
       " ('좋아하는데', 78),\n",
       " ('명', 78),\n",
       " ('나서', 78),\n",
       " ('별로', 78),\n",
       " ('좋아하는', 77),\n",
       " ('별미', 77),\n",
       " ('준비', 77),\n",
       " ('아침', 76),\n",
       " ('둘', 76),\n",
       " ('하려고요', 76),\n",
       " ('되는', 76),\n",
       " ('고소하고', 76),\n",
       " ('감칠맛', 75),\n",
       " ('반', 75),\n",
       " ('여러', 75),\n",
       " ('걱정', 75),\n",
       " ('조절', 75),\n",
       " ('않아요', 75),\n",
       " ('나게', 75),\n",
       " ('몇', 74),\n",
       " ('먹으려고', 74),\n",
       " ('했더니', 73),\n",
       " ('분', 73),\n",
       " ('걸', 73),\n",
       " ('양은', 73),\n",
       " ('꽤', 72),\n",
       " ('표고버섯', 72),\n",
       " ('돼서', 72),\n",
       " ('재구', 72),\n",
       " ('같은', 72),\n",
       " ('샀는데', 71),\n",
       " ('질', 71),\n",
       " ('아기', 71),\n",
       " ('될', 70),\n",
       " ('부모님', 70),\n",
       " ('간편해요', 70),\n",
       " ('하네요', 69),\n",
       " ('담백하고', 69),\n",
       " ('만족', 69),\n",
       " ('해결', 68),\n",
       " ('있으면', 68),\n",
       " ('간단히', 68),\n",
       " ('쉽게', 68),\n",
       " ('봅니다', 67),\n",
       " ('참기름', 67),\n",
       " ('넣으면', 67),\n",
       " ('늘', 66),\n",
       " ('궁금해서', 66),\n",
       " ('먹네요', 66),\n",
       " ('계속', 65),\n",
       " ('조리법', 65),\n",
       " ('뜸', 65),\n",
       " ('대로', 65),\n",
       " ('사봤는데', 64),\n",
       " ('꿀맛', 64),\n",
       " ('나네요', 64),\n",
       " ('없어서', 64),\n",
       " ('있네요', 64),\n",
       " ('제일', 64),\n",
       " ('요즘', 64),\n",
       " ('없고', 64),\n",
       " ('도전', 64),\n",
       " ('불', 63)]"
      ]
     },
     "execution_count": 58,
     "metadata": {},
     "output_type": "execute_result"
    }
   ],
   "source": [
    "Counter(sum(data_kurly[data_kurly['pred_label']==1]['token_noStem'].to_list(), [])).most_common(300)"
   ]
  },
  {
   "cell_type": "markdown",
   "metadata": {},
   "source": [
    "부정리뷰 빈도분석"
   ]
  },
  {
   "cell_type": "code",
   "execution_count": 59,
   "metadata": {},
   "outputs": [
    {
     "data": {
      "text/plain": [
       "[('하다', 751),\n",
       " ('먹다', 417),\n",
       " ('맛', 274),\n",
       " ('안', 234),\n",
       " ('같다', 175),\n",
       " ('밥', 173),\n",
       " ('좀', 172),\n",
       " ('그냥', 165),\n",
       " ('전복', 164),\n",
       " ('것', 157),\n",
       " ('있다', 154),\n",
       " ('좋다', 144),\n",
       " ('않다', 141),\n",
       " ('거', 136),\n",
       " ('맛있다', 136),\n",
       " ('비리다', 132),\n",
       " ('재다', 126),\n",
       " ('그렇다', 126),\n",
       " ('솥밥', 126),\n",
       " ('보다', 119),\n",
       " ('별로', 115),\n",
       " ('미나리', 115),\n",
       " ('넣다', 108),\n",
       " ('없다', 107),\n",
       " ('고기', 103),\n",
       " ('아니다', 92),\n",
       " ('이다', 90),\n",
       " ('저', 87),\n",
       " ('더', 84),\n",
       " ('나다', 82),\n",
       " ('들다', 82),\n",
       " ('듯', 81),\n",
       " ('후기', 79),\n",
       " ('매다', 77),\n",
       " ('자다', 76),\n",
       " ('생각', 75),\n",
       " ('제', 72),\n",
       " ('육수', 69),\n",
       " ('해', 69),\n",
       " ('적다', 68),\n",
       " ('양', 67),\n",
       " ('냄새', 63),\n",
       " ('괜찮다', 62),\n",
       " ('짜다', 62),\n",
       " ('구매', 61),\n",
       " ('조금', 58),\n",
       " ('쌀', 58),\n",
       " ('도미', 58),\n",
       " ('아쉽다', 55),\n",
       " ('게', 52),\n",
       " ('가격', 50),\n",
       " ('느끼하다', 49),\n",
       " ('기대', 48),\n",
       " ('때', 48),\n",
       " ('전', 48),\n",
       " ('못', 47),\n",
       " ('생선', 46),\n",
       " ('버리다', 45),\n",
       " ('번', 45),\n",
       " ('주문', 45),\n",
       " ('좋아하다', 44),\n",
       " ('정도', 44),\n",
       " ('입맛', 44),\n",
       " ('사다', 42),\n",
       " ('소고기', 42),\n",
       " ('소스', 41),\n",
       " ('간장', 40),\n",
       " ('이', 40),\n",
       " ('모르다', 40),\n",
       " ('기대하다', 40),\n",
       " ('되다', 39),\n",
       " ('요', 39),\n",
       " ('키트', 39),\n",
       " ('많다', 37),\n",
       " ('쏘다', 36),\n",
       " ('만들다', 35),\n",
       " ('음', 35),\n",
       " ('보고', 34),\n",
       " ('두', 34),\n",
       " ('개', 34),\n",
       " ('추가', 34),\n",
       " ('오다', 33),\n",
       " ('느낌', 33),\n",
       " ('싶다', 32),\n",
       " ('물', 32),\n",
       " ('양념장', 31),\n",
       " ('시키다', 31),\n",
       " ('포장', 30),\n",
       " ('약간', 30),\n",
       " ('맞다', 29),\n",
       " ('비려', 28),\n",
       " ('다른', 28),\n",
       " ('크다', 27),\n",
       " ('양념', 27),\n",
       " ('간이', 27),\n",
       " ('작다', 27),\n",
       " ('건지다', 26),\n",
       " ('향', 26),\n",
       " ('돼다', 26),\n",
       " ('아이', 26),\n",
       " ('나쁘다', 26),\n",
       " ('가다', 26),\n",
       " ('유통', 26),\n",
       " ('레시피', 25),\n",
       " ('비싸다', 24),\n",
       " ('수', 24),\n",
       " ('문어', 24),\n",
       " ('살짝', 24),\n",
       " ('대비', 24),\n",
       " ('기한', 24),\n",
       " ('사', 24),\n",
       " ('지다', 23),\n",
       " ('강하다', 23),\n",
       " ('사보다', 23),\n",
       " ('버섯', 23),\n",
       " ('건', 23),\n",
       " ('이번', 22),\n",
       " ('간편하다', 22),\n",
       " ('만해', 22),\n",
       " ('인분', 22),\n",
       " ('되어다', 21),\n",
       " ('집', 21),\n",
       " ('싱겁다', 21),\n",
       " ('정말', 21),\n",
       " ('조리', 21),\n",
       " ('줄', 21),\n",
       " ('진짜', 20),\n",
       " ('먹기', 20),\n",
       " ('제품', 20),\n",
       " ('맛없다', 20),\n",
       " ('왜', 20),\n",
       " ('다시', 19),\n",
       " ('사서', 19),\n",
       " ('비리', 19),\n",
       " ('나서다', 19),\n",
       " ('한번', 19),\n",
       " ('처음', 19),\n",
       " ('조절', 18),\n",
       " ('의사', 18),\n",
       " ('실망', 18),\n",
       " ('무난', 18),\n",
       " ('부족하다', 18),\n",
       " ('사진', 17),\n",
       " ('하나', 17),\n",
       " ('냉동', 16),\n",
       " ('남다', 16),\n",
       " ('내용물', 16),\n",
       " ('질', 16),\n",
       " ('전기밥솥', 16),\n",
       " ('상태', 16),\n",
       " ('그다지', 16),\n",
       " ('바질', 16),\n",
       " ('이렇다', 16),\n",
       " ('배송', 15),\n",
       " ('나', 15),\n",
       " ('입', 15),\n",
       " ('느껴지다', 15),\n",
       " ('남편', 15),\n",
       " ('알다', 15),\n",
       " ('리소토', 15),\n",
       " ('구입', 15),\n",
       " ('심심하다', 15),\n",
       " ('간', 14),\n",
       " ('후', 14),\n",
       " ('설명', 14),\n",
       " ('비비다', 14),\n",
       " ('덜', 14),\n",
       " ('뭐', 14),\n",
       " ('받다', 14),\n",
       " ('먹음', 14),\n",
       " ('재료', 14),\n",
       " ('평이', 14),\n",
       " ('비다', 14),\n",
       " ('보통', 14),\n",
       " ('뭔가', 14),\n",
       " ('심하다', 14),\n",
       " ('불', 14),\n",
       " ('나물', 14),\n",
       " ('거의', 13),\n",
       " ('저희', 13),\n",
       " ('이상하다', 13),\n",
       " ('함', 13),\n",
       " ('냄비', 13),\n",
       " ('부실하다', 13),\n",
       " ('치즈', 13),\n",
       " ('재', 13),\n",
       " ('분', 13),\n",
       " ('걸', 13),\n",
       " ('컬리', 12),\n",
       " ('쓰다', 12),\n",
       " ('말다', 12),\n",
       " ('다음', 12),\n",
       " ('대로', 12),\n",
       " ('냉장', 12),\n",
       " ('일', 12),\n",
       " ('약하다', 12),\n",
       " ('짧다', 12),\n",
       " ('질겨', 12),\n",
       " ('나오다', 12),\n",
       " ('해물', 11),\n",
       " ('가족', 11),\n",
       " ('들어가다', 11),\n",
       " ('반', 11),\n",
       " ('필요하다', 11),\n",
       " ('다르다', 11),\n",
       " ('룸', 11),\n",
       " ('음식', 11),\n",
       " ('주다', 11),\n",
       " ('녹다', 10),\n",
       " ('편', 10),\n",
       " ('달다', 10),\n",
       " ('부드럽다', 10),\n",
       " ('터지다', 10),\n",
       " ('불다', 10),\n",
       " ('타다', 10),\n",
       " ('또', 10),\n",
       " ('볼', 10),\n",
       " ('역시', 10),\n",
       " ('가성', 10),\n",
       " ('익히다', 10),\n",
       " ('호불호', 10),\n",
       " ('내', 10),\n",
       " ('다시다', 10),\n",
       " ('살', 10),\n",
       " ('아주', 10),\n",
       " ('밥솥', 10),\n",
       " ('보내다', 10),\n",
       " ('드리다', 10),\n",
       " ('잘못', 10),\n",
       " ('밀', 10),\n",
       " ('낫다', 9),\n",
       " ('기다', 9),\n",
       " ('들이다', 9),\n",
       " ('빼다', 9),\n",
       " ('끼', 9),\n",
       " ('상품', 9),\n",
       " ('만', 9),\n",
       " ('궁금하다', 9),\n",
       " ('안되다', 9),\n",
       " ('신경', 9),\n",
       " ('요리', 9),\n",
       " ('아깝다', 9),\n",
       " ('가지', 9),\n",
       " ('뜸', 8),\n",
       " ('건가', 8),\n",
       " ('보이다', 8),\n",
       " ('쪽파', 8),\n",
       " ('추천', 8),\n",
       " ('양도', 8),\n",
       " ('자체', 8),\n",
       " ('때문', 8),\n",
       " ('해먹', 8),\n",
       " ('섞다', 8),\n",
       " ('날', 8),\n",
       " ('세다', 8),\n",
       " ('매장', 8),\n",
       " ('평범하다', 8),\n",
       " ('알', 8),\n",
       " ('팩', 8),\n",
       " ('은행', 8),\n",
       " ('차다', 8),\n",
       " ('반찬', 8),\n",
       " ('무슨', 8),\n",
       " ('어렵다', 8),\n",
       " ('고명', 8),\n",
       " ('핏물', 8),\n",
       " ('계속', 8),\n",
       " ('사람', 8),\n",
       " ('바로', 7),\n",
       " ('가끔', 7),\n",
       " ('여러', 7),\n",
       " ('막', 7),\n",
       " ('양은', 7),\n",
       " ('국물', 7),\n",
       " ('백미', 7),\n",
       " ('맞추다', 7),\n",
       " ('잡곡', 7),\n",
       " ('런가', 7),\n",
       " ('부분', 7),\n",
       " ('온', 7),\n",
       " ('올리다', 7),\n",
       " ('부모님', 7),\n",
       " ('써다', 7),\n",
       " ('몇', 7),\n",
       " ('볶다', 7),\n",
       " ('데', 7),\n",
       " ('간단하다', 7),\n",
       " ('스럽다', 7),\n",
       " ('버터', 7),\n",
       " ('비추다', 7),\n",
       " ('느끼다', 7),\n",
       " ('오', 7),\n",
       " ('중', 7),\n",
       " ('힘들다', 7),\n",
       " ('직접', 7),\n",
       " ('제대로', 7),\n",
       " ('만족', 7),\n",
       " ('퀄리티', 7),\n",
       " ('네', 7),\n",
       " ('애매하다', 7)]"
      ]
     },
     "execution_count": 59,
     "metadata": {},
     "output_type": "execute_result"
    }
   ],
   "source": [
    "Counter(sum(data_kurly[data_kurly['pred_label']==0]['token_selected'].to_list(), [])).most_common(300)"
   ]
  },
  {
   "cell_type": "markdown",
   "metadata": {},
   "source": [
    "빈도 데이터 프레임으로 저장"
   ]
  },
  {
   "cell_type": "code",
   "execution_count": 56,
   "metadata": {},
   "outputs": [],
   "source": [
    "temp = Counter(sum(data_kurly['token_noStem'].to_list(), [])).most_common(300)"
   ]
  },
  {
   "cell_type": "code",
   "execution_count": 57,
   "metadata": {},
   "outputs": [
    {
     "data": {
      "text/html": [
       "<div>\n",
       "<style scoped>\n",
       "    .dataframe tbody tr th:only-of-type {\n",
       "        vertical-align: middle;\n",
       "    }\n",
       "\n",
       "    .dataframe tbody tr th {\n",
       "        vertical-align: top;\n",
       "    }\n",
       "\n",
       "    .dataframe thead th {\n",
       "        text-align: right;\n",
       "    }\n",
       "</style>\n",
       "<table border=\"1\" class=\"dataframe\">\n",
       "  <thead>\n",
       "    <tr style=\"text-align: right;\">\n",
       "      <th></th>\n",
       "      <th>1</th>\n",
       "      <th>2</th>\n",
       "    </tr>\n",
       "  </thead>\n",
       "  <tbody>\n",
       "    <tr>\n",
       "      <th>0</th>\n",
       "      <td>맛있어요</td>\n",
       "      <td>2212</td>\n",
       "    </tr>\n",
       "    <tr>\n",
       "      <th>1</th>\n",
       "      <td>맛</td>\n",
       "      <td>2108</td>\n",
       "    </tr>\n",
       "    <tr>\n",
       "      <th>2</th>\n",
       "      <td>솥밥</td>\n",
       "      <td>1909</td>\n",
       "    </tr>\n",
       "    <tr>\n",
       "      <th>3</th>\n",
       "      <td>밥</td>\n",
       "      <td>1357</td>\n",
       "    </tr>\n",
       "    <tr>\n",
       "      <th>4</th>\n",
       "      <td>전복</td>\n",
       "      <td>1357</td>\n",
       "    </tr>\n",
       "    <tr>\n",
       "      <th>...</th>\n",
       "      <td>...</td>\n",
       "      <td>...</td>\n",
       "    </tr>\n",
       "    <tr>\n",
       "      <th>295</th>\n",
       "      <td>들어있는</td>\n",
       "      <td>72</td>\n",
       "    </tr>\n",
       "    <tr>\n",
       "      <th>296</th>\n",
       "      <td>보니</td>\n",
       "      <td>71</td>\n",
       "    </tr>\n",
       "    <tr>\n",
       "      <th>297</th>\n",
       "      <td>포장</td>\n",
       "      <td>71</td>\n",
       "    </tr>\n",
       "    <tr>\n",
       "      <th>298</th>\n",
       "      <td>나물</td>\n",
       "      <td>71</td>\n",
       "    </tr>\n",
       "    <tr>\n",
       "      <th>299</th>\n",
       "      <td>후</td>\n",
       "      <td>70</td>\n",
       "    </tr>\n",
       "  </tbody>\n",
       "</table>\n",
       "<p>300 rows × 2 columns</p>\n",
       "</div>"
      ],
      "text/plain": [
       "        1     2\n",
       "0    맛있어요  2212\n",
       "1       맛  2108\n",
       "2      솥밥  1909\n",
       "3       밥  1357\n",
       "4      전복  1357\n",
       "..    ...   ...\n",
       "295  들어있는    72\n",
       "296    보니    71\n",
       "297    포장    71\n",
       "298    나물    71\n",
       "299     후    70\n",
       "\n",
       "[300 rows x 2 columns]"
      ]
     },
     "execution_count": 57,
     "metadata": {},
     "output_type": "execute_result"
    }
   ],
   "source": [
    "pd.DataFrame(temp, columns=[1,2])"
   ]
  },
  {
   "cell_type": "markdown",
   "metadata": {},
   "source": [
    "# 워드클라우드"
   ]
  },
  {
   "cell_type": "markdown",
   "metadata": {},
   "source": [
    "워드클라우드 기본 함수\n",
    "- 밥 모양 배경파일 다운로드 필요"
   ]
  },
  {
   "cell_type": "code",
   "execution_count": 21,
   "metadata": {},
   "outputs": [],
   "source": [
    "#워드클라우드 함수\n",
    "def wc_kurly(data):\n",
    "    words = dict(Counter(sum(data.to_list(), [])).most_common(300))\n",
    "    img = Image.open(\"C:/Users/NT550-048/Desktop/잇더/rice.jpg\")\n",
    "    imgArray = np.array(img)\n",
    "    wordcloud = WordCloud(font_path = 'C:/Windows/Fonts/malgun.ttf', background_color='black',colormap = \"Accent_r\",\n",
    "                        width=8000, height=5000, mask=imgArray).generate_from_frequencies(words)\n",
    "    plt.imshow(wordcloud) \n",
    "    plt.axis('off') \n",
    "    plt.show()"
   ]
  },
  {
   "cell_type": "code",
   "execution_count": 22,
   "metadata": {},
   "outputs": [
    {
     "data": {
      "image/png": "[encoded data removed]",
      "text/plain": [
       "<Figure size 640x480 with 1 Axes>"
      ]
     },
     "metadata": {},
     "output_type": "display_data"
    }
   ],
   "source": [
    "wc_kurly(data_kurly['token_noStem'])"
   ]
  },
  {
   "cell_type": "markdown",
   "metadata": {},
   "source": [
    "# 빈도수, 워드클라우드 한번에 보여주는 함수"
   ]
  },
  {
   "cell_type": "markdown",
   "metadata": {},
   "source": [
    "빈도수 함수"
   ]
  },
  {
   "cell_type": "code",
   "execution_count": 95,
   "metadata": {},
   "outputs": [],
   "source": [
    "# 빈도수 함수\n",
    "def word_analysis(df, product_name, label, token_class):\n",
    "    df_word = df[(df['ProductName']==product_name)&(df['pred_label']==label)]\n",
    "    word_list = df_word['tokens_noStem'].apply(lambda x:token_select(x, token_class))\n",
    "    word_tuple = Counter(sum(word_list.to_list(), [])).most_common(300)\n",
    "    #word_df = pd.DataFrame(word_tuple, columns=['token', 'n'])\n",
    "    return word_tuple"
   ]
  },
  {
   "cell_type": "markdown",
   "metadata": {},
   "source": [
    "워드클라우드 함수"
   ]
  },
  {
   "cell_type": "code",
   "execution_count": 7,
   "metadata": {},
   "outputs": [],
   "source": [
    "def word_analysis(df, product_name, label, token_class):\n",
    "    df_word = df[(df['ProductName']==product_name)&(df['pred_label']==label)]\n",
    "    word_list = df_word['tokens_noStem'].apply(lambda x:token_select(x, token_class))\n",
    "    word_tuple = Counter(sum(word_list.to_list(), [])).most_common(300)\n",
    "    #word_df = pd.DataFrame(word_tuple, columns=['token', 'n'])\n",
    "    words = dict(word_tuple)\n",
    "    img = Image.open(\"C:/Users/NT550-048/Desktop/잇더/rice.jpg\")\n",
    "    imgArray = np.array(img)\n",
    "    wordcloud = WordCloud(font_path = 'C:/Windows/Fonts/malgun.ttf', background_color='black',colormap = \"Accent_r\",\n",
    "                        width=8000, height=5000, mask=imgArray).generate_from_frequencies(words)\n",
    "    plt.imshow(wordcloud) \n",
    "    plt.axis('off')\n",
    "    if label == 1:\n",
    "        label = '긍정리뷰'\n",
    "    else:\n",
    "        label = '부정리뷰'\n",
    "    print(product_name, '상품의 총', len(df_word), '개의', label, '분석')\n",
    "    return word_tuple, plt.show()"
   ]
  },
  {
   "cell_type": "markdown",
   "metadata": {},
   "source": [
    "빈도 분석 및 워드클라우드 시각화 수행\n",
    "- word_analysis(데이터, 제품명, 긍부정 라벨, 원하는 품사 리스트)"
   ]
  },
  {
   "cell_type": "code",
   "execution_count": 103,
   "metadata": {},
   "outputs": [
    {
     "data": {
      "image/png": "[encoded data removed]",
      "text/plain": [
       "<Figure size 640x480 with 1 Axes>"
      ]
     },
     "metadata": {},
     "output_type": "display_data"
    },
    {
     "data": {
      "text/plain": [
       "([('솥밥', 80),\n",
       "  ('해물', 56),\n",
       "  ('맛', 48),\n",
       "  ('구매', 47),\n",
       "  ('밥', 45),\n",
       "  ('육수', 44),\n",
       "  ('더', 41),\n",
       "  ('후기', 39),\n",
       "  ('문어', 35),\n",
       "  ('기대', 33),\n",
       "  ('거', 32),\n",
       "  ('간이', 30),\n",
       "  ('때', 29),\n",
       "  ('안', 29),\n",
       "  ('좀', 29),\n",
       "  ('주문', 27),\n",
       "  ('추가', 25),\n",
       "  ('먹기', 24),\n",
       "  ('조금', 23),\n",
       "  ('쌀', 23),\n",
       "  ('수', 22),\n",
       "  ('간장', 22),\n",
       "  ('해', 21),\n",
       "  ('것', 20),\n",
       "  ('키트', 19),\n",
       "  ('물', 19),\n",
       "  ('해산물', 18),\n",
       "  ('또', 17),\n",
       "  ('재', 15),\n",
       "  ('진짜', 15),\n",
       "  ('새우', 14),\n",
       "  ('집', 14),\n",
       "  ('냉동', 14),\n",
       "  ('양념장', 14),\n",
       "  ('소스', 14),\n",
       "  ('저', 13),\n",
       "  ('구입', 13),\n",
       "  ('톳', 12),\n",
       "  ('아주', 12),\n",
       "  ('컵', 12),\n",
       "  ('반', 12),\n",
       "  ('정말', 11),\n",
       "  ('보고', 11),\n",
       "  ('번', 11),\n",
       "  ('끼', 10),\n",
       "  ('전', 10),\n",
       "  ('굴', 10),\n",
       "  ('다음', 9),\n",
       "  ('게', 9),\n",
       "  ('이', 8),\n",
       "  ('아이', 8),\n",
       "  ('두', 8),\n",
       "  ('입맛', 8),\n",
       "  ('중', 8),\n",
       "  ('반찬', 7),\n",
       "  ('일', 7),\n",
       "  ('요', 7),\n",
       "  ('엄마', 7),\n",
       "  ('듯', 7),\n",
       "  ('자주', 7),\n",
       "  ('감칠맛', 7),\n",
       "  ('전기밥솥', 7),\n",
       "  ('느낌', 7),\n",
       "  ('한번', 7),\n",
       "  ('손님', 7),\n",
       "  ('해먹', 7),\n",
       "  ('양념', 7),\n",
       "  ('아침', 6),\n",
       "  ('지난번', 6),\n",
       "  ('항상', 6),\n",
       "  ('그냥', 6),\n",
       "  ('정도', 6),\n",
       "  ('사', 6),\n",
       "  ('만들기', 6),\n",
       "  ('첨가', 6),\n",
       "  ('가족', 5),\n",
       "  ('최고', 5),\n",
       "  ('밥솥', 5),\n",
       "  ('제', 5),\n",
       "  ('실', 5),\n",
       "  ('동봉', 5),\n",
       "  ('재료', 5),\n",
       "  ('담', 5),\n",
       "  ('쟁', 5),\n",
       "  ('솥', 5),\n",
       "  ('개', 5),\n",
       "  ('몇', 5),\n",
       "  ('요즘', 5),\n",
       "  ('냄비', 5),\n",
       "  ('굿', 5),\n",
       "  ('걸', 5),\n",
       "  ('그', 5),\n",
       "  ('처음', 5),\n",
       "  ('다시', 5),\n",
       "  ('주말', 5),\n",
       "  ('생각', 5),\n",
       "  ('전복', 4),\n",
       "  ('양도', 4),\n",
       "  ('조개', 4),\n",
       "  ('남편', 4),\n",
       "  ('저희', 4),\n",
       "  ('이상', 4),\n",
       "  ('다른', 4),\n",
       "  ('필요', 4),\n",
       "  ('배송', 4),\n",
       "  ('전이', 4),\n",
       "  ('내용물', 4),\n",
       "  ('구성', 4),\n",
       "  ('추천', 4),\n",
       "  ('만족', 4),\n",
       "  ('조절', 4),\n",
       "  ('나', 4),\n",
       "  ('맘', 4),\n",
       "  ('의사', 4),\n",
       "  ('향', 4),\n",
       "  ('해도', 4),\n",
       "  ('별미', 4),\n",
       "  ('걱정', 4),\n",
       "  ('식사', 4),\n",
       "  ('인분', 4),\n",
       "  ('비빔', 4),\n",
       "  ('버섯', 4),\n",
       "  ('만큼', 4),\n",
       "  ('다만', 4),\n",
       "  ('별로', 4),\n",
       "  ('자체', 4),\n",
       "  ('하니', 4),\n",
       "  ('솥밥해', 4),\n",
       "  ('조리', 3),\n",
       "  ('혹시', 3),\n",
       "  ('영양', 3),\n",
       "  ('가지', 3),\n",
       "  ('마음', 3),\n",
       "  ('요리', 3),\n",
       "  ('제품', 3),\n",
       "  ('분', 3),\n",
       "  ('기본', 3),\n",
       "  ('인', 3),\n",
       "  ('시식', 3),\n",
       "  ('살짝', 3),\n",
       "  ('오', 3),\n",
       "  ('바다', 3),\n",
       "  ('참고', 3),\n",
       "  ('평이', 3),\n",
       "  ('간', 3),\n",
       "  ('컬리', 3),\n",
       "  ('냄새', 3),\n",
       "  ('가리비', 3),\n",
       "  ('완성', 3),\n",
       "  ('베이스', 3),\n",
       "  ('이번', 3),\n",
       "  ('가끔', 3),\n",
       "  ('여기', 3),\n",
       "  ('보관', 3),\n",
       "  ('줄', 3),\n",
       "  ('식당', 3),\n",
       "  ('사용', 3),\n",
       "  ('양', 3),\n",
       "  ('만해', 3),\n",
       "  ('개인', 3),\n",
       "  ('달래', 3),\n",
       "  ('상품', 3),\n",
       "  ('둘', 3),\n",
       "  ('비', 3),\n",
       "  ('대용', 2),\n",
       "  ('간도', 2),\n",
       "  ('못', 2),\n",
       "  ('비리', 2),\n",
       "  ('세', 2),\n",
       "  ('사진', 2),\n",
       "  ('버전', 2),\n",
       "  ('해감', 2),\n",
       "  ('덜', 2),\n",
       "  ('부분', 2),\n",
       "  ('조리법', 2),\n",
       "  ('메뉴', 2),\n",
       "  ('류', 2),\n",
       "  ('얼마나', 2),\n",
       "  ('날', 2),\n",
       "  ('늘', 2),\n",
       "  ('공기', 2),\n",
       "  ('몸', 2),\n",
       "  ('먹음', 2),\n",
       "  ('꿀맛', 2),\n",
       "  ('뚝딱', 2),\n",
       "  ('냉동식품', 2),\n",
       "  ('매각', 2),\n",
       "  ('저번', 2),\n",
       "  ('오늘', 2),\n",
       "  ('단맛', 2),\n",
       "  ('성인', 2),\n",
       "  ('바로', 2),\n",
       "  ('온', 2),\n",
       "  ('약간', 2),\n",
       "  ('보지', 2),\n",
       "  ('미가', 2),\n",
       "  ('압력밥솥', 2),\n",
       "  ('편', 2),\n",
       "  ('강', 2),\n",
       "  ('밭', 2),\n",
       "  ('음', 2),\n",
       "  ('간간', 2),\n",
       "  ('짱', 2),\n",
       "  ('마켓', 2),\n",
       "  ('모', 2),\n",
       "  ('진밥', 2),\n",
       "  ('버튼', 2),\n",
       "  ('사서', 2),\n",
       "  ('첫', 2),\n",
       "  ('그대로', 2),\n",
       "  ('향리', 2),\n",
       "  ('함', 2),\n",
       "  ('살', 2),\n",
       "  ('캠핑', 2),\n",
       "  ('막상', 2),\n",
       "  ('하나', 2),\n",
       "  ('취사', 2),\n",
       "  ('온도', 2),\n",
       "  ('달달', 2),\n",
       "  ('밥맛', 2),\n",
       "  ('레시피', 2),\n",
       "  ('건', 2),\n",
       "  ('템', 2),\n",
       "  ('비릿', 2),\n",
       "  ('해동', 2),\n",
       "  ('마침', 2),\n",
       "  ('언니', 2),\n",
       "  ('알', 2),\n",
       "  ('일반', 2),\n",
       "  ('기사', 2),\n",
       "  ('지금', 2),\n",
       "  ('물이', 2),\n",
       "  ('이야기', 2),\n",
       "  ('점', 2),\n",
       "  ('기분', 2),\n",
       "  ('대접', 2),\n",
       "  ('볼', 2),\n",
       "  ('듬뿍', 2),\n",
       "  ('생수', 2),\n",
       "  ('리뷰', 2),\n",
       "  ('쟁여두', 2),\n",
       "  ('상이', 2),\n",
       "  ('부어', 2),\n",
       "  ('나중', 2),\n",
       "  ('가성', 2),\n",
       "  ('나물', 2),\n",
       "  ('퀄리티', 2),\n",
       "  ('양은', 2),\n",
       "  ('봉지', 1),\n",
       "  ('김이랑', 1),\n",
       "  ('시간', 1),\n",
       "  ('매력', 1),\n",
       "  ('제법', 1),\n",
       "  ('꽤', 1),\n",
       "  ('기회', 1),\n",
       "  ('최대한', 1),\n",
       "  ('제거', 1),\n",
       "  ('전문점', 1),\n",
       "  ('품절', 1),\n",
       "  ('거시', 1),\n",
       "  ('호기심', 1),\n",
       "  ('감탄', 1),\n",
       "  ('수정', 1),\n",
       "  ('모래', 1),\n",
       "  ('가루', 1),\n",
       "  ('껄끄러웠', 1),\n",
       "  ('밥그릇', 1),\n",
       "  ('올인', 1),\n",
       "  ('무엇', 1),\n",
       "  ('숙소', 1),\n",
       "  ('잡고', 1),\n",
       "  ('도', 1),\n",
       "  ('매일', 1),\n",
       "  ('컵라면', 1),\n",
       "  ('낭만', 1),\n",
       "  ('분위기', 1),\n",
       "  ('기준', 1),\n",
       "  ('그릇', 1),\n",
       "  ('남성', 1),\n",
       "  ('충분', 1),\n",
       "  ('보람', 1),\n",
       "  ('내내', 1),\n",
       "  ('부모님', 1),\n",
       "  ('김치', 1),\n",
       "  ('옹기', 1),\n",
       "  ('심지어', 1),\n",
       "  ('솤밥', 1),\n",
       "  ('신세계', 1),\n",
       "  ('경험', 1),\n",
       "  ('실컷', 1),\n",
       "  ('날름', 1),\n",
       "  ('고급', 1),\n",
       "  ('지게', 1),\n",
       "  ('사람', 1),\n",
       "  ('헹궈주길', 1),\n",
       "  ('내장', 1),\n",
       "  ('처리', 1),\n",
       "  ('거리', 1),\n",
       "  ('마찬가지', 1),\n",
       "  ('리뉴얼', 1)],\n",
       " None)"
      ]
     },
     "execution_count": 103,
     "metadata": {},
     "output_type": "execute_result"
    }
   ],
   "source": [
    "product_name = '[아우름] 바다를 품은 톳 해물솥밥키트'\n",
    "label = 1\n",
    "token_class = ['Noun']\n",
    "word_analysis(data_kurly, product_name, label, token_class)"
   ]
  },
  {
   "cell_type": "markdown",
   "metadata": {},
   "source": [
    "# 단어 연관 분석"
   ]
  },
  {
   "cell_type": "code",
   "execution_count": 23,
   "metadata": {},
   "outputs": [],
   "source": [
    "from gensim.models import Word2Vec\n",
    "from sklearn.decomposition import PCA\n",
    "import plotly\n",
    "import plotly.graph_objects as go"
   ]
  },
  {
   "cell_type": "markdown",
   "metadata": {},
   "source": [
    "연관 분석 수행할 제품 및 토큰 선택해 리스트로 변환 "
   ]
  },
  {
   "cell_type": "code",
   "execution_count": 39,
   "metadata": {},
   "outputs": [],
   "source": [
    "review_list = data_kurly[data_kurly['ProductName'] == '[온하루] 한돈 건나물 솥밥키트']['token_selected'].to_list()"
   ]
  },
  {
   "cell_type": "code",
   "execution_count": 38,
   "metadata": {},
   "outputs": [],
   "source": [
    "# 토큰 리스트 문자열로 불러와질때 처리\n",
    "data_kurly['token_selected'] = data_kurly['token_selected'].apply(lambda x:eval(x))"
   ]
  },
  {
   "cell_type": "markdown",
   "metadata": {},
   "source": [
    "연관분석 모델 생성"
   ]
  },
  {
   "cell_type": "code",
   "execution_count": 40,
   "metadata": {},
   "outputs": [],
   "source": [
    "model = Word2Vec(sentences = review_list, vector_size = 100, window = 5, min_count = 10, workers = 4, sg = 1)"
   ]
  },
  {
   "cell_type": "markdown",
   "metadata": {},
   "source": [
    "연관관계 시각화"
   ]
  },
  {
   "cell_type": "code",
   "execution_count": 42,
   "metadata": {},
   "outputs": [
    {
     "data": {
      "application/vnd.plotly.v1+json": {
       "config": {
        "plotlyServerURL": "https://plot.ly"
       },
       "data": [
        {
         "mode": "markers+text",
         "text": [
          "하다",
          "먹다",
          "맛있다",
          "좋다",
          "맛",
          "솥밥",
          "나물",
          "있다",
          "자다",
          "밥",
          "건",
          "구매",
          "같다",
          "소스",
          "재다",
          "이다",
          "것",
          "않다",
          "간편하다",
          "더",
          "건강하다",
          "온",
          "보다",
          "고기",
          "수",
          "양념장",
          "안",
          "키트",
          "좋아하다",
          "들다",
          "거",
          "요",
          "없다",
          "괜찮다",
          "정말",
          "넣다",
          "냄새",
          "끼",
          "고치",
          "나다",
          "좀",
          "되다",
          "주문",
          "먹기",
          "담백하다",
          "하루",
          "제",
          "만들다",
          "비비다",
          "쌀",
          "저",
          "돼지고기",
          "배송",
          "때",
          "간단하다",
          "아주",
          "양념",
          "아이",
          "많다",
          "편하다",
          "하나",
          "사다",
          "아니다",
          "오다",
          "생각",
          "또"
         ],
         "type": "scatter",
         "x": [
          0.20572925492443658,
          0.07618055329227531,
          0.15314465027150387,
          0.044566579382538364,
          0.05956369265673874,
          0.08401393705324657,
          0.06122025033425815,
          0.12263364854223159,
          0.041253150495616994,
          0.05917747247571827,
          0.05206454192434673,
          -0.010465107872424812,
          0.1422510332386058,
          -0.005122941662756404,
          -0.07794946375423167,
          -0.009660527248007318,
          0.12340817618652153,
          0.029864165327354298,
          -0.05983463463681158,
          0.03951120726415073,
          -0.10909387212100416,
          -0.03392511752998833,
          -0.03445537478628975,
          -0.018817148422705963,
          -0.009036840823241937,
          0.06143733345966621,
          -0.015541914251923293,
          -0.006933299383214706,
          0.025707022988343594,
          0.022725508369703964,
          -0.048137489357274736,
          -0.06269086846634563,
          -0.017701086814813666,
          -0.07711937616241037,
          -0.017689184950719257,
          0.011016524249230601,
          0.014776823890348458,
          -0.04428343609613905,
          -0.012789917824290056,
          -0.05313173280922591,
          0.010230466504710796,
          -0.03115868863644709,
          -0.0574847678474638,
          -0.022383076983560214,
          -0.11847494737360939,
          -0.06679903521662667,
          -0.030511458023322658,
          -0.015574818852917664,
          -0.025107374792948833,
          -0.05193641859977339,
          -0.02362342270272771,
          0.07432540222297267,
          -0.08541254659602489,
          0.055400501367201566,
          -0.047788776989379264,
          -0.008257480204569359,
          -0.0057168928221301525,
          -0.047511466148783446,
          -0.02114899653215366,
          -0.04649266138207741,
          -0.011923309251438453,
          -0.030140329840056383,
          -0.05656856639826955,
          0.008763880610726145,
          -0.03022147551259679,
          -0.02034993135175192
         ],
         "y": [
          0.02025960864002593,
          -0.005129515872482338,
          -0.00030114066074110114,
          -0.009739910013312198,
          -0.019659062933952597,
          -0.0018919466863021447,
          -0.009419881200256412,
          0.0036624422843788804,
          0.012035826027080003,
          0.020606137723311217,
          0.0026600937877319653,
          -0.005673048744548742,
          -0.0014700667911405764,
          -0.022388920771823556,
          -0.005231615822281103,
          0.01603510860314531,
          0.018502652761217434,
          -0.009234001836975151,
          0.00714910619843283,
          -0.0025820864922586023,
          0.014363321283651531,
          -0.01626857805394571,
          -0.0008314115187355297,
          -0.017122771536651513,
          -0.00021345701055750513,
          -0.025218773265783062,
          -0.023947907936662294,
          0.014385275965783274,
          -0.0026682545777865704,
          0.0013155254247033902,
          0.005045949934580682,
          -0.0035352246422918395,
          0.0032498773134776175,
          -0.000021599194095740763,
          0.007928641955753706,
          -0.0031592993222128917,
          0.0049079842080042724,
          -0.005184115065586902,
          -0.0087460068314341,
          -0.011166914859949051,
          -0.0007834176004548975,
          0.0021542890432340455,
          -0.003975022434565304,
          0.01851783555771176,
          0.029651054514995542,
          -0.015205905022980462,
          0.006836823866469517,
          -0.005193108009508297,
          0.0023663777805283635,
          -0.013985717519076473,
          0.0031940070686567947,
          -0.01953258294166157,
          -0.0026072413736722678,
          0.03215789279207996,
          0.006922626925641996,
          -0.016013799615850564,
          -0.013570153685801339,
          0.018128545755455933,
          0.008180805985200103,
          0.019060841652582712,
          0.003082138081684675,
          -0.011985848912275492,
          0.002430203037537551,
          -0.011520837840223168,
          0.005520815762136523,
          0.014867336662643525
         ]
        }
       ],
       "layout": {
        "template": {
         "data": {
          "bar": [
           {
            "error_x": {
             "color": "#2a3f5f"
            },
            "error_y": {
             "color": "#2a3f5f"
            },
            "marker": {
             "line": {
              "color": "#E5ECF6",
              "width": 0.5
             },
             "pattern": {
              "fillmode": "overlay",
              "size": 10,
              "solidity": 0.2
             }
            },
            "type": "bar"
           }
          ],
          "barpolar": [
           {
            "marker": {
             "line": {
              "color": "#E5ECF6",
              "width": 0.5
             },
             "pattern": {
              "fillmode": "overlay",
              "size": 10,
              "solidity": 0.2
             }
            },
            "type": "barpolar"
           }
          ],
          "carpet": [
           {
            "aaxis": {
             "endlinecolor": "#2a3f5f",
             "gridcolor": "white",
             "linecolor": "white",
             "minorgridcolor": "white",
             "startlinecolor": "#2a3f5f"
            },
            "baxis": {
             "endlinecolor": "#2a3f5f",
             "gridcolor": "white",
             "linecolor": "white",
             "minorgridcolor": "white",
             "startlinecolor": "#2a3f5f"
            },
            "type": "carpet"
           }
          ],
          "choropleth": [
           {
            "colorbar": {
             "outlinewidth": 0,
             "ticks": ""
            },
            "type": "choropleth"
           }
          ],
          "contour": [
           {
            "colorbar": {
             "outlinewidth": 0,
             "ticks": ""
            },
            "colorscale": [
             [
              0,
              "#0d0887"
             ],
             [
              0.1111111111111111,
              "#46039f"
             ],
             [
              0.2222222222222222,
              "#7201a8"
             ],
             [
              0.3333333333333333,
              "#9c179e"
             ],
             [
              0.4444444444444444,
              "#bd3786"
             ],
             [
              0.5555555555555556,
              "#d8576b"
             ],
             [
              0.6666666666666666,
              "#ed7953"
             ],
             [
              0.7777777777777778,
              "#fb9f3a"
             ],
             [
              0.8888888888888888,
              "#fdca26"
             ],
             [
              1,
              "#f0f921"
             ]
            ],
            "type": "contour"
           }
          ],
          "contourcarpet": [
           {
            "colorbar": {
             "outlinewidth": 0,
             "ticks": ""
            },
            "type": "contourcarpet"
           }
          ],
          "heatmap": [
           {
            "colorbar": {
             "outlinewidth": 0,
             "ticks": ""
            },
            "colorscale": [
             [
              0,
              "#0d0887"
             ],
             [
              0.1111111111111111,
              "#46039f"
             ],
             [
              0.2222222222222222,
              "#7201a8"
             ],
             [
              0.3333333333333333,
              "#9c179e"
             ],
             [
              0.4444444444444444,
              "#bd3786"
             ],
             [
              0.5555555555555556,
              "#d8576b"
             ],
             [
              0.6666666666666666,
              "#ed7953"
             ],
             [
              0.7777777777777778,
              "#fb9f3a"
             ],
             [
              0.8888888888888888,
              "#fdca26"
             ],
             [
              1,
              "#f0f921"
             ]
            ],
            "type": "heatmap"
           }
          ],
          "heatmapgl": [
           {
            "colorbar": {
             "outlinewidth": 0,
             "ticks": ""
            },
            "colorscale": [
             [
              0,
              "#0d0887"
             ],
             [
              0.1111111111111111,
              "#46039f"
             ],
             [
              0.2222222222222222,
              "#7201a8"
             ],
             [
              0.3333333333333333,
              "#9c179e"
             ],
             [
              0.4444444444444444,
              "#bd3786"
             ],
             [
              0.5555555555555556,
              "#d8576b"
             ],
             [
              0.6666666666666666,
              "#ed7953"
             ],
             [
              0.7777777777777778,
              "#fb9f3a"
             ],
             [
              0.8888888888888888,
              "#fdca26"
             ],
             [
              1,
              "#f0f921"
             ]
            ],
            "type": "heatmapgl"
           }
          ],
          "histogram": [
           {
            "marker": {
             "pattern": {
              "fillmode": "overlay",
              "size": 10,
              "solidity": 0.2
             }
            },
            "type": "histogram"
           }
          ],
          "histogram2d": [
           {
            "colorbar": {
             "outlinewidth": 0,
             "ticks": ""
            },
            "colorscale": [
             [
              0,
              "#0d0887"
             ],
             [
              0.1111111111111111,
              "#46039f"
             ],
             [
              0.2222222222222222,
              "#7201a8"
             ],
             [
              0.3333333333333333,
              "#9c179e"
             ],
             [
              0.4444444444444444,
              "#bd3786"
             ],
             [
              0.5555555555555556,
              "#d8576b"
             ],
             [
              0.6666666666666666,
              "#ed7953"
             ],
             [
              0.7777777777777778,
              "#fb9f3a"
             ],
             [
              0.8888888888888888,
              "#fdca26"
             ],
             [
              1,
              "#f0f921"
             ]
            ],
            "type": "histogram2d"
           }
          ],
          "histogram2dcontour": [
           {
            "colorbar": {
             "outlinewidth": 0,
             "ticks": ""
            },
            "colorscale": [
             [
              0,
              "#0d0887"
             ],
             [
              0.1111111111111111,
              "#46039f"
             ],
             [
              0.2222222222222222,
              "#7201a8"
             ],
             [
              0.3333333333333333,
              "#9c179e"
             ],
             [
              0.4444444444444444,
              "#bd3786"
             ],
             [
              0.5555555555555556,
              "#d8576b"
             ],
             [
              0.6666666666666666,
              "#ed7953"
             ],
             [
              0.7777777777777778,
              "#fb9f3a"
             ],
             [
              0.8888888888888888,
              "#fdca26"
             ],
             [
              1,
              "#f0f921"
             ]
            ],
            "type": "histogram2dcontour"
           }
          ],
          "mesh3d": [
           {
            "colorbar": {
             "outlinewidth": 0,
             "ticks": ""
            },
            "type": "mesh3d"
           }
          ],
          "parcoords": [
           {
            "line": {
             "colorbar": {
              "outlinewidth": 0,
              "ticks": ""
             }
            },
            "type": "parcoords"
           }
          ],
          "pie": [
           {
            "automargin": true,
            "type": "pie"
           }
          ],
          "scatter": [
           {
            "fillpattern": {
             "fillmode": "overlay",
             "size": 10,
             "solidity": 0.2
            },
            "type": "scatter"
           }
          ],
          "scatter3d": [
           {
            "line": {
             "colorbar": {
              "outlinewidth": 0,
              "ticks": ""
             }
            },
            "marker": {
             "colorbar": {
              "outlinewidth": 0,
              "ticks": ""
             }
            },
            "type": "scatter3d"
           }
          ],
          "scattercarpet": [
           {
            "marker": {
             "colorbar": {
              "outlinewidth": 0,
              "ticks": ""
             }
            },
            "type": "scattercarpet"
           }
          ],
          "scattergeo": [
           {
            "marker": {
             "colorbar": {
              "outlinewidth": 0,
              "ticks": ""
             }
            },
            "type": "scattergeo"
           }
          ],
          "scattergl": [
           {
            "marker": {
             "colorbar": {
              "outlinewidth": 0,
              "ticks": ""
             }
            },
            "type": "scattergl"
           }
          ],
          "scattermapbox": [
           {
            "marker": {
             "colorbar": {
              "outlinewidth": 0,
              "ticks": ""
             }
            },
            "type": "scattermapbox"
           }
          ],
          "scatterpolar": [
           {
            "marker": {
             "colorbar": {
              "outlinewidth": 0,
              "ticks": ""
             }
            },
            "type": "scatterpolar"
           }
          ],
          "scatterpolargl": [
           {
            "marker": {
             "colorbar": {
              "outlinewidth": 0,
              "ticks": ""
             }
            },
            "type": "scatterpolargl"
           }
          ],
          "scatterternary": [
           {
            "marker": {
             "colorbar": {
              "outlinewidth": 0,
              "ticks": ""
             }
            },
            "type": "scatterternary"
           }
          ],
          "surface": [
           {
            "colorbar": {
             "outlinewidth": 0,
             "ticks": ""
            },
            "colorscale": [
             [
              0,
              "#0d0887"
             ],
             [
              0.1111111111111111,
              "#46039f"
             ],
             [
              0.2222222222222222,
              "#7201a8"
             ],
             [
              0.3333333333333333,
              "#9c179e"
             ],
             [
              0.4444444444444444,
              "#bd3786"
             ],
             [
              0.5555555555555556,
              "#d8576b"
             ],
             [
              0.6666666666666666,
              "#ed7953"
             ],
             [
              0.7777777777777778,
              "#fb9f3a"
             ],
             [
              0.8888888888888888,
              "#fdca26"
             ],
             [
              1,
              "#f0f921"
             ]
            ],
            "type": "surface"
           }
          ],
          "table": [
           {
            "cells": {
             "fill": {
              "color": "#EBF0F8"
             },
             "line": {
              "color": "white"
             }
            },
            "header": {
             "fill": {
              "color": "#C8D4E3"
             },
             "line": {
              "color": "white"
             }
            },
            "type": "table"
           }
          ]
         },
         "layout": {
          "annotationdefaults": {
           "arrowcolor": "#2a3f5f",
           "arrowhead": 0,
           "arrowwidth": 1
          },
          "autotypenumbers": "strict",
          "coloraxis": {
           "colorbar": {
            "outlinewidth": 0,
            "ticks": ""
           }
          },
          "colorscale": {
           "diverging": [
            [
             0,
             "#8e0152"
            ],
            [
             0.1,
             "#c51b7d"
            ],
            [
             0.2,
             "#de77ae"
            ],
            [
             0.3,
             "#f1b6da"
            ],
            [
             0.4,
             "#fde0ef"
            ],
            [
             0.5,
             "#f7f7f7"
            ],
            [
             0.6,
             "#e6f5d0"
            ],
            [
             0.7,
             "#b8e186"
            ],
            [
             0.8,
             "#7fbc41"
            ],
            [
             0.9,
             "#4d9221"
            ],
            [
             1,
             "#276419"
            ]
           ],
           "sequential": [
            [
             0,
             "#0d0887"
            ],
            [
             0.1111111111111111,
             "#46039f"
            ],
            [
             0.2222222222222222,
             "#7201a8"
            ],
            [
             0.3333333333333333,
             "#9c179e"
            ],
            [
             0.4444444444444444,
             "#bd3786"
            ],
            [
             0.5555555555555556,
             "#d8576b"
            ],
            [
             0.6666666666666666,
             "#ed7953"
            ],
            [
             0.7777777777777778,
             "#fb9f3a"
            ],
            [
             0.8888888888888888,
             "#fdca26"
            ],
            [
             1,
             "#f0f921"
            ]
           ],
           "sequentialminus": [
            [
             0,
             "#0d0887"
            ],
            [
             0.1111111111111111,
             "#46039f"
            ],
            [
             0.2222222222222222,
             "#7201a8"
            ],
            [
             0.3333333333333333,
             "#9c179e"
            ],
            [
             0.4444444444444444,
             "#bd3786"
            ],
            [
             0.5555555555555556,
             "#d8576b"
            ],
            [
             0.6666666666666666,
             "#ed7953"
            ],
            [
             0.7777777777777778,
             "#fb9f3a"
            ],
            [
             0.8888888888888888,
             "#fdca26"
            ],
            [
             1,
             "#f0f921"
            ]
           ]
          },
          "colorway": [
           "#636efa",
           "#EF553B",
           "#00cc96",
           "#ab63fa",
           "#FFA15A",
           "#19d3f3",
           "#FF6692",
           "#B6E880",
           "#FF97FF",
           "#FECB52"
          ],
          "font": {
           "color": "#2a3f5f"
          },
          "geo": {
           "bgcolor": "white",
           "lakecolor": "white",
           "landcolor": "#E5ECF6",
           "showlakes": true,
           "showland": true,
           "subunitcolor": "white"
          },
          "hoverlabel": {
           "align": "left"
          },
          "hovermode": "closest",
          "mapbox": {
           "style": "light"
          },
          "paper_bgcolor": "white",
          "plot_bgcolor": "#E5ECF6",
          "polar": {
           "angularaxis": {
            "gridcolor": "white",
            "linecolor": "white",
            "ticks": ""
           },
           "bgcolor": "#E5ECF6",
           "radialaxis": {
            "gridcolor": "white",
            "linecolor": "white",
            "ticks": ""
           }
          },
          "scene": {
           "xaxis": {
            "backgroundcolor": "#E5ECF6",
            "gridcolor": "white",
            "gridwidth": 2,
            "linecolor": "white",
            "showbackground": true,
            "ticks": "",
            "zerolinecolor": "white"
           },
           "yaxis": {
            "backgroundcolor": "#E5ECF6",
            "gridcolor": "white",
            "gridwidth": 2,
            "linecolor": "white",
            "showbackground": true,
            "ticks": "",
            "zerolinecolor": "white"
           },
           "zaxis": {
            "backgroundcolor": "#E5ECF6",
            "gridcolor": "white",
            "gridwidth": 2,
            "linecolor": "white",
            "showbackground": true,
            "ticks": "",
            "zerolinecolor": "white"
           }
          },
          "shapedefaults": {
           "line": {
            "color": "#2a3f5f"
           }
          },
          "ternary": {
           "aaxis": {
            "gridcolor": "white",
            "linecolor": "white",
            "ticks": ""
           },
           "baxis": {
            "gridcolor": "white",
            "linecolor": "white",
            "ticks": ""
           },
           "bgcolor": "#E5ECF6",
           "caxis": {
            "gridcolor": "white",
            "linecolor": "white",
            "ticks": ""
           }
          },
          "title": {
           "x": 0.05
          },
          "xaxis": {
           "automargin": true,
           "gridcolor": "white",
           "linecolor": "white",
           "ticks": "",
           "title": {
            "standoff": 15
           },
           "zerolinecolor": "white",
           "zerolinewidth": 2
          },
          "yaxis": {
           "automargin": true,
           "gridcolor": "white",
           "linecolor": "white",
           "ticks": "",
           "title": {
            "standoff": 15
           },
           "zerolinecolor": "white",
           "zerolinewidth": 2
          }
         }
        },
        "title": {
         "text": "Kurly Review"
        }
       }
      }
     },
     "metadata": {},
     "output_type": "display_data"
    },
    {
     "data": {
      "text/plain": [
       "'kurly_review.html'"
      ]
     },
     "execution_count": 42,
     "metadata": {},
     "output_type": "execute_result"
    }
   ],
   "source": [
    "# annotation text 만들기 (시각화할 때 벡터 말고 단어도 필요하니까)\n",
    "# vocabs = word_vectors.vocab.keys()\n",
    "\n",
    "word_vectors = model.wv\n",
    "vocabs = word_vectors.key_to_index.keys()\n",
    "word_vectors_list = [word_vectors[v] for v in vocabs]\n",
    "\n",
    "pca = PCA(n_components=2)\n",
    "xys = pca.fit_transform(word_vectors_list)\n",
    "xs = xys[:,0]\n",
    "ys=xys[:,1]\n",
    "\n",
    "text=[]\n",
    "for i,v in enumerate(vocabs):\n",
    "    text.append(v)\n",
    "\n",
    "fig = go.Figure(data=go.Scatter(x=xs,\n",
    "                                y=ys,\n",
    "                                mode='markers+text',\n",
    "                                text=text)) \n",
    "\n",
    "fig.update_layout(title='Kurly Review')\n",
    "fig.show()\n",
    "\n",
    "plotly.offline.plot(\n",
    "fig, filename='kurly_review.html'\n",
    ")\n",
    "# 파일 저장시\n",
    "#fig.write_html(\"C:/Users/NT550-048/Desktop/잇더/솥밥/kurly_review_온하루한돈건나물솥밥.html\")"
   ]
  }
 ],
 "metadata": {
  "kernelspec": {
   "display_name": "doeat",
   "language": "python",
   "name": "python3"
  },
  "language_info": {
   "codemirror_mode": {
    "name": "ipython",
    "version": 3
   },
   "file_extension": ".py",
   "mimetype": "text/x-python",
   "name": "python",
   "nbconvert_exporter": "python",
   "pygments_lexer": "ipython3",
   "version": "3.9.17"
  },
  "orig_nbformat": 4
 },
 "nbformat": 4,
 "nbformat_minor": 2
}
