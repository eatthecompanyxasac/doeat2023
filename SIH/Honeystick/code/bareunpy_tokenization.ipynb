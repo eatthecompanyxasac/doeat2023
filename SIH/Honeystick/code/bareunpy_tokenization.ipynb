{
 "cells": [
  {
   "cell_type": "code",
   "execution_count": 4,
   "metadata": {},
   "outputs": [],
   "source": [
    "import sys\n",
    "import os\n",
    "import pandas as pd\n",
    "import numpy as np\n",
    "\n",
    "from collections import Counter\n",
    "from bareunpy._tagger import Tagger, Tagged\n",
    "from bareunpy._tokenizer import Tokenizer, Tokenized\n",
    "from bareunpy._custom_dict import CustomDict\n",
    "from bareunpy._custom_dict_client import CustomDictionaryServiceClient\n",
    "from bareunpy._lang_service_client import BareunLanguageServiceClient\n",
    "\n",
    "import json\n",
    "from sys import stdout\n",
    "from typing import IO, List, Any, Union\n",
    "\n",
    "# 데이터 전처리 알고리즘\n",
    "from sklearn.preprocessing import LabelEncoder\n",
    "from sklearn.preprocessing import StandardScaler\n",
    "\n",
    "\n",
    "import bareunpy as brn\n",
    "from google.protobuf.json_format import MessageToDict\n",
    "import grpc\n",
    "from bareunpy._custom_dict import CustomDict\n",
    "from bareunpy._lang_service_client import BareunLanguageServiceClient, MAX_MESSAGE_LENGTH\n",
    "from bareun.language_service_pb2 import AnalyzeSyntaxResponse, AnalyzeSyntaxListResponse, Morpheme, Sentence, Token"
   ]
  },
  {
   "cell_type": "code",
   "execution_count": null,
   "metadata": {},
   "outputs": [],
   "source": [
    "# 리뷰 출력시 ... 없이 전부 나오게 설정\n",
    "pd.set_option('display.max_colwidth', None)\n",
    "#pd.set_option('display.max_columns', None)\n",
    "#pd.set_option('display.width', None)\n",
    "pd.set_option('display.max_rows', None)"
   ]
  },
  {
   "cell_type": "markdown",
   "metadata": {},
   "source": []
  },
  {
   "cell_type": "code",
   "execution_count": null,
   "metadata": {},
   "outputs": [],
   "source": [
    "naver_shopping = pd.read_csv(r'C:\\Users\\NT550\\asac\\SIH\\SIH\\code2\\result\\naver_shopping_review.csv')\n",
    "naver_shopping['제품명'].value_counts()"
   ]
  },
  {
   "cell_type": "code",
   "execution_count": null,
   "metadata": {},
   "outputs": [],
   "source": [
    "# df_review = review for review in naver_shopping['리뷰'] if review == str \n",
    "df_review = [review for review in naver_shopping['리뷰'] if type(review) is str]\n",
    "df_review"
   ]
  },
  {
   "cell_type": "code",
   "execution_count": null,
   "metadata": {},
   "outputs": [],
   "source": [
    "# 한글 외의 모든 글자를 제거한다.\n",
    "# 한글 정규식을 이용하여 한글 외의 모든 글자를 제거한다.\n",
    "\n",
    "import re\n",
    "\n",
    "def text_clearing(text):\n",
    "    if isinstance(text, str):  # 값이 문자열인 경우에만 처리\n",
    "        hangul = re.compile('[^ ㄱ-ㅣ가-힣]+')\n",
    "        result = hangul.sub('', text)\n",
    "        return result\n",
    "    else:\n",
    "        return \"\"\n"
   ]
  },
  {
   "cell_type": "code",
   "execution_count": null,
   "metadata": {},
   "outputs": [],
   "source": [
    "naver_shopping[\"ko_review\"] = naver_shopping[\"리뷰\"].apply(lambda x : text_clearing(x))"
   ]
  },
  {
   "cell_type": "code",
   "execution_count": null,
   "metadata": {},
   "outputs": [],
   "source": [
    "#naver_shopping.to_csv('naver_shopping.csv')"
   ]
  },
  {
   "cell_type": "markdown",
   "metadata": {},
   "source": [
    "### bareunpy 예시"
   ]
  },
  {
   "cell_type": "code",
   "execution_count": null,
   "metadata": {},
   "outputs": [],
   "source": [
    "#bareunpy 예시\n",
    "\n",
    "#import bareunpy as brn\n",
    "#tagger = brn.Tagger(apikey=\"kpba-YOURKEY\", domain=\"custom\")\n",
    "#>>> print(tagger.morphs('안녕하세요, 반가워요.'))\n",
    "#['안녕', '하', '시', '어요', ',', '반갑', '어요', '.']\n",
    "#>>> print(tagger.nouns('나비 허리에 새파란 초생달이 시리다.'))\n",
    "#['나비', '허리', '초생달']\n",
    "#>>> print(tagger.pos('햇빛이 선명하게 나뭇잎을 핥고 있었다.'))\n",
    "#[('햇빛', 'NNG'), ('이', 'JKS'), ('선명', 'NNG'), ('하', 'XSA'), ('게', 'EC'), ('나뭇잎', 'NNG'),\n",
    "    #('을', 'JKO'), ('핥', 'VV'), ('고', 'EC'), ('있', 'VX'), ('었', 'EP'), ('다', 'EF'), ('.', 'SF')]"
   ]
  },
  {
   "cell_type": "code",
   "execution_count": 5,
   "metadata": {},
   "outputs": [],
   "source": [
    "tagger = brn.Tagger(apikey=\"koba-YGC27UA-OD3UPJY-VOIHT3I-G6IKLNA\", domain=\"custom\")"
   ]
  },
  {
   "cell_type": "markdown",
   "metadata": {},
   "source": [
    "### 불용어 처리"
   ]
  },
  {
   "cell_type": "code",
   "execution_count": null,
   "metadata": {},
   "outputs": [],
   "source": [
    "import nltk\n",
    "nltk.download('stopwords')"
   ]
  },
  {
   "cell_type": "code",
   "execution_count": null,
   "metadata": {},
   "outputs": [],
   "source": [
    "from nltk.corpus import stopwords\n",
    "from nltk.tokenize import word_tokenize "
   ]
  },
  {
   "cell_type": "code",
   "execution_count": 10,
   "metadata": {},
   "outputs": [
    {
     "name": "stdout",
     "output_type": "stream",
     "text": [
      "['처음', '종', '원', '추가', '추천', '손', '비케어풀', '홈페이지', '미', '하루', '대하', '그렇', '링크', '샘플', '진행', '약', '택배', '앞', '지', '허니', '이야기', '이것', '위', '겸', 'ㅎ', '오픈', '없', '전', '한', '입', '오늘', '작성', '누구', '푸드', '사항', '적', '잔', '컷', '선', '개인', '문의', '간', '사용기', '넷', '주', '돈', '속', '번', '일반', '완성', '성', '세상', '섭취', '곳', '리뷰', '유통', '종류', '이용', '펴기', '손않', '박', '중', '사용', '등', '아래', '나', '않', '마음', '이', '근', '나무', '공부', '선물', '컵', '비해피네이처', '맘', '반', '종이', '밀', '경우', '미만', '프로', '알타이', '잘', '달', '소개', 'ㅠㅠ', 'ㅋ', '같', 'ㅜ', '사람', '우리', '다음', '힐링', '굿', '있', '이유', '개', '요', '방법', '이거', '개봉', '하나', '들', '그거', '무엇', '생', '중요', '이하', '연', '가능', '힘', '날', '어용', '후', '요즘', '사진', '과정', '준비', '청', '끝', '라보', '정도', '팜', '스틱', '반품', '안녕하세요', '시작', '용', '저희', 'ㅜㅜ', '소', '구입', '재', '대', '도착', '떼', '상품', '판매', '범', '관심', '분', '산', 'ㅠ', 'ㅎㅎ', '각종', '가', '생각', '이지', '사실', '국', '시간', '아티키', '확인', '것', '말', '세계', '블로거', '포스팅', '보기', '어디', '타임', '그', '유튜브', '편', 'ㅡ', '위하', '품', '꽃', '되', '피나무', '조금', 'ㅋㅋㅋㅋ', '벌꿀', '밥', '주문', '년', '공구', '듯', '참고', '수', '이번', '일', '엔젯허니', '블로그', '일상', '후기', '점', '봉', '1', '제품', '포', '차이', '접기', '씩', '시', '거', '라보리오사꿀', '프로필', '다', '힐러', '저', '여기', '벌', '제', '뭐', '비', '데', '몇', '허니바이허니', '글', '꺼', '돌', '무료', '오', '3', '아니', '꽃꿀', '최고', '형', '맛집', '당귀', '카페', '구매', '생산', '님', '리버', 'ㅋㅋ', '보', '식품', '꿀라보', 'ㅎㅎㅎ', '이름', '재재재', '하', '디', '이벤트', '안', '이상', '때', '2', '덕', '튜브', '0', '이웃', '으', '듣', '인', '꿀', '만', '정보']\n"
     ]
    }
   ],
   "source": [
    "rm_nouns = ['것', '씩', 'ㅎ', '거', '저', 'ㅎㅎ', '들', '포', '꿀', '스틱', '구매', '용', '형', '하나', '수', '개', '소',\n",
    "            '번', '1', 'ㅋ', '중', '굿', '분', '요', '편', '듯', '적', '님', '나', '제', '대', '비', '전', '뭐', '몇',\n",
    "            '데', '만', '다', '떼', '날', '꺼', '겸', '점', '이', '성', '이거', 'ㅋㅋㅋㅋ', 'ㅎㅎㅎ', '등', '1', '2', '3', '디', '년',\n",
    "            '그거', '재', '재재재', '벌꿀']#선물\n",
    "\n",
    "stop_words = ['구매','제품','샘플','꿀','스틱','사용기','뭐','달','수','날','데','저','이번','ㅎ','포','ㅋ','ㅋㅋ','ㅎㅎ','ㅠ','ㅠㅠ','ㅜ','ㅜㅜ','달',\n",
    "              '거','것','꺼','어용','앞','저희','나','저','점','전','포','후','이', '있', '하', '것', '들', '그', '되', '수', '이',\n",
    "              '보','데', '듣','제','분','이거','번','손''않', '없', '나', '사람', '주', '아니', '등', '같', '우리', '때', '년', '가',\n",
    "              '한', '지', '대하', '오', '말', '일', '그렇', '위하','으','잘','시','ㅡ','만','개','선물']\n",
    "\n",
    "stop_word = ['꿀','제품','섭취','꽃','하루','벌꿀','생각','스틱','허니','사용','리버','저','포','추천','품','생각','구매','요즘','맛집','프로필',\n",
    "      '블로거','블로그','꿀라보','입','가능','비','어디','생산','벌','안','식품','판매','주문','정도','마음','위','소개','종류','후','상품',\n",
    "      '접기','펴기','방법','준비','날','이번','오늘','전','종','손','안녕하세요','곳','속','시간','이상','후기', '달','나무','점','잔','확인',\n",
    "      '이하','최고','원','컷','리뷰','이거','경우','엔젯허니','근','처음','박','이지','타임','일상','덕','유통','추가','산','글','시작','일반',\n",
    "      '다음','사진','시','저희','포스팅','이웃','정보','약','꽃꿀','개봉','제','밀','힐링','세계','팜','끝','이야기','소','아래','누구','구입',\n",
    "      '당귀','맘','힐러','각종','개인','여기','이것','택배','이름','세상','미', '푸드','힘','넷','이유','컵','이용','링크','작성','과정',\n",
    "      '비해피네이처','중요','아티키','프로','참고','청','돌','진행','굿','종이','라보','무엇','주','문의','카페','완성','대','비케어풀',\n",
    "      '연','보기','이벤트','조금','도착','피나무','선','무료','공구','범','반','미만','맛집','사항','앞','돈','공부','허니바이허니','사실',\n",
    "      '오픈','관심','생','밥','차이','튜브','봉','알타이','반품','국','인','0','간','홈페이지','라보리오사꿀','유튜브','사용기','뭐',\n",
    "      '수','ㅎ','ㅎㅎ','ㅋ','ㅋㅋ','ㅠ','ㅠㅠ','ㅜ','ㅜㅜ','거','꺼','것','용','나','이', '있','하','들','등','보','데','듣','제','분',\n",
    "      '번','않','없','사람','주','같','때','년','한']\n",
    "\n",
    "\n",
    "\n",
    "final_list = list(set(rm_nouns + stop_words + stop_word))\n",
    "print(final_list)"
   ]
  },
  {
   "cell_type": "code",
   "execution_count": null,
   "metadata": {},
   "outputs": [],
   "source": [
    "fin"
   ]
  },
  {
   "cell_type": "markdown",
   "metadata": {},
   "source": [
    "### bareunpy 토큰화"
   ]
  },
  {
   "cell_type": "code",
   "execution_count": null,
   "metadata": {},
   "outputs": [],
   "source": [
    "# bareunpy 라이브러리로 텍스트 데이터에서 형태소를 추출.\n",
    "def get_pos (x) :\n",
    "    pos = tagger.pos(x)\n",
    "    \n",
    "    # 단어와 품사를 합쳐서 하나의 단어로 만들어준다.\n",
    "    result = []\n",
    "    \n",
    "    # 형태소의 수만큼 반복한다.\n",
    "    # 조사인 것과 명사인 것이 같을 수 있기 때문에 구분해준다.\n",
    "    # 형태소 벡터를 만들때 추후 사용\n",
    "    for a1 in pos :\n",
    "        result.append(f'{a1[0]}/{a1[1]}')\n",
    "    \n",
    "    return result"
   ]
  },
  {
   "cell_type": "code",
   "execution_count": null,
   "metadata": {},
   "outputs": [],
   "source": [
    "# bareunpy 라이브러리로 텍스트 데이터에서 형태소를 추출.\n",
    "def get_nouns (x) :\n",
    "    pos = tagger.nouns(x)\n",
    "    \n",
    "    # 단어와 품사를 합쳐서 하나의 단어로 만들어준다.\n",
    "    result = []\n",
    "    \n",
    "    # 형태소의 수만큼 반복한다.\n",
    "    # 조사인 것과 명사인 것이 같을 수 있기 때문에 구분해준다.\n",
    "    # 형태소 벡터를 만들때 추후 사용\n",
    "    for a1 in pos :\n",
    "        result.append(f'{a1[0]}/{a1[1]}')\n",
    "    \n",
    "    return result"
   ]
  },
  {
   "cell_type": "code",
   "execution_count": null,
   "metadata": {},
   "outputs": [],
   "source": [
    "# bareunpy 라이브러리로 텍스트 데이터에서 형태소를 추출.\n",
    "def get_verb (x) :\n",
    "    pos = tagger.verbs(x)\n",
    "    \n",
    "    # 단어와 품사를 합쳐서 하나의 단어로 만들어준다.\n",
    "    result = []\n",
    "    \n",
    "    # 형태소의 수만큼 반복한다.\n",
    "    # 조사인 것과 명사인 것이 같을 수 있기 때문에 구분해준다.\n",
    "    # 형태소 벡터를 만들때 추후 사용\n",
    "    for a1 in pos :\n",
    "        result.append(f'{a1[0]}/{a1[1]}')\n",
    "    \n",
    "    return result"
   ]
  },
  {
   "cell_type": "code",
   "execution_count": 6,
   "metadata": {},
   "outputs": [
    {
     "name": "stdout",
     "output_type": "stream",
     "text": [
      "['요즘', '커피', '대신', '마누카', '허', '니', '꿀차', '타', '아서', '마시', '기', '도', '하', '고', '요', '.', '제', '가', '애정', '하', '는', '아임힐링', '엔젯허니', '마누카', '꿀', '은', '뉴질랜드산', '백', '프로', '이', '기', '때문', '이', '에요', '.']\n",
      "['나', '이름', '신익환']\n",
      "[]\n"
     ]
    }
   ],
   "source": [
    "print(tagger.morphs('요즘 커피 대신 마누카허니 꿀차 타서 마시기도 하고요.  제가 애정 하는 아임힐링 엔젯허니 마누카꿀은 뉴질랜드산 백 프로이기 때문이에요.'))\n",
    "print(tagger.nouns('안녕하세요, 반가워요. 내 이름은 신익환이에요. 행복하세요'))\n",
    "print(tagger.verbs('안녕하세요, 반가워요. 내 이름은 신익환. 행복하세요'))\n",
    "#tagger.pos('엄마가 약꿀이라고가끔 한 숟갈씩 주곤 했는데쌉싸름한 게 정말 매력적이다.왜 꿀이 써라고 할 수 있지만비타민 미네랄 등 다양한 영양성분을가지고 있어서 부모님께 선물 드리기 좋은 꿀이다.')"
   ]
  },
  {
   "cell_type": "code",
   "execution_count": null,
   "metadata": {},
   "outputs": [],
   "source": [
    "naver_shopping['ko_review']"
   ]
  },
  {
   "cell_type": "code",
   "execution_count": null,
   "metadata": {},
   "outputs": [],
   "source": [
    "tagger.verbs(naver_shopping['ko_review'][0])"
   ]
  },
  {
   "cell_type": "code",
   "execution_count": null,
   "metadata": {},
   "outputs": [],
   "source": [
    "# 'token'이라는 새로운 컬럼 추가 및 값 할당\n",
    "naver_shopping['token'] = naver_shopping['ko_review'].apply(lambda x: tagger.pos(x))\n",
    "\n",
    "# 결과 확인\n",
    "print(naver_shopping['token'])"
   ]
  },
  {
   "cell_type": "code",
   "execution_count": null,
   "metadata": {},
   "outputs": [],
   "source": [
    "# 'token'이라는 새로운 컬럼 추가 및 값 할당\n",
    "naver_shopping['token_nouns'] = naver_shopping['ko_review'].apply(lambda x: tagger.nouns(x))\n",
    "\n",
    "# 결과 확인\n",
    "print(naver_shopping['token_nouns'])"
   ]
  },
  {
   "cell_type": "code",
   "execution_count": null,
   "metadata": {},
   "outputs": [],
   "source": [
    "# 'token'이라는 새로운 컬럼 추가 및 값 할당\n",
    "naver_shopping['token_verbs'] = naver_shopping['ko_review'].apply(lambda x: tagger.verbs(x))\n",
    "\n",
    "# 결과 확인\n",
    "print(naver_shopping['token_verbs'])"
   ]
  },
  {
   "cell_type": "code",
   "execution_count": null,
   "metadata": {},
   "outputs": [],
   "source": [
    "naver_shopping.head()"
   ]
  },
  {
   "cell_type": "code",
   "execution_count": null,
   "metadata": {},
   "outputs": [],
   "source": [
    "naver_shopping.to_csv('shopping_pos.csv')"
   ]
  },
  {
   "cell_type": "code",
   "execution_count": 2,
   "metadata": {},
   "outputs": [
    {
     "data": {
      "text/html": [
       "<div>\n",
       "<style scoped>\n",
       "    .dataframe tbody tr th:only-of-type {\n",
       "        vertical-align: middle;\n",
       "    }\n",
       "\n",
       "    .dataframe tbody tr th {\n",
       "        vertical-align: top;\n",
       "    }\n",
       "\n",
       "    .dataframe thead th {\n",
       "        text-align: right;\n",
       "    }\n",
       "</style>\n",
       "<table border=\"1\" class=\"dataframe\">\n",
       "  <thead>\n",
       "    <tr style=\"text-align: right;\">\n",
       "      <th></th>\n",
       "      <th>Unnamed: 0.1</th>\n",
       "      <th>Unnamed: 0</th>\n",
       "      <th>제품명</th>\n",
       "      <th>가격</th>\n",
       "      <th>평균평점</th>\n",
       "      <th>아이디</th>\n",
       "      <th>평점</th>\n",
       "      <th>날짜</th>\n",
       "      <th>종류</th>\n",
       "      <th>요약</th>\n",
       "      <th>리뷰</th>\n",
       "      <th>ko_review</th>\n",
       "      <th>token</th>\n",
       "      <th>token_nouns</th>\n",
       "      <th>token_verbs</th>\n",
       "    </tr>\n",
       "  </thead>\n",
       "  <tbody>\n",
       "    <tr>\n",
       "      <th>0</th>\n",
       "      <td>0</td>\n",
       "      <td>0</td>\n",
       "      <td>허니바이허니 천연 벌꿀 스틱 90포입 국산 아카시아 5종 선물 세트 [원산지:국산]...</td>\n",
       "      <td>72,000</td>\n",
       "      <td>4.9</td>\n",
       "      <td>miri*******</td>\n",
       "      <td>5.0</td>\n",
       "      <td>23.08.16.</td>\n",
       "      <td>30포 선택1: 아카시아 / 30포 선택2: 아카시아 / 30포 선택3: 아카시아\\n</td>\n",
       "      <td>유통기한아주 넉넉해요포장꼼꼼해요편리편리해요</td>\n",
       "      <td>한달사용기재구매먹기 편하고 품질도 좋아요. 받는 손님도 좋아 하시고 구매등급도 따로...</td>\n",
       "      <td>한달사용기재구매먹기 편하고 품질도 좋아요 받는 손님도 좋아 하시고 구매등급도 따로 ...</td>\n",
       "      <td>[('한', 'XPN'), ('달', 'NNG'), ('사용', 'NNG'), ('...</td>\n",
       "      <td>['달', '사용', '기재', '구매', '품질', '손', '구매', '등급',...</td>\n",
       "      <td>['먹', '받', '좋아하', '생기', '하']</td>\n",
       "    </tr>\n",
       "    <tr>\n",
       "      <th>1</th>\n",
       "      <td>1</td>\n",
       "      <td>1</td>\n",
       "      <td>허니바이허니 천연 벌꿀 스틱 90포입 국산 아카시아 5종 선물 세트 [원산지:국산]...</td>\n",
       "      <td>72,000</td>\n",
       "      <td>4.9</td>\n",
       "      <td>dltm*****</td>\n",
       "      <td>5.0</td>\n",
       "      <td>23.07.28.</td>\n",
       "      <td>30포 선택1: 밤 / 30포 선택2: 밤 / 30포 선택3: 밤\\n</td>\n",
       "      <td>유통기한꽤 남았어요포장꼼꼼해요편리편리해요</td>\n",
       "      <td>간편하게 하루한포씩먹게되요~냉장이나 냉동으로 해서 시원하게 먹으니 맛잇어요!!밤꿀이...</td>\n",
       "      <td>간편하게 하루한포씩먹게되요냉장이나 냉동으로 해서 시원하게 먹으니 맛잇어요밤꿀이 많이...</td>\n",
       "      <td>[('간편하', 'VA'), ('게', 'EC'), ('하루', 'NNG'), ('...</td>\n",
       "      <td>['하루', '포', '냉장', '냉동', '밤꿀', '쓸줄알', '편', '생각'...</td>\n",
       "      <td>['먹', '되', '하', '먹', '맛잇', '앗', '쓰', '먹', '먹',...</td>\n",
       "    </tr>\n",
       "    <tr>\n",
       "      <th>2</th>\n",
       "      <td>2</td>\n",
       "      <td>2</td>\n",
       "      <td>허니바이허니 천연 벌꿀 스틱 90포입 국산 아카시아 5종 선물 세트 [원산지:국산]...</td>\n",
       "      <td>72,000</td>\n",
       "      <td>4.9</td>\n",
       "      <td>yjdr****</td>\n",
       "      <td>5.0</td>\n",
       "      <td>23.08.06.</td>\n",
       "      <td>30포 선택1: 올인원 / 30포 선택2: 올인원 / 30포 선택3: 아카시아\\n</td>\n",
       "      <td>유통기한꽤 남았어요포장꼼꼼해요편리편리해요</td>\n",
       "      <td>홍삼이 여자몸에 안좋다고해서.. 그동안 안먹다가 꿀 스틱 보고 주문했습니다\\n당떨어...</td>\n",
       "      <td>홍삼이 여자몸에 안좋다고해서 그동안 안먹다가 꿀 스틱 보고 주문했습니다당떨어지기전에...</td>\n",
       "      <td>[('홍삼', 'NNG'), ('이', 'JKS'), ('여자', 'NNG'), (...</td>\n",
       "      <td>['홍삼', '여자', '몸', '동안', '꿀', '스틱', '당', '전', '...</td>\n",
       "      <td>['하', '먹', '보', '주문하', '떨어지', '먹', '먹', '뜯', '...</td>\n",
       "    </tr>\n",
       "    <tr>\n",
       "      <th>3</th>\n",
       "      <td>3</td>\n",
       "      <td>3</td>\n",
       "      <td>허니바이허니 천연 벌꿀 스틱 90포입 국산 아카시아 5종 선물 세트 [원산지:국산]...</td>\n",
       "      <td>72,000</td>\n",
       "      <td>4.9</td>\n",
       "      <td>2133***</td>\n",
       "      <td>5.0</td>\n",
       "      <td>23.07.13.</td>\n",
       "      <td>30포 선택1: 밤 / 30포 선택2: 야생화 / 30포 선택3: 올인원\\n</td>\n",
       "      <td>유통기한아주 넉넉해요포장꼼꼼해요편리편리해요</td>\n",
       "      <td>BEST꿀이 피로 회복, 기관지에 좋다고 하는데 사실 어느정도가 적당한지, 너무 많...</td>\n",
       "      <td>꿀이 피로 회복 기관지에 좋다고 하는데 사실 어느정도가 적당한지 너무 많이 먹으면 ...</td>\n",
       "      <td>[('꿀', 'NNG'), ('이', 'JKS'), ('피로', 'NNG'), ('...</td>\n",
       "      <td>['꿀', '피로', '회복', '기관지', '정도', '거', 'ㅠ', '부모',...</td>\n",
       "      <td>['하', '먹', '고민되', '선물하', '들', '올라가', '됬', '먹',...</td>\n",
       "    </tr>\n",
       "    <tr>\n",
       "      <th>4</th>\n",
       "      <td>4</td>\n",
       "      <td>4</td>\n",
       "      <td>허니바이허니 천연 벌꿀 스틱 90포입 국산 아카시아 5종 선물 세트 [원산지:국산]...</td>\n",
       "      <td>72,000</td>\n",
       "      <td>4.9</td>\n",
       "      <td>klys****</td>\n",
       "      <td>5.0</td>\n",
       "      <td>23.08.12.</td>\n",
       "      <td>30포 선택1: 야생화 / 30포 선택2: 밤 / 30포 선택3: 아카시아\\n</td>\n",
       "      <td>유통기한아주 넉넉해요포장꼼꼼해요편리편리해요</td>\n",
       "      <td>한달사용기진짜 꿀이예요. 예전 시골에서 먹던 꿀맛과 같아요. 술먹고 먹어도 숙취에도...</td>\n",
       "      <td>한달사용기진짜 꿀이예요 예전 시골에서 먹던 꿀맛과 같아요 술먹고 먹어도 숙취에도 좋...</td>\n",
       "      <td>[('한', 'MMN'), ('달', 'NNB'), ('사용기', 'NNG'), (...</td>\n",
       "      <td>['달', '사용기', '진짜', '꿀', '예전', '시골', '꿀맛', '술',...</td>\n",
       "      <td>['먹', '먹', '먹', '구매하']</td>\n",
       "    </tr>\n",
       "  </tbody>\n",
       "</table>\n",
       "</div>"
      ],
      "text/plain": [
       "   Unnamed: 0.1  Unnamed: 0  \\\n",
       "0             0           0   \n",
       "1             1           1   \n",
       "2             2           2   \n",
       "3             3           3   \n",
       "4             4           4   \n",
       "\n",
       "                                                 제품명      가격  평균평점  \\\n",
       "0  허니바이허니 천연 벌꿀 스틱 90포입 국산 아카시아 5종 선물 세트 [원산지:국산]...  72,000   4.9   \n",
       "1  허니바이허니 천연 벌꿀 스틱 90포입 국산 아카시아 5종 선물 세트 [원산지:국산]...  72,000   4.9   \n",
       "2  허니바이허니 천연 벌꿀 스틱 90포입 국산 아카시아 5종 선물 세트 [원산지:국산]...  72,000   4.9   \n",
       "3  허니바이허니 천연 벌꿀 스틱 90포입 국산 아카시아 5종 선물 세트 [원산지:국산]...  72,000   4.9   \n",
       "4  허니바이허니 천연 벌꿀 스틱 90포입 국산 아카시아 5종 선물 세트 [원산지:국산]...  72,000   4.9   \n",
       "\n",
       "           아이디   평점         날짜  \\\n",
       "0  miri*******  5.0  23.08.16.   \n",
       "1    dltm*****  5.0  23.07.28.   \n",
       "2     yjdr****  5.0  23.08.06.   \n",
       "3      2133***  5.0  23.07.13.   \n",
       "4     klys****  5.0  23.08.12.   \n",
       "\n",
       "                                                종류                       요약  \\\n",
       "0  30포 선택1: 아카시아 / 30포 선택2: 아카시아 / 30포 선택3: 아카시아\\n  유통기한아주 넉넉해요포장꼼꼼해요편리편리해요   \n",
       "1           30포 선택1: 밤 / 30포 선택2: 밤 / 30포 선택3: 밤\\n   유통기한꽤 남았어요포장꼼꼼해요편리편리해요   \n",
       "2    30포 선택1: 올인원 / 30포 선택2: 올인원 / 30포 선택3: 아카시아\\n   유통기한꽤 남았어요포장꼼꼼해요편리편리해요   \n",
       "3       30포 선택1: 밤 / 30포 선택2: 야생화 / 30포 선택3: 올인원\\n  유통기한아주 넉넉해요포장꼼꼼해요편리편리해요   \n",
       "4      30포 선택1: 야생화 / 30포 선택2: 밤 / 30포 선택3: 아카시아\\n  유통기한아주 넉넉해요포장꼼꼼해요편리편리해요   \n",
       "\n",
       "                                                  리뷰  \\\n",
       "0  한달사용기재구매먹기 편하고 품질도 좋아요. 받는 손님도 좋아 하시고 구매등급도 따로...   \n",
       "1  간편하게 하루한포씩먹게되요~냉장이나 냉동으로 해서 시원하게 먹으니 맛잇어요!!밤꿀이...   \n",
       "2  홍삼이 여자몸에 안좋다고해서.. 그동안 안먹다가 꿀 스틱 보고 주문했습니다\\n당떨어...   \n",
       "3  BEST꿀이 피로 회복, 기관지에 좋다고 하는데 사실 어느정도가 적당한지, 너무 많...   \n",
       "4  한달사용기진짜 꿀이예요. 예전 시골에서 먹던 꿀맛과 같아요. 술먹고 먹어도 숙취에도...   \n",
       "\n",
       "                                           ko_review  \\\n",
       "0  한달사용기재구매먹기 편하고 품질도 좋아요 받는 손님도 좋아 하시고 구매등급도 따로 ...   \n",
       "1  간편하게 하루한포씩먹게되요냉장이나 냉동으로 해서 시원하게 먹으니 맛잇어요밤꿀이 많이...   \n",
       "2  홍삼이 여자몸에 안좋다고해서 그동안 안먹다가 꿀 스틱 보고 주문했습니다당떨어지기전에...   \n",
       "3  꿀이 피로 회복 기관지에 좋다고 하는데 사실 어느정도가 적당한지 너무 많이 먹으면 ...   \n",
       "4  한달사용기진짜 꿀이예요 예전 시골에서 먹던 꿀맛과 같아요 술먹고 먹어도 숙취에도 좋...   \n",
       "\n",
       "                                               token  \\\n",
       "0  [('한', 'XPN'), ('달', 'NNG'), ('사용', 'NNG'), ('...   \n",
       "1  [('간편하', 'VA'), ('게', 'EC'), ('하루', 'NNG'), ('...   \n",
       "2  [('홍삼', 'NNG'), ('이', 'JKS'), ('여자', 'NNG'), (...   \n",
       "3  [('꿀', 'NNG'), ('이', 'JKS'), ('피로', 'NNG'), ('...   \n",
       "4  [('한', 'MMN'), ('달', 'NNB'), ('사용기', 'NNG'), (...   \n",
       "\n",
       "                                         token_nouns  \\\n",
       "0  ['달', '사용', '기재', '구매', '품질', '손', '구매', '등급',...   \n",
       "1  ['하루', '포', '냉장', '냉동', '밤꿀', '쓸줄알', '편', '생각'...   \n",
       "2  ['홍삼', '여자', '몸', '동안', '꿀', '스틱', '당', '전', '...   \n",
       "3  ['꿀', '피로', '회복', '기관지', '정도', '거', 'ㅠ', '부모',...   \n",
       "4  ['달', '사용기', '진짜', '꿀', '예전', '시골', '꿀맛', '술',...   \n",
       "\n",
       "                                         token_verbs  \n",
       "0                       ['먹', '받', '좋아하', '생기', '하']  \n",
       "1  ['먹', '되', '하', '먹', '맛잇', '앗', '쓰', '먹', '먹',...  \n",
       "2  ['하', '먹', '보', '주문하', '떨어지', '먹', '먹', '뜯', '...  \n",
       "3  ['하', '먹', '고민되', '선물하', '들', '올라가', '됬', '먹',...  \n",
       "4                             ['먹', '먹', '먹', '구매하']  "
      ]
     },
     "execution_count": 2,
     "metadata": {},
     "output_type": "execute_result"
    }
   ],
   "source": [
    "df = pd.read_csv(r'C:\\Users\\NT550\\asac\\SIH\\SIH\\code2\\code\\shopping_pos.csv')\n",
    "df.head()"
   ]
  },
  {
   "cell_type": "code",
   "execution_count": 12,
   "metadata": {},
   "outputs": [
    {
     "name": "stdout",
     "output_type": "stream",
     "text": [
      "<class 'pandas.core.frame.DataFrame'>\n",
      "Int64Index: 55796 entries, 0 to 57140\n",
      "Data columns (total 15 columns):\n",
      " #   Column        Non-Null Count  Dtype  \n",
      "---  ------        --------------  -----  \n",
      " 0   Unnamed: 0.1  55796 non-null  int64  \n",
      " 1   Unnamed: 0    55796 non-null  int64  \n",
      " 2   제품명           55796 non-null  object \n",
      " 3   가격            55796 non-null  object \n",
      " 4   평균평점          51760 non-null  float64\n",
      " 5   아이디           55796 non-null  object \n",
      " 6   평점            55796 non-null  float64\n",
      " 7   날짜            55796 non-null  object \n",
      " 8   종류            54441 non-null  object \n",
      " 9   요약            55796 non-null  object \n",
      " 10  리뷰            55796 non-null  object \n",
      " 11  ko_review     55763 non-null  object \n",
      " 12  token         55796 non-null  object \n",
      " 13  token_nouns   55796 non-null  object \n",
      " 14  token_verbs   55796 non-null  object \n",
      "dtypes: float64(2), int64(2), object(11)\n",
      "memory usage: 6.8+ MB\n"
     ]
    }
   ],
   "source": [
    "df.dropna(subset=['리뷰'], inplace=True)\n",
    "df.info()"
   ]
  },
  {
   "cell_type": "code",
   "execution_count": 14,
   "metadata": {},
   "outputs": [
    {
     "data": {
      "image/png": "[encoded data removed]",
      "text/plain": [
       "<Figure size 1000x1000 with 1 Axes>"
      ]
     },
     "metadata": {},
     "output_type": "display_data"
    }
   ],
   "source": [
    "from collections import Counter\n",
    "from wordcloud import WordCloud\n",
    "import matplotlib.pyplot as plt\n",
    "import pandas as pd\n",
    "# '패키지'와 연관된 리뷰 추출\n",
    "reviews_related_to_package = df[df['리뷰'].str.contains('패키지')]\n",
    "\n",
    "# 명사 컬럼과 용언 컬럼을 합침\n",
    "combined_words = reviews_related_to_package['token_nouns'].tolist() + reviews_related_to_package['token_verbs'].tolist()\n",
    "\n",
    "# 불용어 제거\n",
    "combined_words = [word for word in combined_words if word not in stop_words]\n",
    "\n",
    "# 워드클라우드 함수\n",
    "def wc_analysis(data):\n",
    "    words = dict(Counter(data).most_common(300))\n",
    "    wordcloud = WordCloud(font_path='C:/Users/NT550/asac/SIH/SIH/Kurly/NanumBarunGothic.ttf', background_color='black', colormap=\"Accent_r\",\n",
    "                          width=800, height=500).generate_from_frequencies(words)\n",
    "    plt.figure(figsize=(10, 10))\n",
    "    plt.imshow(wordcloud)\n",
    "    plt.axis('off')\n",
    "    plt.show()\n",
    "\n",
    "# 워드클라우드 생성\n",
    "wc_analysis(combined_words)"
   ]
  },
  {
   "cell_type": "code",
   "execution_count": null,
   "metadata": {},
   "outputs": [],
   "source": [
    "naver_shopping[\"ko_review\"].tolist()"
   ]
  },
  {
   "cell_type": "code",
   "execution_count": null,
   "metadata": {},
   "outputs": [],
   "source": [
    "# 형태소 벡터를 생성하기 위한 라이브러리\n",
    "from sklearn.feature_extraction.text import CountVectorizer\n",
    "# 형태소 벡터를 학습 벡터로 변환한다.\n",
    "from sklearn.feature_extraction.text import TfidfTransformer\n",
    "\n",
    "# 형태소 추출\n",
    "index_vectorizer = CountVectorizer(tokenizer=lambda x : get_pos(x))\n",
    "X = index_vectorizer.fit_transform(naver_shopping[\"ko_review\"].tolist())"
   ]
  },
  {
   "cell_type": "code",
   "execution_count": null,
   "metadata": {},
   "outputs": [],
   "source": [
    "index_vectorizer.vocabulary_"
   ]
  },
  {
   "cell_type": "code",
   "execution_count": null,
   "metadata": {},
   "outputs": [],
   "source": [
    "# CountVectorizer로 생성한 형태소 벡터에서 단어 빈도수를 계산\n",
    "word_frequencies = X.sum(axis=0)\n",
    "\n",
    "# 각 단어와 빈도수를 매핑하는 딕셔너리 생성\n",
    "word_frequency_dict = {}\n",
    "for word, index in index_vectorizer.vocabulary_.items():\n",
    "    word_frequency_dict[word] = word_frequencies[0, index]\n",
    "\n",
    "# 빈도수가 큰 순서대로 정렬된 딕셔너리 생성\n",
    "sorted_word_frequency_dict = dict(sorted(word_frequency_dict.items(), key=lambda item: item[1], reverse=True))\n",
    "\n",
    "# 결과 출력\n",
    "for word, frequency in sorted_word_frequency_dict.items():\n",
    "    print(f\"{word}: {frequency}\")\n"
   ]
  },
  {
   "cell_type": "code",
   "execution_count": null,
   "metadata": {},
   "outputs": [],
   "source": [
    "# 딕셔너리를 DataFrame으로 변환합니다.\n",
    "#df = pd.DataFrame(list(sorted_word_frequency_dict.items()), columns=['Top Nouns', '빈도수'])\n",
    "\n",
    "# DataFrame을 출력합니다.\n",
    "df = pd.read_csv(r'C:\\Users\\NT550\\asac\\SIH\\SIH\\code2\\result\\naver_shopping_frequent.csv')\n",
    "df.head()"
   ]
  },
  {
   "cell_type": "code",
   "execution_count": null,
   "metadata": {},
   "outputs": [],
   "source": [
    "# \"Top Nouns\" 컬럼을 한글, 품사, 빈도수로 분리하여 새로운 컬럼 추가\n",
    "df[['단어','품사']] = df['Top Nouns'].str.split('/', expand=True)\n",
    "df = df[['단어', '품사', '빈도수']]\n",
    "\n",
    "df.head()"
   ]
  },
  {
   "cell_type": "code",
   "execution_count": null,
   "metadata": {},
   "outputs": [],
   "source": [
    "# 'NNP'와 'NNG'를 하나로 합치는 코드\n",
    "combined_pos = ['NNP', 'NNG']\n",
    "\n",
    "df.loc[df['품사'].isin(combined_pos), '품사'] = 'NNG/NNP'\n",
    "\n",
    "df"
   ]
  },
  {
   "cell_type": "code",
   "execution_count": null,
   "metadata": {},
   "outputs": [],
   "source": [
    "shopping_n = df[df['품사'] == 'NNG/NNP']\n",
    "shopping_v = df[df['품사'] == 'VV']\n",
    "shopping_a = df[df['품사'] == 'VA']\n",
    "shopping_a"
   ]
  },
  {
   "cell_type": "code",
   "execution_count": null,
   "metadata": {},
   "outputs": [],
   "source": [
    "with pd.option_context('display.max_rows', None, 'display.max_columns', None):\n",
    "    print(shopping_a[:100])\n",
    "    "
   ]
  },
  {
   "cell_type": "code",
   "execution_count": null,
   "metadata": {},
   "outputs": [],
   "source": [
    "with pd.option_context('display.max_rows', None, 'display.max_columns', None):\n",
    "    print(shopping_v[:100])\n",
    "    \n"
   ]
  },
  {
   "cell_type": "code",
   "execution_count": null,
   "metadata": {},
   "outputs": [],
   "source": [
    "# df_n을 실행할 때만 모든 행과 열 출력 설정 적용\n",
    "with pd.option_context('display.max_rows', None, 'display.max_columns', None):\n",
    "    print(shopping_n)\n"
   ]
  },
  {
   "cell_type": "code",
   "execution_count": null,
   "metadata": {},
   "outputs": [],
   "source": [
    "shopping_n.to_excel('쇼핑_명사_all.xlsx')"
   ]
  },
  {
   "cell_type": "code",
   "execution_count": null,
   "metadata": {},
   "outputs": [],
   "source": [
    "df_nouns = pd.read_csv(r'C:\\Users\\NT550\\asac\\SIH\\SIH\\code2\\code\\shopping_nouns.csv')\n",
    "df_nouns.head()"
   ]
  },
  {
   "cell_type": "markdown",
   "metadata": {},
   "source": [
    "### 불용어 처리"
   ]
  },
  {
   "cell_type": "code",
   "execution_count": null,
   "metadata": {},
   "outputs": [],
   "source": [
    "df_nouns.info()"
   ]
  },
  {
   "cell_type": "code",
   "execution_count": null,
   "metadata": {},
   "outputs": [],
   "source": [
    "# 조건에 맞게 처리하는 함수\n",
    "def process_tokens(token_list):\n",
    "    processed_tokens = []\n",
    "    for token in token_list:\n",
    "        if len(token) == 1:\n",
    "            continue\n",
    "        if '꿀' in token and '스틱' in token:\n",
    "            processed_tokens.append('꿀스틱')\n",
    "        else:\n",
    "            processed_tokens.append(token)\n",
    "    return processed_tokens\n",
    "\n",
    "# 'processed_tokens' 열 생성\n",
    "df_nouns['processed_tokens'] = df_nouns['token_nouns'].apply(process_tokens)\n",
    "\n",
    "# 결과 출력\n",
    "df_nouns['processed_tokens']"
   ]
  },
  {
   "cell_type": "markdown",
   "metadata": {},
   "source": [
    "### 네이버 지식인 토큰화"
   ]
  },
  {
   "cell_type": "code",
   "execution_count": null,
   "metadata": {},
   "outputs": [],
   "source": [
    "df = pd.read_excel(r'C:\\Users\\NT550\\asac\\SIH\\SIH\\code2\\result\\네이버지식인.xlsx')\n",
    "print(len(df))\n",
    "df.head()"
   ]
  },
  {
   "cell_type": "code",
   "execution_count": null,
   "metadata": {},
   "outputs": [],
   "source": [
    "# 모든 컬럼에 '꿀'이라는 단어가 없는 행을 필터링합니다.\n",
    "filtered_df = df[~(df['제목'].str.contains('꿀', na=False) &\n",
    "                  df['질문'].str.contains('꿀', na=False) &\n",
    "                  df['답변'].str.contains('꿀', na=False))]\n",
    "\n",
    "# 결과를 출력합니다.\n",
    "filtered_df[['제목','질문', '답변']].to_excel('네이버 지식인_제목,질문,답변.xlsx')"
   ]
  },
  {
   "cell_type": "code",
   "execution_count": null,
   "metadata": {},
   "outputs": [],
   "source": [
    "# 리뷰 출력시 ... 없이 전부 나오게 설정\n",
    "pd.set_option('display.max_colwidth', None)\n",
    "pd.set_option('display.max_columns', None)\n",
    "pd.set_option('display.width', None)\n",
    "pd.set_option('display.max_rows', None)"
   ]
  },
  {
   "cell_type": "code",
   "execution_count": null,
   "metadata": {},
   "outputs": [],
   "source": [
    "filtered_df[['질문', '답변']]"
   ]
  },
  {
   "cell_type": "code",
   "execution_count": null,
   "metadata": {},
   "outputs": [],
   "source": [
    "filtered_df[\"ko_review\"] = filtered_df[\"답변\"].apply(lambda x : text_clearing(x))"
   ]
  },
  {
   "cell_type": "code",
   "execution_count": null,
   "metadata": {},
   "outputs": [],
   "source": [
    "# 형태소 벡터를 생성하기 위한 라이브러리\n",
    "from sklearn.feature_extraction.text import CountVectorizer\n",
    "# 형태소 벡터를 학습 벡터로 변환한다.\n",
    "from sklearn.feature_extraction.text import TfidfTransformer\n",
    "\n",
    "# 형태소 추출\n",
    "index_vectorizer = CountVectorizer(tokenizer=lambda x : get_pos(x))\n",
    "X = index_vectorizer.fit_transform(filtered_df[\"ko_review\"].tolist())"
   ]
  },
  {
   "cell_type": "code",
   "execution_count": null,
   "metadata": {},
   "outputs": [],
   "source": [
    "index_vectorizer.vocabulary_"
   ]
  },
  {
   "cell_type": "code",
   "execution_count": null,
   "metadata": {},
   "outputs": [],
   "source": [
    "# CountVectorizer로 생성한 형태소 벡터에서 단어 빈도수를 계산\n",
    "word_frequencies = X.sum(axis=0)\n",
    "\n",
    "# 각 단어와 빈도수를 매핑하는 딕셔너리 생성\n",
    "word_frequency_dict = {}\n",
    "for word, index in index_vectorizer.vocabulary_.items():\n",
    "    word_frequency_dict[word] = word_frequencies[0, index]\n",
    "\n",
    "# 빈도수가 큰 순서대로 정렬된 딕셔너리 생성\n",
    "sorted_word_frequency_dict = dict(sorted(word_frequency_dict.items(), key=lambda item: item[1], reverse=True))\n",
    "\n",
    "# 결과 출력\n",
    "for word, frequency in sorted_word_frequency_dict.items():\n",
    "    print(f\"{word}: {frequency}\")\n"
   ]
  },
  {
   "cell_type": "code",
   "execution_count": null,
   "metadata": {},
   "outputs": [],
   "source": [
    "# 딕셔너리를 DataFrame으로 변환합니다.\n",
    "df_brain = pd.DataFrame(list(sorted_word_frequency_dict.items()), columns=['Top Nouns', '빈도수'])\n",
    "\n",
    "# DataFrame을 출력합니다.\n",
    "df_brain.head()"
   ]
  },
  {
   "cell_type": "code",
   "execution_count": null,
   "metadata": {},
   "outputs": [],
   "source": [
    "# \"Top Nouns\" 컬럼을 한글, 품사, 빈도수로 분리하여 새로운 컬럼 추가\n",
    "df_brain[['단어','품사']] = df_brain['Top Nouns'].str.split('/', expand=True)\n",
    "df_brain = df_brain[['단어', '품사', '빈도수']]\n",
    "\n",
    "df_brain.head()"
   ]
  },
  {
   "cell_type": "code",
   "execution_count": null,
   "metadata": {},
   "outputs": [],
   "source": [
    "# 'NNP'와 'NNG'를 하나로 합치는 코드\n",
    "combined_brain = ['NNP', 'NNG']\n",
    "\n",
    "df_brain.loc[df_brain['품사'].isin(combined_brain), '품사'] = 'NNG/NNP'\n",
    "\n",
    "df_brain.head()"
   ]
  },
  {
   "cell_type": "code",
   "execution_count": null,
   "metadata": {},
   "outputs": [],
   "source": [
    "df_brain.to_csv('naver_brain_frequent.csv')"
   ]
  },
  {
   "cell_type": "code",
   "execution_count": null,
   "metadata": {},
   "outputs": [],
   "source": [
    "df_n = df_brain[df_brain['품사'] == 'NNG/NNP']\n",
    "df_v = df_brain[df_brain['품사'] == 'VV']\n",
    "df_a = df_brain[df_brain['품사'] == 'VA']\n",
    "df_n.head()"
   ]
  },
  {
   "cell_type": "code",
   "execution_count": null,
   "metadata": {},
   "outputs": [],
   "source": [
    "# df_n을 실행할 때만 모든 행과 열 출력 설정 적용\n",
    "with pd.option_context('display.max_rows', None, 'display.max_columns', None):\n",
    "    print(df_a[:100])"
   ]
  },
  {
   "cell_type": "code",
   "execution_count": null,
   "metadata": {},
   "outputs": [],
   "source": [
    "# df_n을 실행할 때만 모든 행과 열 출력 설정 적용\n",
    "with pd.option_context('display.max_rows', None, 'display.max_columns', None):\n",
    "    print(df_v[:100])"
   ]
  },
  {
   "cell_type": "code",
   "execution_count": null,
   "metadata": {},
   "outputs": [],
   "source": [
    "# df_n을 실행할 때만 모든 행과 열 출력 설정 적용\n",
    "with pd.option_context('display.max_rows', None, 'display.max_columns', None):\n",
    "    print(df_n[:100])\n",
    "df_n[:100].to_excel('지식인_명사.xlsx')\n",
    "df_v[:100].to_excel('지식인_동사.xlsx')\n",
    "df_a[:100].to_excel('지식인_형용사.xlsx')"
   ]
  },
  {
   "cell_type": "code",
   "execution_count": null,
   "metadata": {},
   "outputs": [],
   "source": []
  },
  {
   "cell_type": "code",
   "execution_count": null,
   "metadata": {},
   "outputs": [],
   "source": []
  },
  {
   "cell_type": "code",
   "execution_count": null,
   "metadata": {},
   "outputs": [],
   "source": []
  },
  {
   "cell_type": "code",
   "execution_count": null,
   "metadata": {},
   "outputs": [],
   "source": []
  },
  {
   "cell_type": "code",
   "execution_count": null,
   "metadata": {},
   "outputs": [],
   "source": []
  },
  {
   "cell_type": "code",
   "execution_count": null,
   "metadata": {},
   "outputs": [],
   "source": []
  },
  {
   "cell_type": "markdown",
   "metadata": {},
   "source": [
    "### 블로그 토큰화"
   ]
  },
  {
   "cell_type": "code",
   "execution_count": null,
   "metadata": {},
   "outputs": [],
   "source": [
    "naver_blog = pd.read_csv(r'C:\\Users\\NT550\\asac\\SIH\\hsw\\finaldata\\naver_blog_text_scaling_last_tokens.csv')\n",
    "naver_blog.head()"
   ]
  },
  {
   "cell_type": "code",
   "execution_count": null,
   "metadata": {},
   "outputs": [],
   "source": [
    "naver_blog[\"str_content\"] = naver_blog[\"변환된 내용\"].apply(lambda x : text_clearing(x))"
   ]
  },
  {
   "cell_type": "code",
   "execution_count": null,
   "metadata": {},
   "outputs": [],
   "source": [
    "# 'token'이라는 새로운 컬럼 추가 및 값 할당\n",
    "naver_blog['token'] = naver_blog['str_content'].apply(lambda x: tagger.pos(x))\n",
    "\n",
    "# 결과 확인\n",
    "naver_blog['token']"
   ]
  },
  {
   "cell_type": "code",
   "execution_count": null,
   "metadata": {},
   "outputs": [],
   "source": [
    "# 형태소 추출\n",
    "index_vectorizer = CountVectorizer(tokenizer=lambda x : get_pos(x))\n",
    "X = index_vectorizer.fit_transform(naver_blog[\"str_content\"].tolist())\n",
    "X"
   ]
  },
  {
   "cell_type": "code",
   "execution_count": null,
   "metadata": {},
   "outputs": [],
   "source": [
    "index_vectorizer.vocabulary_"
   ]
  },
  {
   "cell_type": "code",
   "execution_count": null,
   "metadata": {},
   "outputs": [],
   "source": [
    "# CountVectorizer로 생성한 형태소 벡터에서 단어 빈도수를 계산\n",
    "word_frequencies = X.sum(axis=0)\n",
    "\n",
    "# 각 단어와 빈도수를 매핑하는 딕셔너리 생성\n",
    "word_frequency_dict = {}\n",
    "for word, index in index_vectorizer.vocabulary_.items():\n",
    "    word_frequency_dict[word] = word_frequencies[0, index]\n",
    "\n",
    "# 빈도수가 큰 순서대로 정렬된 딕셔너리 생성\n",
    "sorted_word_frequency_dict = dict(sorted(word_frequency_dict.items(), key=lambda item: item[1], reverse=True))\n",
    "\n",
    "# 결과 출력\n",
    "for word, frequency in sorted_word_frequency_dict.items():\n",
    "    print(f\"{word}: {frequency}\")"
   ]
  },
  {
   "cell_type": "code",
   "execution_count": null,
   "metadata": {},
   "outputs": [],
   "source": [
    "# 딕셔너리를 DataFrame으로 변환합니다.\n",
    "blog = pd.DataFrame(list(sorted_word_frequency_dict.items()), columns=['토큰', '빈도수'])\n",
    "\n",
    "# DataFrame을 출력합니다.\n",
    "blog.to_csv('naver_blog.frequent.csv')"
   ]
  },
  {
   "cell_type": "code",
   "execution_count": null,
   "metadata": {},
   "outputs": [],
   "source": [
    "result = []\n",
    "\n",
    "for idx, value in blog['토큰'].iteritems():\n",
    "    word = value.split('/')[0]\n",
    "    pos = value.split('/')[1]\n",
    "    result.append([word, pos])\n",
    "\n",
    "df_blog = pd.DataFrame(result, columns=['단어', '품사'])\n",
    "\n",
    "# 결과 출력\n",
    "df_blog"
   ]
  },
  {
   "cell_type": "code",
   "execution_count": null,
   "metadata": {},
   "outputs": [],
   "source": [
    "naver_blog = pd.read_csv(r'C:\\Users\\NT550\\asac\\SIH\\SIH\\code2\\result\\naver_shopping_tokenizer.csv')\n",
    "naver_blog.head()"
   ]
  },
  {
   "cell_type": "code",
   "execution_count": null,
   "metadata": {},
   "outputs": [],
   "source": [
    "# 명사, 동사, 형용사 품사 태그 정의\n",
    "nouns_tags = ['NNG','NNP'] # NNG, NNP, \n",
    "verbs_tags = ['VV'] # VV\n",
    "adjectives_tags = ['VA'] # VA\n",
    "\n",
    "# 각 품사를 추출하여 열 추가\n",
    "naver_blog['nouns'] = naver_blog['token'].apply(lambda x: [word for word, tag in x if tag in nouns_tags])\n",
    "naver_blog['verbs'] = naver_blog['token'].apply(lambda x: [word for word, tag in x if tag in verbs_tags])\n",
    "naver_blog['adjectives'] = naver_blog['token'].apply(lambda x: [word for word, tag in x if tag in adjectives_tags])\n",
    "\n",
    "# 결과 출력\n",
    "print(naver_blog[['nouns', 'verbs', 'adjectives']])"
   ]
  },
  {
   "cell_type": "code",
   "execution_count": null,
   "metadata": {},
   "outputs": [],
   "source": [
    "df_blog[df_blog['품사'] == 'VA']"
   ]
  },
  {
   "cell_type": "markdown",
   "metadata": {},
   "source": [
    "### 형태소 분석기 비교\n",
    "- bareun VS kiwi\n"
   ]
  },
  {
   "cell_type": "code",
   "execution_count": null,
   "metadata": {},
   "outputs": [],
   "source": [
    "bareun = pd.read_csv(r\"C:\\Users\\NT550\\asac\\SIH\\SIH\\code2\\result\\naver_blog_tokenizer.csv\")\n",
    "kiwi = pd.read_csv(r\"C:\\Users\\NT550\\asac\\SIH\\hsw\\finaldata\\naver_blog_text_scaling_last_tokens.csv\")"
   ]
  },
  {
   "cell_type": "code",
   "execution_count": null,
   "metadata": {},
   "outputs": [],
   "source": [
    "bareun"
   ]
  },
  {
   "cell_type": "code",
   "execution_count": null,
   "metadata": {},
   "outputs": [],
   "source": [
    "# 명사, 동사, 형용사 품사 태그 정의\n",
    "nouns_tags = ['NNG', 'NP', 'NNP','NNB','NF','NA']\n",
    "verbs_tags = ['VV','VX','VCP','VCN','NV']\n",
    "adjectives_tags = ['VA']\n",
    "\n",
    "# 각 품사를 추출하여 열 추가\n",
    "naver_blog['nouns'] = naver_blog['token'].apply(lambda x: [word for word, tag in x if tag in nouns_tags])\n",
    "naver_blog['verbs'] = naver_blog['token'].apply(lambda x: [word for word, tag in x if tag in verbs_tags])\n",
    "naver_blog['adjectives'] = naver_blog['token'].apply(lambda x: [word for word, tag in x if tag in adjectives_tags])\n",
    "\n",
    "# 결과 출력\n",
    "print(naver_blog[['nouns', 'verbs', 'adjectives']])"
   ]
  },
  {
   "cell_type": "markdown",
   "metadata": {},
   "source": [
    "### 연관분석"
   ]
  },
  {
   "cell_type": "code",
   "execution_count": null,
   "metadata": {},
   "outputs": [],
   "source": []
  }
 ],
 "metadata": {
  "kernelspec": {
   "display_name": "base",
   "language": "python",
   "name": "python3"
  },
  "language_info": {
   "codemirror_mode": {
    "name": "ipython",
    "version": 3
   },
   "file_extension": ".py",
   "mimetype": "text/x-python",
   "name": "python",
   "nbconvert_exporter": "python",
   "pygments_lexer": "ipython3",
   "version": "3.10.9"
  },
  "orig_nbformat": 4
 },
 "nbformat": 4,
 "nbformat_minor": 2
}
