{
 "cells": [
  {
   "attachments": {},
   "cell_type": "markdown",
   "metadata": {},
   "source": [
    "# 패키지 로드"
   ]
  },
  {
   "cell_type": "code",
   "execution_count": 1,
   "metadata": {},
   "outputs": [],
   "source": [
    "import numpy as np\n",
    "import pandas as pd\n",
    "from selenium import webdriver\n",
    "from selenium.webdriver.chrome.service import Service\n",
    "from selenium.webdriver.common.by import By\n",
    "from selenium.webdriver.common.keys import Keys\n",
    "import re\n",
    "import time\n",
    "import requests\n",
    "import csv"
   ]
  },
  {
   "cell_type": "markdown",
   "metadata": {},
   "source": [
    "# 리뷰 수집"
   ]
  },
  {
   "cell_type": "markdown",
   "metadata": {},
   "source": [
    "함수설정"
   ]
  },
  {
   "cell_type": "code",
   "execution_count": 2,
   "metadata": {},
   "outputs": [],
   "source": [
    "def page_count(num, per_page):\n",
    "    if num % per_page ==0:\n",
    "        page = int(num / per_page)\n",
    "    else:\n",
    "        page = int(num / per_page) + 1\n",
    "    return page"
   ]
  },
  {
   "cell_type": "code",
   "execution_count": 3,
   "metadata": {},
   "outputs": [],
   "source": [
    "def review_count():\n",
    "    review_num = driver.find_elements(By.CLASS_NAME, f'_2pgHN-ntx6')[0].text\n",
    "    if ',' in review_num:\n",
    "        review_num = int(review_num.replace(',', ''))\n",
    "    else:\n",
    "        review_num = int(review_num)\n",
    "    return review_num"
   ]
  },
  {
   "cell_type": "markdown",
   "metadata": {},
   "source": [
    "꿀스틱 상품 목록 진입"
   ]
  },
  {
   "cell_type": "code",
   "execution_count": 512,
   "metadata": {},
   "outputs": [],
   "source": [
    "keyword = '꿀스틱'\n",
    "path = r\"C:/chromedriver.exe\"\n",
    "url_goodsno = f'https://search.shopping.naver.com/search/all?frm=NVSCPRO&origQuery=%EA%BF%80%EC%8A%A4%ED%8B%B1&pagingIndex=8&pagingSize=40&productSet=total&query=%EA%BF%80%EC%8A%A4%ED%8B%B1&sort=review&timestamp=&viewType=list'\n",
    "s = Service(path)\n",
    "driver = webdriver.Chrome(service=s)\n",
    "driver.get(url_goodsno)"
   ]
  },
  {
   "cell_type": "markdown",
   "metadata": {},
   "source": [
    "상품 url 리스트로 수집"
   ]
  },
  {
   "cell_type": "code",
   "execution_count": 513,
   "metadata": {},
   "outputs": [
    {
     "name": "stdout",
     "output_type": "stream",
     "text": [
      "1 번째 상품 수집대상 추가\n",
      "2 번째 상품 수집대상 제외 ------------------------------\n",
      "3 번째 상품 수집대상 추가\n",
      "4 번째 상품 수집대상 추가\n",
      "5 번째 상품 수집대상 추가\n",
      "6 번째 상품 수집대상 추가\n",
      "7 번째 상품 수집대상 추가\n",
      "8 번째 상품 수집대상 추가\n",
      "9 번째 상품 수집대상 추가\n",
      "10 번째 상품 수집대상 추가\n",
      "11 번째 상품 수집대상 제외 ------------------------------\n",
      "12 번째 상품 수집대상 제외 ------------------------------\n",
      "13 번째 상품 수집대상 제외 ------------------------------\n",
      "14 번째 상품 수집대상 추가\n",
      "15 번째 상품 수집대상 추가\n",
      "16 번째 상품 수집대상 추가\n",
      "17 번째 상품 수집대상 제외 ------------------------------\n",
      "18 번째 상품 수집대상 추가\n",
      "19 번째 상품 수집대상 추가\n",
      "20 번째 상품 수집대상 추가\n",
      "21 번째 상품 수집대상 제외 ------------------------------\n",
      "22 번째 상품 수집대상 제외 ------------------------------\n",
      "23 번째 상품 수집대상 추가\n",
      "24 번째 상품 수집대상 제외 ------------------------------\n",
      "25 번째 상품 수집대상 추가\n",
      "26 번째 상품 수집대상 제외 ------------------------------\n",
      "27 번째 상품 수집대상 추가\n",
      "28 번째 상품 수집대상 추가\n",
      "29 번째 상품 수집대상 제외 ------------------------------\n",
      "30 번째 상품 수집대상 제외 ------------------------------\n",
      "31 번째 상품 수집대상 제외 ------------------------------\n",
      "32 번째 상품 수집대상 제외 ------------------------------\n",
      "33 번째 상품 수집대상 제외 ------------------------------\n",
      "34 번째 상품 수집대상 추가\n",
      "35 번째 상품 수집대상 추가\n",
      "36 번째 상품 수집대상 제외 ------------------------------\n",
      "37 번째 상품 수집대상 제외 ------------------------------\n",
      "38 번째 상품 수집대상 제외 ------------------------------\n",
      "39 번째 상품 수집대상 추가\n",
      "40 번째 상품 수집대상 추가\n"
     ]
    }
   ],
   "source": [
    "url_list = []\n",
    "for n in range(1, 41):\n",
    "    store_url = driver.find_element(By.XPATH, f'/html/body/div/div/div[2]/div[2]/div[3]/div[1]/div[2]/div/div[{n}]/div/div/div[3]/div[1]/a[1]').get_attribute('href')\n",
    "    if store_url[:28] == 'https://smartstore.naver.com':\n",
    "        product_url = driver.find_element(By.XPATH, f'/html/body/div/div/div[2]/div[2]/div[3]/div[1]/div[2]/div/div[{n}]/div/div/div[2]/div[1]/a').get_attribute('href')\n",
    "        url_list.append(product_url)\n",
    "        print(n, '번째 상품 수집대상 추가')\n",
    "    else:\n",
    "        print(n, '번째 상품 수집대상 제외', '-'*30)"
   ]
  },
  {
   "cell_type": "code",
   "execution_count": 514,
   "metadata": {},
   "outputs": [
    {
     "data": {
      "text/plain": [
       "23"
      ]
     },
     "execution_count": 514,
     "metadata": {},
     "output_type": "execute_result"
    }
   ],
   "source": [
    "len(url_list)"
   ]
  },
  {
   "cell_type": "markdown",
   "metadata": {},
   "source": [
    "리뷰 클릭"
   ]
  },
  {
   "cell_type": "code",
   "execution_count": 588,
   "metadata": {},
   "outputs": [],
   "source": [
    "driver.get(url_list[18])\n",
    "time.sleep(2)\n",
    "driver.find_elements(By.CLASS_NAME, '_1k5R-niA93')[1].click()"
   ]
  },
  {
   "cell_type": "code",
   "execution_count": 589,
   "metadata": {},
   "outputs": [
    {
     "name": "stdout",
     "output_type": "stream",
     "text": [
      "페이지 진행 상황 : 1 / 3 완료 ------------------------------\n",
      "페이지 진행 상황 : 2 / 3 완료 ------------------------------\n",
      "페이지 진행 상황 : 3 / 3 완료 ------------------------------\n"
     ]
    }
   ],
   "source": [
    "review_list = []\n",
    "review_num = review_count()\n",
    "page_review = page_count(review_num, 20)\n",
    "#name\n",
    "product = driver.find_element(By.CLASS_NAME, f'_1eddO7u4UC').text\n",
    "#price\n",
    "price = driver.find_element(By.CLASS_NAME, f'_1LY7DqCnwR').text\n",
    "#rating\n",
    "product_rating = driver.find_elements(By.CLASS_NAME, f'_2pgHN-ntx6')[1].text[:3]\n",
    "for loop in range(1, page_review+1):\n",
    "    for k in range(20):\n",
    "        try:\n",
    "            review_box = driver.find_elements(By.CLASS_NAME, f'_1yIGHygFbx')[k]\n",
    "                                                        \n",
    "            id = review_box.find_elements(By.CLASS_NAME, '_3QDEeS6NLn')[0].text\n",
    "            rating = review_box.find_element(By.CLASS_NAME, '_15NU42F3kT').text\n",
    "            date = review_box.find_elements(By.CLASS_NAME, '_3QDEeS6NLn')[1].text\n",
    "            product_select = re.findall(r'.+\\n', review_box.find_element(By.CLASS_NAME, '_14FigHP3K8').text)[0]\n",
    "            review_option = re.findall(r'유통기한.+', review_box.find_element(By.CLASS_NAME, '_14FigHP3K8').text)[0]\n",
    "            review_text = review_box.find_element(By.CLASS_NAME, 'YEtwtZFLDz').text\n",
    "            review_list.append([product, price, product_rating, id, rating, date, product_select, review_option, review_text])\n",
    "        except:continue\n",
    "    if loop != page_review:\n",
    "        \n",
    "        try:\n",
    "            driver.find_element(By.XPATH, '/html/body/div/div/div[2]/div/div[2]/div/div[3]/div[7]/div/div[3]/div[2]/div/div/a[11]')\n",
    "            if loop % 10 == 0:\n",
    "                driver.find_element(By.CSS_SELECTOR, f'#REVIEW > div > div._180GG7_7yx > div.cv6id6JEkg > div > div > a.fAUKm1ewwo._2Ar8-aEUTq').click()\n",
    "            else:\n",
    "                driver.find_element(By.CSS_SELECTOR, f'#REVIEW > div > div._180GG7_7yx > div.cv6id6JEkg > div > div > a:nth-child({(loop%10)+2})').click()\n",
    "        except:\n",
    "            driver.find_element(By.CSS_SELECTOR, f'#REVIEW > div > div._180GG7_7yx > div.cv6id6JEkg > div > div > a.fAUKm1ewwo._2Ar8-aEUTq').click()\n",
    "        time.sleep(0.5)\n",
    "    print('페이지 진행 상황 :', loop, '/', page_review, '완료', '-'*30)\n"
   ]
  },
  {
   "cell_type": "code",
   "execution_count": 590,
   "metadata": {},
   "outputs": [
    {
     "data": {
      "text/plain": [
       "[]"
      ]
     },
     "execution_count": 590,
     "metadata": {},
     "output_type": "execute_result"
    }
   ],
   "source": [
    "review_list"
   ]
  },
  {
   "cell_type": "code",
   "execution_count": 587,
   "metadata": {},
   "outputs": [
    {
     "data": {
      "text/plain": [
       "50"
      ]
     },
     "execution_count": 587,
     "metadata": {},
     "output_type": "execute_result"
    }
   ],
   "source": [
    "# 3_6, 3_12, 3_15, 3_22없음.제품명   가격   평균평점   아이디   평점   날짜   종류   요약   리뷰\n",
    "# 4_5, 4_7없음\n",
    "# 5_10, 5_11 없음\n",
    "# 6_6, 6_10, 6_11, 6_14, 6_15, 6_16, 6_17,  없음\n",
    "# 7_0, 7_4, 7_7, 7_8, 7_11, 7_17,7_18  없음\n",
    "# 8_7, 8_10 없음\n",
    "df_8_17 = pd.DataFrame(review_list, columns=['제품명', '가격', '평균평점', '아이디', '평점', '날짜', '종류', '요약', '리뷰'])\n",
    "len(df_8_17)"
   ]
  },
  {
   "cell_type": "code",
   "execution_count": 591,
   "metadata": {},
   "outputs": [
    {
     "data": {
      "text/plain": [
       "834"
      ]
     },
     "execution_count": 591,
     "metadata": {},
     "output_type": "execute_result"
    }
   ],
   "source": [
    "naver_shopping_8 = pd.concat([df_8_1, df_8_2, df_8_3, df_8_4, df_8_5, df_8_6, \n",
    "                              df_8_8, df_8_9, df_8_9, df_8_11, df_8_12, df_8_13, df_8_14,\n",
    "                              df_8_15, df_8_16, df_8_17])\n",
    "len(naver_shopping_8)"
   ]
  },
  {
   "cell_type": "code",
   "execution_count": 592,
   "metadata": {},
   "outputs": [],
   "source": [
    "naver_shopping_8.to_csv('naver_shopping_8.csv')"
   ]
  },
  {
   "cell_type": "code",
   "execution_count": 599,
   "metadata": {},
   "outputs": [
    {
     "data": {
      "text/plain": [
       "2620"
      ]
     },
     "execution_count": 599,
     "metadata": {},
     "output_type": "execute_result"
    }
   ],
   "source": [
    "df = pd.read_csv(r'C:\\Users\\NT550\\asac\\SIH\\SIH\\code2\\result\\naver_shopping_4.csv')"
   ]
  },
  {
   "cell_type": "code",
   "execution_count": 600,
   "metadata": {},
   "outputs": [
    {
     "data": {
      "text/plain": [
       "2620"
      ]
     },
     "execution_count": 600,
     "metadata": {},
     "output_type": "execute_result"
    }
   ],
   "source": [
    "df1 = pd.read_excel(r'C:\\Users\\NT550\\asac\\SIH\\SIH\\code2\\result\\naver_shopping_4.xlsx')\n",
    "len(df1)"
   ]
  },
  {
   "cell_type": "code",
   "execution_count": null,
   "metadata": {},
   "outputs": [],
   "source": [
    "df = pd.DataFrame(review_list, columns=['product', 'price', 'product_rating', 'id', 'rating', 'date', 'product_select', 'review_option', 'review_text'])"
   ]
  },
  {
   "cell_type": "code",
   "execution_count": 15,
   "metadata": {},
   "outputs": [
    {
     "data": {
      "text/html": [
       "<div>\n",
       "<style scoped>\n",
       "    .dataframe tbody tr th:only-of-type {\n",
       "        vertical-align: middle;\n",
       "    }\n",
       "\n",
       "    .dataframe tbody tr th {\n",
       "        vertical-align: top;\n",
       "    }\n",
       "\n",
       "    .dataframe thead th {\n",
       "        text-align: right;\n",
       "    }\n",
       "</style>\n",
       "<table border=\"1\" class=\"dataframe\">\n",
       "  <thead>\n",
       "    <tr style=\"text-align: right;\">\n",
       "      <th></th>\n",
       "      <th>Unnamed: 0</th>\n",
       "      <th>제품명</th>\n",
       "      <th>가격</th>\n",
       "      <th>평균평점</th>\n",
       "      <th>아이디</th>\n",
       "      <th>평점</th>\n",
       "      <th>날짜</th>\n",
       "      <th>종류</th>\n",
       "      <th>요약</th>\n",
       "      <th>리뷰</th>\n",
       "    </tr>\n",
       "  </thead>\n",
       "  <tbody>\n",
       "    <tr>\n",
       "      <th>0</th>\n",
       "      <td>0</td>\n",
       "      <td>허니바이허니 천연 벌꿀 스틱 90포입 국산 아카시아 5종 선물 세트 [원산지:국산]...</td>\n",
       "      <td>72,000</td>\n",
       "      <td>4.9</td>\n",
       "      <td>miri*******</td>\n",
       "      <td>5</td>\n",
       "      <td>23.08.16.</td>\n",
       "      <td>30포 선택1: 아카시아 / 30포 선택2: 아카시아 / 30포 선택3: 아카시아\\n</td>\n",
       "      <td>유통기한아주 넉넉해요포장꼼꼼해요편리편리해요</td>\n",
       "      <td>한달사용기재구매먹기 편하고 품질도 좋아요. 받는 손님도 좋아 하시고 구매등급도 따로...</td>\n",
       "    </tr>\n",
       "    <tr>\n",
       "      <th>1</th>\n",
       "      <td>1</td>\n",
       "      <td>허니바이허니 천연 벌꿀 스틱 90포입 국산 아카시아 5종 선물 세트 [원산지:국산]...</td>\n",
       "      <td>72,000</td>\n",
       "      <td>4.9</td>\n",
       "      <td>dltm*****</td>\n",
       "      <td>5</td>\n",
       "      <td>23.07.28.</td>\n",
       "      <td>30포 선택1: 밤 / 30포 선택2: 밤 / 30포 선택3: 밤\\n</td>\n",
       "      <td>유통기한꽤 남았어요포장꼼꼼해요편리편리해요</td>\n",
       "      <td>간편하게 하루한포씩먹게되요~냉장이나 냉동으로 해서 시원하게 먹으니 맛잇어요!!밤꿀이...</td>\n",
       "    </tr>\n",
       "    <tr>\n",
       "      <th>2</th>\n",
       "      <td>2</td>\n",
       "      <td>허니바이허니 천연 벌꿀 스틱 90포입 국산 아카시아 5종 선물 세트 [원산지:국산]...</td>\n",
       "      <td>72,000</td>\n",
       "      <td>4.9</td>\n",
       "      <td>yjdr****</td>\n",
       "      <td>5</td>\n",
       "      <td>23.08.06.</td>\n",
       "      <td>30포 선택1: 올인원 / 30포 선택2: 올인원 / 30포 선택3: 아카시아\\n</td>\n",
       "      <td>유통기한꽤 남았어요포장꼼꼼해요편리편리해요</td>\n",
       "      <td>홍삼이 여자몸에 안좋다고해서.. 그동안 안먹다가 꿀 스틱 보고 주문했습니다\\n당떨어...</td>\n",
       "    </tr>\n",
       "    <tr>\n",
       "      <th>3</th>\n",
       "      <td>3</td>\n",
       "      <td>허니바이허니 천연 벌꿀 스틱 90포입 국산 아카시아 5종 선물 세트 [원산지:국산]...</td>\n",
       "      <td>72,000</td>\n",
       "      <td>4.9</td>\n",
       "      <td>2133***</td>\n",
       "      <td>5</td>\n",
       "      <td>23.07.13.</td>\n",
       "      <td>30포 선택1: 밤 / 30포 선택2: 야생화 / 30포 선택3: 올인원\\n</td>\n",
       "      <td>유통기한아주 넉넉해요포장꼼꼼해요편리편리해요</td>\n",
       "      <td>BEST꿀이 피로 회복, 기관지에 좋다고 하는데 사실 어느정도가 적당한지, 너무 많...</td>\n",
       "    </tr>\n",
       "    <tr>\n",
       "      <th>4</th>\n",
       "      <td>4</td>\n",
       "      <td>허니바이허니 천연 벌꿀 스틱 90포입 국산 아카시아 5종 선물 세트 [원산지:국산]...</td>\n",
       "      <td>72,000</td>\n",
       "      <td>4.9</td>\n",
       "      <td>klys****</td>\n",
       "      <td>5</td>\n",
       "      <td>23.08.12.</td>\n",
       "      <td>30포 선택1: 야생화 / 30포 선택2: 밤 / 30포 선택3: 아카시아\\n</td>\n",
       "      <td>유통기한아주 넉넉해요포장꼼꼼해요편리편리해요</td>\n",
       "      <td>한달사용기진짜 꿀이예요. 예전 시골에서 먹던 꿀맛과 같아요. 술먹고 먹어도 숙취에도...</td>\n",
       "    </tr>\n",
       "  </tbody>\n",
       "</table>\n",
       "</div>"
      ],
      "text/plain": [
       "   Unnamed: 0                                                제품명      가격  \\\n",
       "0           0  허니바이허니 천연 벌꿀 스틱 90포입 국산 아카시아 5종 선물 세트 [원산지:국산]...  72,000   \n",
       "1           1  허니바이허니 천연 벌꿀 스틱 90포입 국산 아카시아 5종 선물 세트 [원산지:국산]...  72,000   \n",
       "2           2  허니바이허니 천연 벌꿀 스틱 90포입 국산 아카시아 5종 선물 세트 [원산지:국산]...  72,000   \n",
       "3           3  허니바이허니 천연 벌꿀 스틱 90포입 국산 아카시아 5종 선물 세트 [원산지:국산]...  72,000   \n",
       "4           4  허니바이허니 천연 벌꿀 스틱 90포입 국산 아카시아 5종 선물 세트 [원산지:국산]...  72,000   \n",
       "\n",
       "   평균평점          아이디  평점         날짜  \\\n",
       "0   4.9  miri*******   5  23.08.16.   \n",
       "1   4.9    dltm*****   5  23.07.28.   \n",
       "2   4.9     yjdr****   5  23.08.06.   \n",
       "3   4.9      2133***   5  23.07.13.   \n",
       "4   4.9     klys****   5  23.08.12.   \n",
       "\n",
       "                                                종류                       요약  \\\n",
       "0  30포 선택1: 아카시아 / 30포 선택2: 아카시아 / 30포 선택3: 아카시아\\n  유통기한아주 넉넉해요포장꼼꼼해요편리편리해요   \n",
       "1           30포 선택1: 밤 / 30포 선택2: 밤 / 30포 선택3: 밤\\n   유통기한꽤 남았어요포장꼼꼼해요편리편리해요   \n",
       "2    30포 선택1: 올인원 / 30포 선택2: 올인원 / 30포 선택3: 아카시아\\n   유통기한꽤 남았어요포장꼼꼼해요편리편리해요   \n",
       "3       30포 선택1: 밤 / 30포 선택2: 야생화 / 30포 선택3: 올인원\\n  유통기한아주 넉넉해요포장꼼꼼해요편리편리해요   \n",
       "4      30포 선택1: 야생화 / 30포 선택2: 밤 / 30포 선택3: 아카시아\\n  유통기한아주 넉넉해요포장꼼꼼해요편리편리해요   \n",
       "\n",
       "                                                  리뷰  \n",
       "0  한달사용기재구매먹기 편하고 품질도 좋아요. 받는 손님도 좋아 하시고 구매등급도 따로...  \n",
       "1  간편하게 하루한포씩먹게되요~냉장이나 냉동으로 해서 시원하게 먹으니 맛잇어요!!밤꿀이...  \n",
       "2  홍삼이 여자몸에 안좋다고해서.. 그동안 안먹다가 꿀 스틱 보고 주문했습니다\\n당떨어...  \n",
       "3  BEST꿀이 피로 회복, 기관지에 좋다고 하는데 사실 어느정도가 적당한지, 너무 많...  \n",
       "4  한달사용기진짜 꿀이예요. 예전 시골에서 먹던 꿀맛과 같아요. 술먹고 먹어도 숙취에도...  "
      ]
     },
     "execution_count": 15,
     "metadata": {},
     "output_type": "execute_result"
    }
   ],
   "source": [
    "df1 = pd.read_csv(r'C:\\Users\\NT550\\asac\\SIH\\KYJ\\honey_stick\\data\\navershopping_data_page1.csv') \n",
    "df1.columns = ['Unnamed: 0','제품명', '가격', '평균평점', '아이디', '평점', '날짜', '종류', '요약', '리뷰']\n",
    "\n",
    "df1.head()"
   ]
  },
  {
   "cell_type": "code",
   "execution_count": 2,
   "metadata": {},
   "outputs": [],
   "source": [
    "df1 = pd.read_csv(r'C:\\Users\\NT550\\asac\\SIH\\KYJ\\honey_stick\\data\\navershopping_data_page1.csv') \n",
    "df2 = pd.read_csv(r'C:\\Users\\NT550\\asac\\SIH\\SIH\\code2\\result\\naver_shopping_2.csv')\n",
    "df3 = pd.read_csv(r'C:\\Users\\NT550\\asac\\SIH\\SIH\\code2\\result\\naver_shopping_3.csv')\n",
    "df4 = pd.read_csv(r'C:\\Users\\NT550\\asac\\SIH\\SIH\\code2\\result\\naver_shopping_4.csv')\n",
    "df5 = pd.read_csv(r'C:\\Users\\NT550\\asac\\SIH\\SIH\\code2\\result\\naver_shopping_5.csv')\n",
    "df6 = pd.read_csv(r'C:\\Users\\NT550\\asac\\SIH\\SIH\\code2\\result\\naver_shopping_6.csv')\n",
    "df7 = pd.read_csv(r'C:\\Users\\NT550\\asac\\SIH\\SIH\\code2\\result\\naver_shopping_7.csv')\n",
    "df8 = pd.read_csv(r'C:\\Users\\NT550\\asac\\SIH\\SIH\\code2\\result\\naver_shopping_8.csv')\n"
   ]
  },
  {
   "cell_type": "code",
   "execution_count": 5,
   "metadata": {},
   "outputs": [
    {
     "data": {
      "text/plain": [
       "(42784, 10)"
      ]
     },
     "execution_count": 5,
     "metadata": {},
     "output_type": "execute_result"
    }
   ],
   "source": [
    "df1 = pd.read_csv(r'C:\\Users\\NT550\\asac\\SIH\\KYJ\\honey_stick\\data\\navershopping_data_page1.csv') \n",
    "df1.columns = ['Unnamed: 0','제품명', '가격', '평균평점', '아이디', '평점', '날짜', '종류', '요약', '리뷰']\n",
    "\n",
    "df1.shape"
   ]
  },
  {
   "cell_type": "code",
   "execution_count": 32,
   "metadata": {},
   "outputs": [],
   "source": [
    "#df2 = df2.drop(['Unnamed: 0','평'], axis=1)\n",
    "#df2.columns = ['Unnamed: 0','제품명', '가격', '평균평점', '아이디', '평점', '날짜', '종류', '요약', '리뷰']\n",
    "df4 = df4.drop('Unnamed: 0.1', axis=1)"
   ]
  },
  {
   "cell_type": "code",
   "execution_count": 33,
   "metadata": {},
   "outputs": [
    {
     "name": "stdout",
     "output_type": "stream",
     "text": [
      "(42784, 10)\n",
      "(4552, 10)\n",
      "(3015, 10)\n",
      "(2620, 10)\n",
      "(1149, 10)\n",
      "(1199, 10)\n",
      "(988, 10)\n",
      "(834, 10)\n"
     ]
    }
   ],
   "source": [
    "print(df1.shape)\n",
    "print(df2.shape)\n",
    "print(df3.shape)\n",
    "print(df4.shape)\n",
    "print(df5.shape)\n",
    "print(df6.shape)\n",
    "print(df7.shape)\n",
    "print(df8.shape)"
   ]
  },
  {
   "cell_type": "code",
   "execution_count": 35,
   "metadata": {},
   "outputs": [
    {
     "name": "stdout",
     "output_type": "stream",
     "text": [
      "57141\n"
     ]
    },
    {
     "data": {
      "text/html": [
       "<div>\n",
       "<style scoped>\n",
       "    .dataframe tbody tr th:only-of-type {\n",
       "        vertical-align: middle;\n",
       "    }\n",
       "\n",
       "    .dataframe tbody tr th {\n",
       "        vertical-align: top;\n",
       "    }\n",
       "\n",
       "    .dataframe thead th {\n",
       "        text-align: right;\n",
       "    }\n",
       "</style>\n",
       "<table border=\"1\" class=\"dataframe\">\n",
       "  <thead>\n",
       "    <tr style=\"text-align: right;\">\n",
       "      <th></th>\n",
       "      <th>제품명</th>\n",
       "      <th>가격</th>\n",
       "      <th>평균평점</th>\n",
       "      <th>아이디</th>\n",
       "      <th>평점</th>\n",
       "      <th>날짜</th>\n",
       "      <th>종류</th>\n",
       "      <th>요약</th>\n",
       "      <th>리뷰</th>\n",
       "    </tr>\n",
       "  </thead>\n",
       "  <tbody>\n",
       "    <tr>\n",
       "      <th>0</th>\n",
       "      <td>허니바이허니 천연 벌꿀 스틱 90포입 국산 아카시아 5종 선물 세트 [원산지:국산]...</td>\n",
       "      <td>72,000</td>\n",
       "      <td>4.9</td>\n",
       "      <td>miri*******</td>\n",
       "      <td>5.0</td>\n",
       "      <td>23.08.16.</td>\n",
       "      <td>30포 선택1: 아카시아 / 30포 선택2: 아카시아 / 30포 선택3: 아카시아\\n</td>\n",
       "      <td>유통기한아주 넉넉해요포장꼼꼼해요편리편리해요</td>\n",
       "      <td>한달사용기재구매먹기 편하고 품질도 좋아요. 받는 손님도 좋아 하시고 구매등급도 따로...</td>\n",
       "    </tr>\n",
       "    <tr>\n",
       "      <th>1</th>\n",
       "      <td>허니바이허니 천연 벌꿀 스틱 90포입 국산 아카시아 5종 선물 세트 [원산지:국산]...</td>\n",
       "      <td>72,000</td>\n",
       "      <td>4.9</td>\n",
       "      <td>dltm*****</td>\n",
       "      <td>5.0</td>\n",
       "      <td>23.07.28.</td>\n",
       "      <td>30포 선택1: 밤 / 30포 선택2: 밤 / 30포 선택3: 밤\\n</td>\n",
       "      <td>유통기한꽤 남았어요포장꼼꼼해요편리편리해요</td>\n",
       "      <td>간편하게 하루한포씩먹게되요~냉장이나 냉동으로 해서 시원하게 먹으니 맛잇어요!!밤꿀이...</td>\n",
       "    </tr>\n",
       "    <tr>\n",
       "      <th>2</th>\n",
       "      <td>허니바이허니 천연 벌꿀 스틱 90포입 국산 아카시아 5종 선물 세트 [원산지:국산]...</td>\n",
       "      <td>72,000</td>\n",
       "      <td>4.9</td>\n",
       "      <td>yjdr****</td>\n",
       "      <td>5.0</td>\n",
       "      <td>23.08.06.</td>\n",
       "      <td>30포 선택1: 올인원 / 30포 선택2: 올인원 / 30포 선택3: 아카시아\\n</td>\n",
       "      <td>유통기한꽤 남았어요포장꼼꼼해요편리편리해요</td>\n",
       "      <td>홍삼이 여자몸에 안좋다고해서.. 그동안 안먹다가 꿀 스틱 보고 주문했습니다\\n당떨어...</td>\n",
       "    </tr>\n",
       "    <tr>\n",
       "      <th>3</th>\n",
       "      <td>허니바이허니 천연 벌꿀 스틱 90포입 국산 아카시아 5종 선물 세트 [원산지:국산]...</td>\n",
       "      <td>72,000</td>\n",
       "      <td>4.9</td>\n",
       "      <td>2133***</td>\n",
       "      <td>5.0</td>\n",
       "      <td>23.07.13.</td>\n",
       "      <td>30포 선택1: 밤 / 30포 선택2: 야생화 / 30포 선택3: 올인원\\n</td>\n",
       "      <td>유통기한아주 넉넉해요포장꼼꼼해요편리편리해요</td>\n",
       "      <td>BEST꿀이 피로 회복, 기관지에 좋다고 하는데 사실 어느정도가 적당한지, 너무 많...</td>\n",
       "    </tr>\n",
       "    <tr>\n",
       "      <th>4</th>\n",
       "      <td>허니바이허니 천연 벌꿀 스틱 90포입 국산 아카시아 5종 선물 세트 [원산지:국산]...</td>\n",
       "      <td>72,000</td>\n",
       "      <td>4.9</td>\n",
       "      <td>klys****</td>\n",
       "      <td>5.0</td>\n",
       "      <td>23.08.12.</td>\n",
       "      <td>30포 선택1: 야생화 / 30포 선택2: 밤 / 30포 선택3: 아카시아\\n</td>\n",
       "      <td>유통기한아주 넉넉해요포장꼼꼼해요편리편리해요</td>\n",
       "      <td>한달사용기진짜 꿀이예요. 예전 시골에서 먹던 꿀맛과 같아요. 술먹고 먹어도 숙취에도...</td>\n",
       "    </tr>\n",
       "  </tbody>\n",
       "</table>\n",
       "</div>"
      ],
      "text/plain": [
       "                                                 제품명      가격  평균평점  \\\n",
       "0  허니바이허니 천연 벌꿀 스틱 90포입 국산 아카시아 5종 선물 세트 [원산지:국산]...  72,000   4.9   \n",
       "1  허니바이허니 천연 벌꿀 스틱 90포입 국산 아카시아 5종 선물 세트 [원산지:국산]...  72,000   4.9   \n",
       "2  허니바이허니 천연 벌꿀 스틱 90포입 국산 아카시아 5종 선물 세트 [원산지:국산]...  72,000   4.9   \n",
       "3  허니바이허니 천연 벌꿀 스틱 90포입 국산 아카시아 5종 선물 세트 [원산지:국산]...  72,000   4.9   \n",
       "4  허니바이허니 천연 벌꿀 스틱 90포입 국산 아카시아 5종 선물 세트 [원산지:국산]...  72,000   4.9   \n",
       "\n",
       "           아이디   평점         날짜  \\\n",
       "0  miri*******  5.0  23.08.16.   \n",
       "1    dltm*****  5.0  23.07.28.   \n",
       "2     yjdr****  5.0  23.08.06.   \n",
       "3      2133***  5.0  23.07.13.   \n",
       "4     klys****  5.0  23.08.12.   \n",
       "\n",
       "                                                종류                       요약  \\\n",
       "0  30포 선택1: 아카시아 / 30포 선택2: 아카시아 / 30포 선택3: 아카시아\\n  유통기한아주 넉넉해요포장꼼꼼해요편리편리해요   \n",
       "1           30포 선택1: 밤 / 30포 선택2: 밤 / 30포 선택3: 밤\\n   유통기한꽤 남았어요포장꼼꼼해요편리편리해요   \n",
       "2    30포 선택1: 올인원 / 30포 선택2: 올인원 / 30포 선택3: 아카시아\\n   유통기한꽤 남았어요포장꼼꼼해요편리편리해요   \n",
       "3       30포 선택1: 밤 / 30포 선택2: 야생화 / 30포 선택3: 올인원\\n  유통기한아주 넉넉해요포장꼼꼼해요편리편리해요   \n",
       "4      30포 선택1: 야생화 / 30포 선택2: 밤 / 30포 선택3: 아카시아\\n  유통기한아주 넉넉해요포장꼼꼼해요편리편리해요   \n",
       "\n",
       "                                                  리뷰  \n",
       "0  한달사용기재구매먹기 편하고 품질도 좋아요. 받는 손님도 좋아 하시고 구매등급도 따로...  \n",
       "1  간편하게 하루한포씩먹게되요~냉장이나 냉동으로 해서 시원하게 먹으니 맛잇어요!!밤꿀이...  \n",
       "2  홍삼이 여자몸에 안좋다고해서.. 그동안 안먹다가 꿀 스틱 보고 주문했습니다\\n당떨어...  \n",
       "3  BEST꿀이 피로 회복, 기관지에 좋다고 하는데 사실 어느정도가 적당한지, 너무 많...  \n",
       "4  한달사용기진짜 꿀이예요. 예전 시골에서 먹던 꿀맛과 같아요. 술먹고 먹어도 숙취에도...  "
      ]
     },
     "execution_count": 35,
     "metadata": {},
     "output_type": "execute_result"
    }
   ],
   "source": [
    "#naver_shopping = pd.concat([df1,df2, df3, df4, df5, df6, df7, df8])\n",
    "print(len(naver_shopping))\n",
    "naver_shopping = naver_shopping.drop('Unnamed: 0', axis=1)\n",
    "naver_shopping.head() "
   ]
  },
  {
   "cell_type": "code",
   "execution_count": 36,
   "metadata": {},
   "outputs": [],
   "source": [
    "naver_shopping.to_csv('naver_shopping_review.csv')"
   ]
  },
  {
   "cell_type": "code",
   "execution_count": 39,
   "metadata": {},
   "outputs": [
    {
     "data": {
      "text/html": [
       "<div>\n",
       "<style scoped>\n",
       "    .dataframe tbody tr th:only-of-type {\n",
       "        vertical-align: middle;\n",
       "    }\n",
       "\n",
       "    .dataframe tbody tr th {\n",
       "        vertical-align: top;\n",
       "    }\n",
       "\n",
       "    .dataframe thead th {\n",
       "        text-align: right;\n",
       "    }\n",
       "</style>\n",
       "<table border=\"1\" class=\"dataframe\">\n",
       "  <thead>\n",
       "    <tr style=\"text-align: right;\">\n",
       "      <th></th>\n",
       "      <th>Unnamed: 0</th>\n",
       "      <th>제품명</th>\n",
       "      <th>가격</th>\n",
       "      <th>평균평점</th>\n",
       "      <th>아이디</th>\n",
       "      <th>평점</th>\n",
       "      <th>날짜</th>\n",
       "      <th>종류</th>\n",
       "      <th>요약</th>\n",
       "      <th>리뷰</th>\n",
       "    </tr>\n",
       "  </thead>\n",
       "  <tbody>\n",
       "    <tr>\n",
       "      <th>0</th>\n",
       "      <td>0</td>\n",
       "      <td>허니바이허니 천연 벌꿀 스틱 90포입 국산 아카시아 5종 선물 세트 [원산지:국산]...</td>\n",
       "      <td>72,000</td>\n",
       "      <td>4.9</td>\n",
       "      <td>miri*******</td>\n",
       "      <td>5.0</td>\n",
       "      <td>23.08.16.</td>\n",
       "      <td>30포 선택1: 아카시아 / 30포 선택2: 아카시아 / 30포 선택3: 아카시아\\n</td>\n",
       "      <td>유통기한아주 넉넉해요포장꼼꼼해요편리편리해요</td>\n",
       "      <td>한달사용기재구매먹기 편하고 품질도 좋아요. 받는 손님도 좋아 하시고 구매등급도 따로...</td>\n",
       "    </tr>\n",
       "    <tr>\n",
       "      <th>1</th>\n",
       "      <td>1</td>\n",
       "      <td>허니바이허니 천연 벌꿀 스틱 90포입 국산 아카시아 5종 선물 세트 [원산지:국산]...</td>\n",
       "      <td>72,000</td>\n",
       "      <td>4.9</td>\n",
       "      <td>dltm*****</td>\n",
       "      <td>5.0</td>\n",
       "      <td>23.07.28.</td>\n",
       "      <td>30포 선택1: 밤 / 30포 선택2: 밤 / 30포 선택3: 밤\\n</td>\n",
       "      <td>유통기한꽤 남았어요포장꼼꼼해요편리편리해요</td>\n",
       "      <td>간편하게 하루한포씩먹게되요~냉장이나 냉동으로 해서 시원하게 먹으니 맛잇어요!!밤꿀이...</td>\n",
       "    </tr>\n",
       "    <tr>\n",
       "      <th>2</th>\n",
       "      <td>2</td>\n",
       "      <td>허니바이허니 천연 벌꿀 스틱 90포입 국산 아카시아 5종 선물 세트 [원산지:국산]...</td>\n",
       "      <td>72,000</td>\n",
       "      <td>4.9</td>\n",
       "      <td>yjdr****</td>\n",
       "      <td>5.0</td>\n",
       "      <td>23.08.06.</td>\n",
       "      <td>30포 선택1: 올인원 / 30포 선택2: 올인원 / 30포 선택3: 아카시아\\n</td>\n",
       "      <td>유통기한꽤 남았어요포장꼼꼼해요편리편리해요</td>\n",
       "      <td>홍삼이 여자몸에 안좋다고해서.. 그동안 안먹다가 꿀 스틱 보고 주문했습니다\\n당떨어...</td>\n",
       "    </tr>\n",
       "    <tr>\n",
       "      <th>3</th>\n",
       "      <td>3</td>\n",
       "      <td>허니바이허니 천연 벌꿀 스틱 90포입 국산 아카시아 5종 선물 세트 [원산지:국산]...</td>\n",
       "      <td>72,000</td>\n",
       "      <td>4.9</td>\n",
       "      <td>2133***</td>\n",
       "      <td>5.0</td>\n",
       "      <td>23.07.13.</td>\n",
       "      <td>30포 선택1: 밤 / 30포 선택2: 야생화 / 30포 선택3: 올인원\\n</td>\n",
       "      <td>유통기한아주 넉넉해요포장꼼꼼해요편리편리해요</td>\n",
       "      <td>BEST꿀이 피로 회복, 기관지에 좋다고 하는데 사실 어느정도가 적당한지, 너무 많...</td>\n",
       "    </tr>\n",
       "    <tr>\n",
       "      <th>4</th>\n",
       "      <td>4</td>\n",
       "      <td>허니바이허니 천연 벌꿀 스틱 90포입 국산 아카시아 5종 선물 세트 [원산지:국산]...</td>\n",
       "      <td>72,000</td>\n",
       "      <td>4.9</td>\n",
       "      <td>klys****</td>\n",
       "      <td>5.0</td>\n",
       "      <td>23.08.12.</td>\n",
       "      <td>30포 선택1: 야생화 / 30포 선택2: 밤 / 30포 선택3: 아카시아\\n</td>\n",
       "      <td>유통기한아주 넉넉해요포장꼼꼼해요편리편리해요</td>\n",
       "      <td>한달사용기진짜 꿀이예요. 예전 시골에서 먹던 꿀맛과 같아요. 술먹고 먹어도 숙취에도...</td>\n",
       "    </tr>\n",
       "  </tbody>\n",
       "</table>\n",
       "</div>"
      ],
      "text/plain": [
       "   Unnamed: 0                                                제품명      가격  \\\n",
       "0           0  허니바이허니 천연 벌꿀 스틱 90포입 국산 아카시아 5종 선물 세트 [원산지:국산]...  72,000   \n",
       "1           1  허니바이허니 천연 벌꿀 스틱 90포입 국산 아카시아 5종 선물 세트 [원산지:국산]...  72,000   \n",
       "2           2  허니바이허니 천연 벌꿀 스틱 90포입 국산 아카시아 5종 선물 세트 [원산지:국산]...  72,000   \n",
       "3           3  허니바이허니 천연 벌꿀 스틱 90포입 국산 아카시아 5종 선물 세트 [원산지:국산]...  72,000   \n",
       "4           4  허니바이허니 천연 벌꿀 스틱 90포입 국산 아카시아 5종 선물 세트 [원산지:국산]...  72,000   \n",
       "\n",
       "   평균평점          아이디   평점         날짜  \\\n",
       "0   4.9  miri*******  5.0  23.08.16.   \n",
       "1   4.9    dltm*****  5.0  23.07.28.   \n",
       "2   4.9     yjdr****  5.0  23.08.06.   \n",
       "3   4.9      2133***  5.0  23.07.13.   \n",
       "4   4.9     klys****  5.0  23.08.12.   \n",
       "\n",
       "                                                종류                       요약  \\\n",
       "0  30포 선택1: 아카시아 / 30포 선택2: 아카시아 / 30포 선택3: 아카시아\\n  유통기한아주 넉넉해요포장꼼꼼해요편리편리해요   \n",
       "1           30포 선택1: 밤 / 30포 선택2: 밤 / 30포 선택3: 밤\\n   유통기한꽤 남았어요포장꼼꼼해요편리편리해요   \n",
       "2    30포 선택1: 올인원 / 30포 선택2: 올인원 / 30포 선택3: 아카시아\\n   유통기한꽤 남았어요포장꼼꼼해요편리편리해요   \n",
       "3       30포 선택1: 밤 / 30포 선택2: 야생화 / 30포 선택3: 올인원\\n  유통기한아주 넉넉해요포장꼼꼼해요편리편리해요   \n",
       "4      30포 선택1: 야생화 / 30포 선택2: 밤 / 30포 선택3: 아카시아\\n  유통기한아주 넉넉해요포장꼼꼼해요편리편리해요   \n",
       "\n",
       "                                                  리뷰  \n",
       "0  한달사용기재구매먹기 편하고 품질도 좋아요. 받는 손님도 좋아 하시고 구매등급도 따로...  \n",
       "1  간편하게 하루한포씩먹게되요~냉장이나 냉동으로 해서 시원하게 먹으니 맛잇어요!!밤꿀이...  \n",
       "2  홍삼이 여자몸에 안좋다고해서.. 그동안 안먹다가 꿀 스틱 보고 주문했습니다\\n당떨어...  \n",
       "3  BEST꿀이 피로 회복, 기관지에 좋다고 하는데 사실 어느정도가 적당한지, 너무 많...  \n",
       "4  한달사용기진짜 꿀이예요. 예전 시골에서 먹던 꿀맛과 같아요. 술먹고 먹어도 숙취에도...  "
      ]
     },
     "execution_count": 39,
     "metadata": {},
     "output_type": "execute_result"
    }
   ],
   "source": [
    "df = pd.read_csv(r'C:\\Users\\NT550\\asac\\SIH\\SIH\\code2\\result\\naver_shopping_review.csv')\n",
    "df.head()"
   ]
  },
  {
   "cell_type": "code",
   "execution_count": null,
   "metadata": {},
   "outputs": [],
   "source": []
  },
  {
   "cell_type": "code",
   "execution_count": 21,
   "metadata": {},
   "outputs": [
    {
     "data": {
      "text/html": [
       "<div>\n",
       "<style scoped>\n",
       "    .dataframe tbody tr th:only-of-type {\n",
       "        vertical-align: middle;\n",
       "    }\n",
       "\n",
       "    .dataframe tbody tr th {\n",
       "        vertical-align: top;\n",
       "    }\n",
       "\n",
       "    .dataframe thead th {\n",
       "        text-align: right;\n",
       "    }\n",
       "</style>\n",
       "<table border=\"1\" class=\"dataframe\">\n",
       "  <thead>\n",
       "    <tr style=\"text-align: right;\">\n",
       "      <th></th>\n",
       "      <th>Unnamed: 0.1</th>\n",
       "      <th>제품명</th>\n",
       "      <th>가격</th>\n",
       "      <th>평균평점</th>\n",
       "      <th>아이디</th>\n",
       "      <th>평점</th>\n",
       "      <th>날짜</th>\n",
       "      <th>종류</th>\n",
       "      <th>요약</th>\n",
       "      <th>리뷰</th>\n",
       "      <th>Unnamed: 0</th>\n",
       "      <th>평</th>\n",
       "    </tr>\n",
       "  </thead>\n",
       "  <tbody>\n",
       "    <tr>\n",
       "      <th>0</th>\n",
       "      <td>0.0</td>\n",
       "      <td>호주산 Bee2 벌꿀 허니스틱 250포 대용량 (마누카꿀 MGO)+호주 마약커피 [...</td>\n",
       "      <td>400,000</td>\n",
       "      <td>4.9</td>\n",
       "      <td>ami0***</td>\n",
       "      <td>5.0</td>\n",
       "      <td>23.08.10.</td>\n",
       "      <td>제품선택: 마누카꿀 MGO300+12g x 250개+커피\\n</td>\n",
       "      <td>유통기한아주 넉넉해요포장꼼꼼해요편리편리해요</td>\n",
       "      <td>아주 찐해요!! 연하게 타먹어야겠어요</td>\n",
       "      <td>NaN</td>\n",
       "      <td>NaN</td>\n",
       "    </tr>\n",
       "    <tr>\n",
       "      <th>1</th>\n",
       "      <td>1.0</td>\n",
       "      <td>호주산 Bee2 벌꿀 허니스틱 250포 대용량 (마누카꿀 MGO)+호주 마약커피 [...</td>\n",
       "      <td>400,000</td>\n",
       "      <td>4.9</td>\n",
       "      <td>cns6***</td>\n",
       "      <td>3.0</td>\n",
       "      <td>23.08.17.</td>\n",
       "      <td>제품선택: 벌꿀스틱 (마누카꿀 MGO 0) 250개+커피\\n</td>\n",
       "      <td>유통기한아주 넉넉해요포장꼼꼼해요편리편리해요</td>\n",
       "      <td>맛도좋고 건강해질까 꾸준히먹고있어요</td>\n",
       "      <td>NaN</td>\n",
       "      <td>NaN</td>\n",
       "    </tr>\n",
       "    <tr>\n",
       "      <th>2</th>\n",
       "      <td>2.0</td>\n",
       "      <td>호주산 Bee2 벌꿀 허니스틱 250포 대용량 (마누카꿀 MGO)+호주 마약커피 [...</td>\n",
       "      <td>400,000</td>\n",
       "      <td>4.9</td>\n",
       "      <td>hdg6***</td>\n",
       "      <td>5.0</td>\n",
       "      <td>23.08.11.</td>\n",
       "      <td>제품선택: 벌꿀스틱 (마누카꿀 MGO 0) 250개+커피\\n</td>\n",
       "      <td>유통기한아주 넉넉해요포장꼼꼼해요편리편리해요</td>\n",
       "      <td>꿀 최고입니다.수량도250개로 넉넉하게먹을양입니다</td>\n",
       "      <td>NaN</td>\n",
       "      <td>NaN</td>\n",
       "    </tr>\n",
       "    <tr>\n",
       "      <th>3</th>\n",
       "      <td>3.0</td>\n",
       "      <td>호주산 Bee2 벌꿀 허니스틱 250포 대용량 (마누카꿀 MGO)+호주 마약커피 [...</td>\n",
       "      <td>400,000</td>\n",
       "      <td>4.9</td>\n",
       "      <td>ha****</td>\n",
       "      <td>5.0</td>\n",
       "      <td>23.07.26.</td>\n",
       "      <td>제품선택: 마누카꿀 MGO300+12g x 250개+커피\\n</td>\n",
       "      <td>유통기한아주 넉넉해요포장꼼꼼해요편리편리해요</td>\n",
       "      <td>재구매꾸준히 먹고 있어요.</td>\n",
       "      <td>NaN</td>\n",
       "      <td>NaN</td>\n",
       "    </tr>\n",
       "    <tr>\n",
       "      <th>4</th>\n",
       "      <td>4.0</td>\n",
       "      <td>호주산 Bee2 벌꿀 허니스틱 250포 대용량 (마누카꿀 MGO)+호주 마약커피 [...</td>\n",
       "      <td>400,000</td>\n",
       "      <td>4.9</td>\n",
       "      <td>ru****</td>\n",
       "      <td>5.0</td>\n",
       "      <td>23.07.15.</td>\n",
       "      <td>제품선택: 마누카꿀 MGO300+12g x 250개+커피\\n</td>\n",
       "      <td>유통기한아주 넉넉해요포장꼼꼼해요편리편리해요</td>\n",
       "      <td>한달사용기첫 리뷰 내용이 잘못 돼서 다시 남김니다. (택배로 뉘어와서 착시였던 건지...</td>\n",
       "      <td>NaN</td>\n",
       "      <td>NaN</td>\n",
       "    </tr>\n",
       "  </tbody>\n",
       "</table>\n",
       "</div>"
      ],
      "text/plain": [
       "   Unnamed: 0.1                                                제품명       가격  \\\n",
       "0           0.0  호주산 Bee2 벌꿀 허니스틱 250포 대용량 (마누카꿀 MGO)+호주 마약커피 [...  400,000   \n",
       "1           1.0  호주산 Bee2 벌꿀 허니스틱 250포 대용량 (마누카꿀 MGO)+호주 마약커피 [...  400,000   \n",
       "2           2.0  호주산 Bee2 벌꿀 허니스틱 250포 대용량 (마누카꿀 MGO)+호주 마약커피 [...  400,000   \n",
       "3           3.0  호주산 Bee2 벌꿀 허니스틱 250포 대용량 (마누카꿀 MGO)+호주 마약커피 [...  400,000   \n",
       "4           4.0  호주산 Bee2 벌꿀 허니스틱 250포 대용량 (마누카꿀 MGO)+호주 마약커피 [...  400,000   \n",
       "\n",
       "   평균평점      아이디   평점         날짜                                 종류  \\\n",
       "0   4.9  ami0***  5.0  23.08.10.  제품선택: 마누카꿀 MGO300+12g x 250개+커피\\n   \n",
       "1   4.9  cns6***  3.0  23.08.17.  제품선택: 벌꿀스틱 (마누카꿀 MGO 0) 250개+커피\\n   \n",
       "2   4.9  hdg6***  5.0  23.08.11.  제품선택: 벌꿀스틱 (마누카꿀 MGO 0) 250개+커피\\n   \n",
       "3   4.9   ha****  5.0  23.07.26.  제품선택: 마누카꿀 MGO300+12g x 250개+커피\\n   \n",
       "4   4.9   ru****  5.0  23.07.15.  제품선택: 마누카꿀 MGO300+12g x 250개+커피\\n   \n",
       "\n",
       "                        요약                                                 리뷰  \\\n",
       "0  유통기한아주 넉넉해요포장꼼꼼해요편리편리해요                               아주 찐해요!! 연하게 타먹어야겠어요   \n",
       "1  유통기한아주 넉넉해요포장꼼꼼해요편리편리해요                                맛도좋고 건강해질까 꾸준히먹고있어요   \n",
       "2  유통기한아주 넉넉해요포장꼼꼼해요편리편리해요                        꿀 최고입니다.수량도250개로 넉넉하게먹을양입니다   \n",
       "3  유통기한아주 넉넉해요포장꼼꼼해요편리편리해요                                     재구매꾸준히 먹고 있어요.   \n",
       "4  유통기한아주 넉넉해요포장꼼꼼해요편리편리해요  한달사용기첫 리뷰 내용이 잘못 돼서 다시 남김니다. (택배로 뉘어와서 착시였던 건지...   \n",
       "\n",
       "   Unnamed: 0   평  \n",
       "0         NaN NaN  \n",
       "1         NaN NaN  \n",
       "2         NaN NaN  \n",
       "3         NaN NaN  \n",
       "4         NaN NaN  "
      ]
     },
     "execution_count": 21,
     "metadata": {},
     "output_type": "execute_result"
    }
   ],
   "source": [
    "naver_shopping.head()\n"
   ]
  },
  {
   "cell_type": "markdown",
   "metadata": {},
   "source": [
    "페이지별 제품 리뷰 다 수집"
   ]
  },
  {
   "cell_type": "code",
   "execution_count": 10,
   "metadata": {},
   "outputs": [
    {
     "ename": "NoSuchWindowException",
     "evalue": "Message: no such window: target window already closed\nfrom unknown error: web view not found\n  (Session info: chrome=116.0.5845.96)\nStacktrace:\nBacktrace:\n\tGetHandleVerifier [0x00007FF7CDFE4A62+57106]\n\t(No symbol) [0x00007FF7CDF5CF52]\n\t(No symbol) [0x00007FF7CDE2E2CB]\n\t(No symbol) [0x00007FF7CDE0DEB9]\n\t(No symbol) [0x00007FF7CDE8AE07]\n\t(No symbol) [0x00007FF7CDE9DBEF]\n\t(No symbol) [0x00007FF7CDE86793]\n\t(No symbol) [0x00007FF7CDE5CE81]\n\t(No symbol) [0x00007FF7CDE5E064]\n\tGetHandleVerifier [0x00007FF7CE294222+2873042]\n\tGetHandleVerifier [0x00007FF7CE2E6590+3209792]\n\tGetHandleVerifier [0x00007FF7CE2DF3AF+3180639]\n\tGetHandleVerifier [0x00007FF7CE075F25+652245]\n\t(No symbol) [0x00007FF7CDF68618]\n\t(No symbol) [0x00007FF7CDF647C4]\n\t(No symbol) [0x00007FF7CDF648BC]\n\t(No symbol) [0x00007FF7CDF54C33]\n\tBaseThreadInitThunk [0x00007FFAC97626AD+29]\n\tRtlUserThreadStart [0x00007FFACB5AAA68+40]\n",
     "output_type": "error",
     "traceback": [
      "\u001b[1;31m---------------------------------------------------------------------------\u001b[0m",
      "\u001b[1;31mNoSuchWindowException\u001b[0m                     Traceback (most recent call last)",
      "Cell \u001b[1;32mIn[10], line 11\u001b[0m\n\u001b[0;32m      8\u001b[0m \u001b[39mimport\u001b[39;00m \u001b[39mtime\u001b[39;00m\n\u001b[0;32m      9\u001b[0m \u001b[39mwhile\u001b[39;00m \u001b[39mTrue\u001b[39;00m:\n\u001b[0;32m     10\u001b[0m     \u001b[39m#첫번째로 스크롤 내리기\u001b[39;00m\n\u001b[1;32m---> 11\u001b[0m     driver\u001b[39m.\u001b[39;49mexecute_script(\u001b[39m\"\u001b[39;49m\u001b[39mwindow.scrollTo(0,document.body.scrollHeight)\u001b[39;49m\u001b[39m\"\u001b[39;49m)\n\u001b[0;32m     13\u001b[0m     \u001b[39m#시간대기\u001b[39;00m\n\u001b[0;32m     14\u001b[0m     time\u001b[39m.\u001b[39msleep(\u001b[39m5\u001b[39m)\n",
      "File \u001b[1;32m~\\AppData\\Roaming\\Python\\Python310\\site-packages\\selenium\\webdriver\\remote\\webdriver.py:884\u001b[0m, in \u001b[0;36mWebDriver.execute_script\u001b[1;34m(self, script, *args)\u001b[0m\n\u001b[0;32m    881\u001b[0m converted_args \u001b[39m=\u001b[39m \u001b[39mlist\u001b[39m(args)\n\u001b[0;32m    882\u001b[0m command \u001b[39m=\u001b[39m Command\u001b[39m.\u001b[39mW3C_EXECUTE_SCRIPT\n\u001b[1;32m--> 884\u001b[0m \u001b[39mreturn\u001b[39;00m \u001b[39mself\u001b[39;49m\u001b[39m.\u001b[39;49mexecute(command, {\n\u001b[0;32m    885\u001b[0m     \u001b[39m'\u001b[39;49m\u001b[39mscript\u001b[39;49m\u001b[39m'\u001b[39;49m: script,\n\u001b[0;32m    886\u001b[0m     \u001b[39m'\u001b[39;49m\u001b[39margs\u001b[39;49m\u001b[39m'\u001b[39;49m: converted_args})[\u001b[39m'\u001b[39m\u001b[39mvalue\u001b[39m\u001b[39m'\u001b[39m]\n",
      "File \u001b[1;32m~\\AppData\\Roaming\\Python\\Python310\\site-packages\\selenium\\webdriver\\remote\\webdriver.py:430\u001b[0m, in \u001b[0;36mWebDriver.execute\u001b[1;34m(self, driver_command, params)\u001b[0m\n\u001b[0;32m    428\u001b[0m response \u001b[39m=\u001b[39m \u001b[39mself\u001b[39m\u001b[39m.\u001b[39mcommand_executor\u001b[39m.\u001b[39mexecute(driver_command, params)\n\u001b[0;32m    429\u001b[0m \u001b[39mif\u001b[39;00m response:\n\u001b[1;32m--> 430\u001b[0m     \u001b[39mself\u001b[39;49m\u001b[39m.\u001b[39;49merror_handler\u001b[39m.\u001b[39;49mcheck_response(response)\n\u001b[0;32m    431\u001b[0m     response[\u001b[39m'\u001b[39m\u001b[39mvalue\u001b[39m\u001b[39m'\u001b[39m] \u001b[39m=\u001b[39m \u001b[39mself\u001b[39m\u001b[39m.\u001b[39m_unwrap_value(\n\u001b[0;32m    432\u001b[0m         response\u001b[39m.\u001b[39mget(\u001b[39m'\u001b[39m\u001b[39mvalue\u001b[39m\u001b[39m'\u001b[39m, \u001b[39mNone\u001b[39;00m))\n\u001b[0;32m    433\u001b[0m     \u001b[39mreturn\u001b[39;00m response\n",
      "File \u001b[1;32m~\\AppData\\Roaming\\Python\\Python310\\site-packages\\selenium\\webdriver\\remote\\errorhandler.py:247\u001b[0m, in \u001b[0;36mErrorHandler.check_response\u001b[1;34m(self, response)\u001b[0m\n\u001b[0;32m    245\u001b[0m         alert_text \u001b[39m=\u001b[39m value[\u001b[39m'\u001b[39m\u001b[39malert\u001b[39m\u001b[39m'\u001b[39m]\u001b[39m.\u001b[39mget(\u001b[39m'\u001b[39m\u001b[39mtext\u001b[39m\u001b[39m'\u001b[39m)\n\u001b[0;32m    246\u001b[0m     \u001b[39mraise\u001b[39;00m exception_class(message, screen, stacktrace, alert_text)  \u001b[39m# type: ignore[call-arg]  # mypy is not smart enough here\u001b[39;00m\n\u001b[1;32m--> 247\u001b[0m \u001b[39mraise\u001b[39;00m exception_class(message, screen, stacktrace)\n",
      "\u001b[1;31mNoSuchWindowException\u001b[0m: Message: no such window: target window already closed\nfrom unknown error: web view not found\n  (Session info: chrome=116.0.5845.96)\nStacktrace:\nBacktrace:\n\tGetHandleVerifier [0x00007FF7CDFE4A62+57106]\n\t(No symbol) [0x00007FF7CDF5CF52]\n\t(No symbol) [0x00007FF7CDE2E2CB]\n\t(No symbol) [0x00007FF7CDE0DEB9]\n\t(No symbol) [0x00007FF7CDE8AE07]\n\t(No symbol) [0x00007FF7CDE9DBEF]\n\t(No symbol) [0x00007FF7CDE86793]\n\t(No symbol) [0x00007FF7CDE5CE81]\n\t(No symbol) [0x00007FF7CDE5E064]\n\tGetHandleVerifier [0x00007FF7CE294222+2873042]\n\tGetHandleVerifier [0x00007FF7CE2E6590+3209792]\n\tGetHandleVerifier [0x00007FF7CE2DF3AF+3180639]\n\tGetHandleVerifier [0x00007FF7CE075F25+652245]\n\t(No symbol) [0x00007FF7CDF68618]\n\t(No symbol) [0x00007FF7CDF647C4]\n\t(No symbol) [0x00007FF7CDF648BC]\n\t(No symbol) [0x00007FF7CDF54C33]\n\tBaseThreadInitThunk [0x00007FFAC97626AD+29]\n\tRtlUserThreadStart [0x00007FFACB5AAA68+40]\n"
     ]
    }
   ],
   "source": [
    "review_list = []\n",
    "for n in range(1, 41):\n",
    "    driver.get(url_goodsno)\n",
    "    time.sleep(3)\n",
    "    store_url = driver.find_element(By.XPATH, f'/html/body/div/div/div[2]/div[2]/div[3]/div[1]/div[2]/div/div[{n}]/div/div/div[3]/div[1]/a[1]').get_attribute('href')\n",
    "    #셀레니움 스크롤 끝까지 내려도 계속 내리는 페이지라면\n",
    "    prev_height = driver.execute_script(\"return document. body.scrollHeight\")\n",
    "    import time\n",
    "    while True:\n",
    "        #첫번째로 스크롤 내리기\n",
    "        driver.execute_script(\"window.scrollTo(0,document.body.scrollHeight)\")\n",
    "\n",
    "        #시간대기\n",
    "        time.sleep(5)\n",
    "\n",
    "        #현재높이 저장\n",
    "        current_height = driver.execute_script(\"return document. body.scrollHeight\")\n",
    "        time.sleep(3)\n",
    "        #현재높이와 끝의 높이가 끝이면 탈출\n",
    "        if current_height == prev_height:\n",
    "            break\n",
    "        #업데이트해줘서 끝낼 수 있도록\n",
    "        time.sleep(1)\n",
    "        prev_height == current_height\n",
    "    if store_url[:28] == 'https://smartstore.naver.com':\n",
    "        product_url = driver.find_element(By.XPATH, f'/html/body/div/div/div[2]/div[2]/div[3]/div[1]/div[2]/div/div[{n}]/div/div/div[2]/div[1]/a').get_attribute('href')\n",
    "        driver.get(product_url)\n",
    "        time.sleep(2)\n",
    "        driver.find_elements(By.CLASS_NAME, '_1k5R-niA93')[1].click()\n",
    "        review_num = review_count()\n",
    "        page_review = page_count(review_num, 20)\n",
    "        #name\n",
    "        product = driver.find_element(By.CLASS_NAME, f'_1eddO7u4UC').text\n",
    "        #price\n",
    "        price = driver.find_element(By.CLASS_NAME, f'_1LY7DqCnwR').text\n",
    "        #rating\n",
    "        product_rating = driver.find_elements(By.CLASS_NAME, f'_2pgHN-ntx6')[1].text[:3]\n",
    "        for loop in range(1, page_review+1):\n",
    "            for k in range(20):\n",
    "                try:\n",
    "                    review_box = driver.find_elements(By.CLASS_NAME, f'_1yIGHygFbx')[k]\n",
    "                                                                \n",
    "                    id = review_box.find_elements(By.CLASS_NAME, '_3QDEeS6NLn')[0].text\n",
    "                    rating = review_box.find_element(By.CLASS_NAME, '_15NU42F3kT').text\n",
    "                    date = review_box.find_elements(By.CLASS_NAME, '_3QDEeS6NLn')[1].text\n",
    "                    product_select = re.findall(r'.+\\n', review_box.find_element(By.CLASS_NAME, '_14FigHP3K8').text)[0]\n",
    "                    review_option = re.findall(r'유통기한.+', review_box.find_element(By.CLASS_NAME, '_14FigHP3K8').text)[0]\n",
    "                    review_text = review_box.find_element(By.CLASS_NAME, 'YEtwtZFLDz').text\n",
    "                    review_list.append([product, price, product_rating, id, rating, date, product_select, review_option, review_text])\n",
    "                except:continue\n",
    "            if loop != page_review:\n",
    "                \n",
    "                try:\n",
    "                    driver.find_element(By.XPATH, '/html/body/div/div/div[2]/div/div[2]/div/div[3]/div[7]/div/div[3]/div[2]/div/div/a[11]')\n",
    "                    if loop % 10 == 0:\n",
    "                        driver.find_element(By.CSS_SELECTOR, f'#REVIEW > div > div._180GG7_7yx > div.cv6id6JEkg > div > div > a.fAUKm1ewwo._2Ar8-aEUTq').click()\n",
    "                    else:\n",
    "                        driver.find_element(By.CSS_SELECTOR, f'#REVIEW > div > div._180GG7_7yx > div.cv6id6JEkg > div > div > a:nth-child({(loop%10)+2})').click()\n",
    "                except:\n",
    "                    driver.find_element(By.CSS_SELECTOR, f'#REVIEW > div > div._180GG7_7yx > div.cv6id6JEkg > div > div > a.fAUKm1ewwo._2Ar8-aEUTq').click()\n",
    "                time.sleep(0.5)\n",
    "            print(n, '번째 상품', loop, '/', page_review, '페이지 완료', '-'*30)"
   ]
  },
  {
   "cell_type": "code",
   "execution_count": 7,
   "metadata": {},
   "outputs": [
    {
     "data": {
      "text/plain": [
       "8933"
      ]
     },
     "execution_count": 7,
     "metadata": {},
     "output_type": "execute_result"
    }
   ],
   "source": [
    "df = pd.DataFrame(review_list, columns=['product', 'price', 'product_rating', 'id', 'rating', 'date', 'product_select', 'review_option', 'review_text'])"
   ]
  }
 ],
 "metadata": {
  "kernelspec": {
   "display_name": "base",
   "language": "python",
   "name": "python3"
  },
  "language_info": {
   "codemirror_mode": {
    "name": "ipython",
    "version": 3
   },
   "file_extension": ".py",
   "mimetype": "text/x-python",
   "name": "python",
   "nbconvert_exporter": "python",
   "pygments_lexer": "ipython3",
   "version": "3.10.9"
  },
  "orig_nbformat": 4
 },
 "nbformat": 4,
 "nbformat_minor": 2
}
