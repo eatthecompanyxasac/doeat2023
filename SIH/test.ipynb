{
 "cells": [
  {
   "cell_type": "code",
   "execution_count": 1,
   "metadata": {},
   "outputs": [],
   "source": [
    "import pandas as pd\n",
    "import numpy as np\n",
    "import os"
   ]
  },
  {
   "cell_type": "code",
   "execution_count": 2,
   "metadata": {},
   "outputs": [],
   "source": [
    "# 리뷰 출력시 ... 없이 전부 나오게 설정\n",
    "pd.set_option('display.max_colwidth', None)\n",
    "pd.set_option('display.max_columns', None)\n",
    "pd.set_option('display.width', None)\n",
    "pd.set_option('display.max_rows', None)"
   ]
  },
  {
   "cell_type": "code",
   "execution_count": 3,
   "metadata": {},
   "outputs": [
    {
     "data": {
      "text/html": [
       "<div>\n",
       "<style scoped>\n",
       "    .dataframe tbody tr th:only-of-type {\n",
       "        vertical-align: middle;\n",
       "    }\n",
       "\n",
       "    .dataframe tbody tr th {\n",
       "        vertical-align: top;\n",
       "    }\n",
       "\n",
       "    .dataframe thead th {\n",
       "        text-align: right;\n",
       "    }\n",
       "</style>\n",
       "<table border=\"1\" class=\"dataframe\">\n",
       "  <thead>\n",
       "    <tr style=\"text-align: right;\">\n",
       "      <th></th>\n",
       "      <th>ProductCode</th>\n",
       "      <th>MemberGrade</th>\n",
       "      <th>MemberName</th>\n",
       "      <th>ProductName</th>\n",
       "      <th>ReviewText</th>\n",
       "      <th>ReviewDate</th>\n",
       "      <th>ReviewLike</th>\n",
       "      <th>pred_label</th>\n",
       "      <th>pred_score</th>\n",
       "    </tr>\n",
       "  </thead>\n",
       "  <tbody>\n",
       "    <tr>\n",
       "      <th>0</th>\n",
       "      <td>1000098225</td>\n",
       "      <td>일반</td>\n",
       "      <td>송**</td>\n",
       "      <td>[아우름] 바다를 품은 톳 해물솥밥키트</td>\n",
       "      <td>간단한 한끼대용으로 좋네요</td>\n",
       "      <td>2023.07.12</td>\n",
       "      <td>0</td>\n",
       "      <td>1</td>\n",
       "      <td>0.970708</td>\n",
       "    </tr>\n",
       "    <tr>\n",
       "      <th>1</th>\n",
       "      <td>1000098225</td>\n",
       "      <td>일반</td>\n",
       "      <td>봉**</td>\n",
       "      <td>[아우름] 바다를 품은 문어솥밥키트</td>\n",
       "      <td>맛있어서 재구매했어요!</td>\n",
       "      <td>2023.07.12</td>\n",
       "      <td>0</td>\n",
       "      <td>1</td>\n",
       "      <td>0.978758</td>\n",
       "    </tr>\n",
       "    <tr>\n",
       "      <th>2</th>\n",
       "      <td>1000098225</td>\n",
       "      <td>화이트</td>\n",
       "      <td>최**</td>\n",
       "      <td>[아우름] 바다를 품은 톳 해물솥밥키트</td>\n",
       "      <td>아침대용으로 간단하고좋아요</td>\n",
       "      <td>2023.07.11</td>\n",
       "      <td>0</td>\n",
       "      <td>1</td>\n",
       "      <td>0.949967</td>\n",
       "    </tr>\n",
       "    <tr>\n",
       "      <th>3</th>\n",
       "      <td>1000098225</td>\n",
       "      <td>라벤더</td>\n",
       "      <td>곽**</td>\n",
       "      <td>[아우름] 바다를 품은 톳 해물솥밥키트</td>\n",
       "      <td>톳좋아해서 주문했어요.</td>\n",
       "      <td>2023.07.11</td>\n",
       "      <td>0</td>\n",
       "      <td>1</td>\n",
       "      <td>0.981879</td>\n",
       "    </tr>\n",
       "    <tr>\n",
       "      <th>4</th>\n",
       "      <td>1000098225</td>\n",
       "      <td>화이트</td>\n",
       "      <td>김**</td>\n",
       "      <td>[아우름] 바다를 품은 톳 해물솥밥키트</td>\n",
       "      <td>지난 번에 간편하면서도 맛있게 먹어서 또 주문 했습니다.</td>\n",
       "      <td>2023.07.11</td>\n",
       "      <td>0</td>\n",
       "      <td>1</td>\n",
       "      <td>0.993944</td>\n",
       "    </tr>\n",
       "  </tbody>\n",
       "</table>\n",
       "</div>"
      ],
      "text/plain": [
       "   ProductCode MemberGrade MemberName            ProductName  \\\n",
       "0   1000098225          일반        송**  [아우름] 바다를 품은 톳 해물솥밥키트   \n",
       "1   1000098225          일반        봉**    [아우름] 바다를 품은 문어솥밥키트   \n",
       "2   1000098225         화이트        최**  [아우름] 바다를 품은 톳 해물솥밥키트   \n",
       "3   1000098225         라벤더        곽**  [아우름] 바다를 품은 톳 해물솥밥키트   \n",
       "4   1000098225         화이트        김**  [아우름] 바다를 품은 톳 해물솥밥키트   \n",
       "\n",
       "                         ReviewText  ReviewDate  ReviewLike  pred_label  \\\n",
       "0                    간단한 한끼대용으로 좋네요  2023.07.12           0           1   \n",
       "1                      맛있어서 재구매했어요!  2023.07.12           0           1   \n",
       "2                    아침대용으로 간단하고좋아요  2023.07.11           0           1   \n",
       "3                      톳좋아해서 주문했어요.  2023.07.11           0           1   \n",
       "4  지난 번에 간편하면서도 맛있게 먹어서 또 주문 했습니다.   2023.07.11           0           1   \n",
       "\n",
       "   pred_score  \n",
       "0    0.970708  \n",
       "1    0.978758  \n",
       "2    0.949967  \n",
       "3    0.981879  \n",
       "4    0.993944  "
      ]
     },
     "execution_count": 3,
     "metadata": {},
     "output_type": "execute_result"
    }
   ],
   "source": [
    "data_kurly = pd.read_csv(r\"C:\\Users\\NT550\\asac\\SIH\\SIH\\eat_the\\data_kurly_sentiment.csv\", index_col=0)\n",
    "data_kurly.head()"
   ]
  },
  {
   "cell_type": "code",
   "execution_count": 4,
   "metadata": {},
   "outputs": [],
   "source": [
    "data_dir = r'C:\\Users\\NT550\\asac\\SIH\\SIH\\eat_the\\키워드 정제'\n",
    "data_list = os.listdir(data_dir)"
   ]
  },
  {
   "cell_type": "code",
   "execution_count": 5,
   "metadata": {},
   "outputs": [
    {
     "data": {
      "text/plain": [
       "'건강가득 전복솥밥 키트 부정_빈도수.xlsx'"
      ]
     },
     "execution_count": 5,
     "metadata": {},
     "output_type": "execute_result"
    }
   ],
   "source": [
    "data_list[1]"
   ]
  },
  {
   "cell_type": "code",
   "execution_count": 6,
   "metadata": {},
   "outputs": [],
   "source": [
    "def table_view(n):\n",
    "    df = pd.read_excel(data_dir+'/'+data_list[n], index_col=0).dropna()\n",
    "    print(data_list[n])\n",
    "    print(df)"
   ]
  },
  {
   "cell_type": "code",
   "execution_count": 7,
   "metadata": {},
   "outputs": [],
   "source": [
    "def kw_in_product(product_name, keyword):\n",
    "    return data_kurly[(data_kurly['ProductName'] == product_name)&(data_kurly['ReviewText'].apply(lambda x:keyword in x))]['ReviewText']"
   ]
  },
  {
   "cell_type": "code",
   "execution_count": 8,
   "metadata": {},
   "outputs": [
    {
     "data": {
      "text/plain": [
       "array(['[아우름] 바다를 품은 톳 해물솥밥키트', '[아우름] 바다를 품은 문어솥밥키트',\n",
       "       '[치즈룸x테이스팅룸] 전복 솥밥 리조또', '[콜린스 다이닝] 건강가득 전복솥밥 키트',\n",
       "       '[콜린스 다이닝] 한돈 가지 솥밥 키트', '[수린] 한우 사골 솥밥 밀키트 (2인분)',\n",
       "       '[온하루] 구운 삼치 솥밥키트', '[온하루] 구운 생선 솥밥키트', '[콜린스 다이닝] 도미 솥밥 키트',\n",
       "       '[콜린스 다이닝] 미나리 소고기 솥밥 키트', '[온하루] 한돈 건나물 솥밥키트'], dtype=object)"
      ]
     },
     "execution_count": 8,
     "metadata": {},
     "output_type": "execute_result"
    }
   ],
   "source": [
    "data_kurly['ProductName'].unique()"
   ]
  },
  {
   "cell_type": "code",
   "execution_count": 10,
   "metadata": {},
   "outputs": [
    {
     "name": "stdout",
     "output_type": "stream",
     "text": [
      "도미 솥밥 키트 긍정_빈도수.xlsx\n",
      "    Top Nouns  빈도수  Correlation\n",
      "4     도미/Noun  353     0.095858\n",
      "20    키트/Noun  141     0.282040\n",
      "30    후기/Noun  100     0.168504\n",
      "49    추가/Noun   73     0.237449\n",
      "80     집/Noun   55     0.127519\n",
      "93    추천/Noun   47     0.116098\n",
      "108  양념장/Noun   43     0.079699\n",
      "123    김/Noun   38     0.070735\n",
      "130  콜린스/Noun   36     0.160419\n",
      "137    밀/Noun   35     0.079314\n",
      "147   냄비/Noun   32     0.081438\n",
      "165   걱정/Noun   29     0.137784\n",
      "170   달래/Noun   28     0.097461\n",
      "185   컬리/Noun   25     0.088629\n",
      "189   가족/Noun   25     0.080498\n",
      "188   뚝딱/Noun   25     0.127574\n",
      "191    양/Noun   24     0.085618\n",
      "245   손질/Noun   19     0.063726\n",
      "248  다이닝/Noun   18     0.075837\n",
      "251  누룽지/Noun   18     0.057390\n",
      "250   조절/Noun   18     0.090107\n",
      "285  감칠맛/Noun   16     0.057880\n",
      "311   죽순/Noun   14     0.060815\n",
      "329   건강/Noun   14     0.067449\n",
      "321   저녁/Noun   14     0.066450\n",
      "342   별미/Noun   13     0.085155\n",
      "344   오늘/Noun   13     0.109284\n",
      "387   무쇠/Noun   11     0.057117\n",
      "392   강추/Noun   11     0.071275\n",
      "463   아들/Noun    9     0.086227\n",
      "477    햇/Noun    9     0.076378\n",
      "487  슴슴하/Noun    8     0.085381\n",
      "543   식구/Noun    7     0.059721\n",
      "584   특별/Noun    7     0.057419\n",
      "581   대중/Noun    7     0.058647\n",
      "791   밥집/Noun    4     0.122507\n",
      "839    뼈/Noun    4     0.072081\n"
     ]
    }
   ],
   "source": [
    "table_view(2)"
   ]
  },
  {
   "cell_type": "code",
   "execution_count": 82,
   "metadata": {},
   "outputs": [
    {
     "data": {
      "text/plain": [
       "2273                                                                                                                                                                                                                                                                                          포카치아랑 찍어먹었어여  포카치아가 짭짤해서 내입맛에는 맛있었음 굿.\n",
       "5786     오늘 아버님 오시는날이여서  뭘준비할까  고민하다가 후기보고 주문했어요 솥밥하면  정성이들어가보이잖아요 지금 9개월 아가 육아중이라  뭘 만들고 하기가 너무힘든데  이런 요물을 봤나 !!  정말 이렇게 간단하게  정성스런 한끼완성이라니 아버님도 너무 맛있다며 칭찬하셨어요  저는원래  전복을좋아하지 않아요 그런데도 너무맛있게 잘먹었구요  다른후기들 보니  간장양념추가해서 드셨다고 했는데 전  따로안해도 맛있었구요  아버님은 제가 직접 하신줄알더라구요;;; 다음에또 재구매 할께요   참고 !전 세컵에  물조금더 추가해서 조리했어요 3인이  먹어도 넉넉히 먹었어요\n",
       "6525                                                                                                                                                                                                                                                           맨처음 비린내나서ㅠ 못먹고 버려야겠다했는데 간장에 비비니 간이 딱맞고 비린내가 잡히네요. 24개월아가랑 저희랑 잘먹었어요~~\n",
       "7261                                                                                                                                                                                                                                                                  사골 솥밥 맛있어보여서 구매했는데 대박 ... 맛있어여!!! 담에 또 먹어보려구여! 두돌 아가도 잘 먹네영 ㅎㅎ\n",
       "7810                                                                                                                                                                                                                                                                                                              아가가 넘 잘 먹어서 또 시켰어요\n",
       "8305                                                                                                                                                                                                                                                                                            이거랑 다른 브랜드 도미솥밥 번갈아가며 시키는데 둘다 맛있어요. \n",
       "9042                                                                                                                                                                                                                    비린내가 나서 실패인가 했는데 맛은 비리지않고 맛있게 먹었습니다. 전 압력밥솥에 했는데 추 돌아가자마자 끄고 김뺀후 토핑넣고 약불로 살짝 돌렸다가 먹으니 살짝 누룽지익게 되서 맛있게 먹었습니다.\n",
       "10620                                                                                                                                                                                                                                                                                             6살 아가도 맛있게 잘 먹었습니다! 담에 또 주문하겠습니다! \n",
       "10735                                                                                                                                                                                                                                    후기보고 불안했는데 너무 맛있네요 다만 소고기가 조금 질기긴 한데 제가 치아가 약해서 그렇게 느꼈던건지 같이먹은 남편은 괜찮다고 하네요 맛있어요 재구매의사 있습니다\n",
       "11208                                                                                                                                                                                                                                                                                                                 우리아가도 잘먹었어요 ㅎㅎ\n",
       "Name: ReviewText, dtype: object"
      ]
     },
     "execution_count": 82,
     "metadata": {},
     "output_type": "execute_result"
    }
   ],
   "source": [
    "kw_in_product(data_kurly['ProductName'], '아가')"
   ]
  },
  {
   "cell_type": "markdown",
   "metadata": {},
   "source": []
  },
  {
   "cell_type": "markdown",
   "metadata": {},
   "source": []
  },
  {
   "cell_type": "code",
   "execution_count": null,
   "metadata": {},
   "outputs": [],
   "source": [
    "who_dad =['아빠','아버지']\n",
    "who_mam = ['엄마','어머니']\n",
    "who_husband = ['남편','오빠', '남의편','아저씨']\n",
    "who_guest = ['손님','직장','친구','남친']\n",
    "who_kid = ['딸','아들','아이','애들','얘들']\n",
    "who_baby = ['아기','애기']\n",
    "who_fam = ['식구','가족','']\n"
   ]
  },
  {
   "cell_type": "markdown",
   "metadata": {},
   "source": []
  },
  {
   "cell_type": "code",
   "execution_count": null,
   "metadata": {},
   "outputs": [],
   "source": [
    "data_kurly[data_kurly['ReviewText'].apply(lambda x:'의사' in x)]"
   ]
  },
  {
   "cell_type": "code",
   "execution_count": 2,
   "metadata": {},
   "outputs": [],
   "source": [
    "naver_scaling = pd.read_csv(r'C:\\Users\\NT550\\asac\\SIH\\SIH\\eat_the\\naver_blog_text_scaling.csv')\n",
    "naver_tokens = pd.read_csv(r'C:\\Users\\NT550\\asac\\SIH\\SIH\\eat_the\\naver_blog_txt_tokens.csv')"
   ]
  },
  {
   "cell_type": "code",
   "execution_count": 9,
   "metadata": {},
   "outputs": [],
   "source": [
    "pd.set_option('display.max_rows', None)\n",
    "pd.set_option('display.max_colwidth', None)"
   ]
  },
  {
   "cell_type": "code",
   "execution_count": 10,
   "metadata": {},
   "outputs": [
    {
     "data": {
      "text/plain": [
       "128            https://blog.naver.com/PostView.naver?blogId=bxrxx&logNo=223053491375&redirect=Dlog&widgetTypeCall=true&directAccess=false\n",
       "129         https://blog.naver.com/PostView.naver?blogId=sy981126&logNo=223081190514&redirect=Dlog&widgetTypeCall=true&directAccess=false\n",
       "130    https://blog.naver.com/PostView.naver?blogId=peakyblinders&logNo=223006568414&redirect=Dlog&widgetTypeCall=true&directAccess=false\n",
       "131        https://blog.naver.com/PostView.naver?blogId=roqkf0202&logNo=222392897733&redirect=Dlog&widgetTypeCall=true&directAccess=false\n",
       "132         https://blog.naver.com/PostView.naver?blogId=yeeeeees&logNo=222933223713&redirect=Dlog&widgetTypeCall=true&directAccess=false\n",
       "133           https://blog.naver.com/PostView.naver?blogId=ryne_e&logNo=223056454967&redirect=Dlog&widgetTypeCall=true&directAccess=false\n",
       "134          https://blog.naver.com/PostView.naver?blogId=zhouyin&logNo=222476290468&redirect=Dlog&widgetTypeCall=true&directAccess=false\n",
       "135        https://blog.naver.com/PostView.naver?blogId=daily_jjo&logNo=222915575196&redirect=Dlog&widgetTypeCall=true&directAccess=false\n",
       "136           https://blog.naver.com/PostView.naver?blogId=sbr333&logNo=222869442588&redirect=Dlog&widgetTypeCall=true&directAccess=false\n",
       "137     https://blog.naver.com/PostView.naver?blogId=sweet_life90&logNo=222827066610&redirect=Dlog&widgetTypeCall=true&directAccess=false\n",
       "138      https://blog.naver.com/PostView.naver?blogId=simonhelena&logNo=222813880973&redirect=Dlog&widgetTypeCall=true&directAccess=false\n",
       "139          https://blog.naver.com/PostView.naver?blogId=tpssl98&logNo=222992136874&redirect=Dlog&widgetTypeCall=true&directAccess=false\n",
       "140        https://blog.naver.com/PostView.naver?blogId=yammy2013&logNo=222807904307&redirect=Dlog&widgetTypeCall=true&directAccess=false\n",
       "141        https://blog.naver.com/PostView.naver?blogId=mandu0928&logNo=223068005871&redirect=Dlog&widgetTypeCall=true&directAccess=false\n",
       "142          https://blog.naver.com/PostView.naver?blogId=yijjwon&logNo=222938290768&redirect=Dlog&widgetTypeCall=true&directAccess=false\n",
       "143            https://blog.naver.com/PostView.naver?blogId=asyla&logNo=222908113394&redirect=Dlog&widgetTypeCall=true&directAccess=false\n",
       "144          https://blog.naver.com/PostView.naver?blogId=jee_chu&logNo=222894396300&redirect=Dlog&widgetTypeCall=true&directAccess=false\n",
       "145       https://blog.naver.com/PostView.naver?blogId=simpleh100&logNo=222965507066&redirect=Dlog&widgetTypeCall=true&directAccess=false\n",
       "146      https://blog.naver.com/PostView.naver?blogId=constant365&logNo=223082249482&redirect=Dlog&widgetTypeCall=true&directAccess=false\n",
       "147         https://blog.naver.com/PostView.naver?blogId=dupal921&logNo=223114624301&redirect=Dlog&widgetTypeCall=true&directAccess=false\n",
       "148    https://blog.naver.com/PostView.naver?blogId=sweetycookiee&logNo=222937236196&redirect=Dlog&widgetTypeCall=true&directAccess=false\n",
       "149      https://blog.naver.com/PostView.naver?blogId=bbicong_ddu&logNo=222962696113&redirect=Dlog&widgetTypeCall=true&directAccess=false\n",
       "150       https://blog.naver.com/PostView.naver?blogId=preetycute&logNo=222910803331&redirect=Dlog&widgetTypeCall=true&directAccess=false\n",
       "151           https://blog.naver.com/PostView.naver?blogId=hjssla&logNo=222842422912&redirect=Dlog&widgetTypeCall=true&directAccess=false\n",
       "152       https://blog.naver.com/PostView.naver?blogId=preetycute&logNo=222871976120&redirect=Dlog&widgetTypeCall=true&directAccess=false\n",
       "153       https://blog.naver.com/PostView.naver?blogId=jungeun2__&logNo=222770222586&redirect=Dlog&widgetTypeCall=true&directAccess=false\n",
       "154      https://blog.naver.com/PostView.naver?blogId=momozzang31&logNo=222344273939&redirect=Dlog&widgetTypeCall=true&directAccess=false\n",
       "155          https://blog.naver.com/PostView.naver?blogId=rkfk159&logNo=222386826767&redirect=Dlog&widgetTypeCall=true&directAccess=false\n",
       "156           https://blog.naver.com/PostView.naver?blogId=yn7187&logNo=222387443499&redirect=Dlog&widgetTypeCall=true&directAccess=false\n",
       "157            https://blog.naver.com/PostView.naver?blogId=siimi&logNo=222524300366&redirect=Dlog&widgetTypeCall=true&directAccess=false\n",
       "158      https://blog.naver.com/PostView.naver?blogId=momozzang31&logNo=222397286225&redirect=Dlog&widgetTypeCall=true&directAccess=false\n",
       "159          https://blog.naver.com/PostView.naver?blogId=fromosa&logNo=222885466914&redirect=Dlog&widgetTypeCall=true&directAccess=false\n",
       "160        https://blog.naver.com/PostView.naver?blogId=manki1109&logNo=222870786866&redirect=Dlog&widgetTypeCall=true&directAccess=false\n",
       "161         https://blog.naver.com/PostView.naver?blogId=tutu7766&logNo=222968762500&redirect=Dlog&widgetTypeCall=true&directAccess=false\n",
       "162           https://blog.naver.com/PostView.naver?blogId=2hazzz&logNo=222433678740&redirect=Dlog&widgetTypeCall=true&directAccess=false\n",
       "163        https://blog.naver.com/PostView.naver?blogId=siwonvv93&logNo=222792298294&redirect=Dlog&widgetTypeCall=true&directAccess=false\n",
       "164           https://blog.naver.com/PostView.naver?blogId=iling2&logNo=222897209138&redirect=Dlog&widgetTypeCall=true&directAccess=false\n",
       "165         https://blog.naver.com/PostView.naver?blogId=oomiya12&logNo=223008253334&redirect=Dlog&widgetTypeCall=true&directAccess=false\n",
       "166       https://blog.naver.com/PostView.naver?blogId=preetycute&logNo=222794560263&redirect=Dlog&widgetTypeCall=true&directAccess=false\n",
       "167       https://blog.naver.com/PostView.naver?blogId=yousukangs&logNo=222945381595&redirect=Dlog&widgetTypeCall=true&directAccess=false\n",
       "168        https://blog.naver.com/PostView.naver?blogId=jiyoon919&logNo=222796298463&redirect=Dlog&widgetTypeCall=true&directAccess=false\n",
       "169       https://blog.naver.com/PostView.naver?blogId=seon051525&logNo=222836151714&redirect=Dlog&widgetTypeCall=true&directAccess=false\n",
       "170        https://blog.naver.com/PostView.naver?blogId=alwjd2925&logNo=222867012466&redirect=Dlog&widgetTypeCall=true&directAccess=false\n",
       "171        https://blog.naver.com/PostView.naver?blogId=81happyjh&logNo=222342752573&redirect=Dlog&widgetTypeCall=true&directAccess=false\n",
       "172       https://blog.naver.com/PostView.naver?blogId=migam_rice&logNo=222409885337&redirect=Dlog&widgetTypeCall=true&directAccess=false\n",
       "173         https://blog.naver.com/PostView.naver?blogId=clwmrjf9&logNo=222663574585&redirect=Dlog&widgetTypeCall=true&directAccess=false\n",
       "174         https://blog.naver.com/PostView.naver?blogId=hee1207n&logNo=222684649044&redirect=Dlog&widgetTypeCall=true&directAccess=false\n",
       "175            https://blog.naver.com/PostView.naver?blogId=nagae&logNo=222713705259&redirect=Dlog&widgetTypeCall=true&directAccess=false\n",
       "176        https://blog.naver.com/PostView.naver?blogId=haoon_mom&logNo=222555565792&redirect=Dlog&widgetTypeCall=true&directAccess=false\n",
       "177       https://blog.naver.com/PostView.naver?blogId=eunjinha00&logNo=222916701586&redirect=Dlog&widgetTypeCall=true&directAccess=false\n",
       "178        https://blog.naver.com/PostView.naver?blogId=bling0807&logNo=222879759187&redirect=Dlog&widgetTypeCall=true&directAccess=false\n",
       "179        https://blog.naver.com/PostView.naver?blogId=bling0807&logNo=222886304309&redirect=Dlog&widgetTypeCall=true&directAccess=false\n",
       "180         https://blog.naver.com/PostView.naver?blogId=alfksl38&logNo=222904944021&redirect=Dlog&widgetTypeCall=true&directAccess=false\n",
       "181      https://blog.naver.com/PostView.naver?blogId=momozzang31&logNo=222363603670&redirect=Dlog&widgetTypeCall=true&directAccess=false\n",
       "182     https://blog.naver.com/PostView.naver?blogId=nassiarchive&logNo=223127507585&redirect=Dlog&widgetTypeCall=true&directAccess=false\n",
       "183    https://blog.naver.com/PostView.naver?blogId=bella326_____&logNo=223101524748&redirect=Dlog&widgetTypeCall=true&directAccess=false\n",
       "184       https://blog.naver.com/PostView.naver?blogId=seven76543&logNo=223019085301&redirect=Dlog&widgetTypeCall=true&directAccess=false\n",
       "185       https://blog.naver.com/PostView.naver?blogId=seven76543&logNo=223006731369&redirect=Dlog&widgetTypeCall=true&directAccess=false\n",
       "186         https://blog.naver.com/PostView.naver?blogId=csh12881&logNo=222883864056&redirect=Dlog&widgetTypeCall=true&directAccess=false\n",
       "187       https://blog.naver.com/PostView.naver?blogId=jieunc0212&logNo=222882409335&redirect=Dlog&widgetTypeCall=true&directAccess=false\n",
       "188      https://blog.naver.com/PostView.naver?blogId=dolphin1004&logNo=222896323420&redirect=Dlog&widgetTypeCall=true&directAccess=false\n",
       "189      https://blog.naver.com/PostView.naver?blogId=magiccowceo&logNo=222750015586&redirect=Dlog&widgetTypeCall=true&directAccess=false\n",
       "190       https://blog.naver.com/PostView.naver?blogId=coocoo1177&logNo=222439924964&redirect=Dlog&widgetTypeCall=true&directAccess=false\n",
       "191      https://blog.naver.com/PostView.naver?blogId=tlqkftkatns&logNo=222070019844&redirect=Dlog&widgetTypeCall=true&directAccess=false\n",
       "Name: 주소, dtype: object"
      ]
     },
     "execution_count": 10,
     "metadata": {},
     "output_type": "execute_result"
    }
   ],
   "source": [
    "naver_scaling['주소'][128:]"
   ]
  },
  {
   "cell_type": "code",
   "execution_count": null,
   "metadata": {},
   "outputs": [],
   "source": [
    "naver_tokens.head()                                                                                                                                                                                                                                                                                                                                                                                                                                                                                                                                                 "
   ]
  },
  {
   "cell_type": "code",
   "execution_count": null,
   "metadata": {},
   "outputs": [],
   "source": []
  }
 ],
 "metadata": {
  "kernelspec": {
   "display_name": "base",
   "language": "python",
   "name": "python3"
  },
  "language_info": {
   "codemirror_mode": {
    "name": "ipython",
    "version": 3
   },
   "file_extension": ".py",
   "mimetype": "text/x-python",
   "name": "python",
   "nbconvert_exporter": "python",
   "pygments_lexer": "ipython3",
   "version": "3.10.9"
  },
  "orig_nbformat": 4
 },
 "nbformat": 4,
 "nbformat_minor": 2
}
