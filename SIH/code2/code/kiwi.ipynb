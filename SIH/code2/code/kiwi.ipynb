{
 "cells": [
  {
   "cell_type": "code",
   "execution_count": 1,
   "metadata": {},
   "outputs": [],
   "source": [
    "from kiwipiepy import Kiwi\n",
    "from kiwipiepy.utils import Stopwords\n",
    "from kiwipiepy import Kiwi, Match\n",
    "import pandas as pd\n",
    "import numpy as np"
   ]
  },
  {
   "cell_type": "code",
   "execution_count": 7,
   "metadata": {},
   "outputs": [],
   "source": [
    "# 리뷰 출력시 ... 없이 전부 나오게 설정\n",
    "pd.set_option('display.max_colwidth', None)\n",
    "#pd.set_option('display.max_columns', None)\n",
    "#pd.set_option('display.width', None)\n",
    "pd.set_option('display.max_rows', None)"
   ]
  },
  {
   "cell_type": "code",
   "execution_count": null,
   "metadata": {},
   "outputs": [],
   "source": [
    "df = pd.read_csv(r'C:\\Users\\NT550\\asac\\SIH\\hsw\\finaldata\\naver_blog_text_last_scaling.csv')\n",
    "df.head()"
   ]
  },
  {
   "cell_type": "code",
   "execution_count": 3,
   "metadata": {},
   "outputs": [],
   "source": [
    "kiwi = Kiwi(model_type='sbg')\n",
    "stopwords = Stopwords()"
   ]
  },
  {
   "cell_type": "code",
   "execution_count": 11,
   "metadata": {},
   "outputs": [
    {
     "data": {
      "text/plain": [
       "[Token(form='엄마', tag='NNG', start=0, len=2),\n",
       " Token(form='약', tag='NNG', start=4, len=1),\n",
       " Token(form='꿀', tag='NNG', start=5, len=1),\n",
       " Token(form='라고', tag='EC', start=7, len=2),\n",
       " Token(form='가끔', tag='MAG', start=9, len=2),\n",
       " Token(form='숟갈', tag='NNG', start=14, len=2),\n",
       " Token(form='씩', tag='XSN', start=16, len=1),\n",
       " Token(form='주', tag='VV', start=18, len=1),\n",
       " Token(form='곤', tag='EC', start=19, len=1),\n",
       " Token(form='는데', tag='EC', start=22, len=2),\n",
       " Token(form='쌉', tag='NNG', start=24, len=1),\n",
       " Token(form='싸', tag='VV', start=25, len=1),\n",
       " Token(form='르', tag='NNP', start=26, len=1),\n",
       " Token(form='ᆷ', tag='ETN', start=26, len=1),\n",
       " Token(form='정말', tag='MAG', start=31, len=2),\n",
       " Token(form='매력', tag='NNG', start=34, len=2),\n",
       " Token(form='왜', tag='MAG', start=40, len=1),\n",
       " Token(form='꿀', tag='NNG', start=42, len=1),\n",
       " Token(form='쓰', tag='VV', start=45, len=1),\n",
       " Token(form='라고', tag='EC', start=46, len=2),\n",
       " Token(form='있', tag='VA', start=53, len=1),\n",
       " Token(form='비타민', tag='NNG', start=56, len=3),\n",
       " Token(form='미네랄', tag='NNG', start=60, len=3),\n",
       " Token(form='다양', tag='NNG', start=66, len=2),\n",
       " Token(form='영양', tag='NNG', start=70, len=2),\n",
       " Token(form='성분', tag='NNG', start=72, len=2),\n",
       " Token(form='가지', tag='VV', start=75, len=2),\n",
       " Token(form='부모', tag='NNG', start=83, len=2),\n",
       " Token(form='님', tag='XSN', start=85, len=1),\n",
       " Token(form='께', tag='JKB', start=86, len=1),\n",
       " Token(form='선물', tag='NNG', start=88, len=2),\n",
       " Token(form='드리', tag='VV', start=91, len=2),\n",
       " Token(form='좋', tag='VA', start=95, len=1),\n",
       " Token(form='꿀', tag='NNG', start=98, len=1)]"
      ]
     },
     "execution_count": 11,
     "metadata": {},
     "output_type": "execute_result"
    }
   ],
   "source": [
    "kiwi.tokenize('엄마가 약꿀이라고가끔 한 숟갈씩 주곤 했는데쌉싸름한 게 정말 매력적이다.왜 꿀이 써라고 할 수 있지만비타민 미네랄 등 다양한 영양성분을가지고 있어서 부모님께 선물 드리기 좋은 꿀이다.', stopwords = stopwords)"
   ]
  },
  {
   "cell_type": "code",
   "execution_count": 5,
   "metadata": {},
   "outputs": [
    {
     "data": {
      "text/plain": [
       "True"
      ]
     },
     "execution_count": 5,
     "metadata": {},
     "output_type": "execute_result"
    }
   ],
   "source": [
    "kiwi.add_user_word(\"탄소동위원소\", \"NNG\") #새로운 단어 입력 코드"
   ]
  },
  {
   "cell_type": "code",
   "execution_count": 6,
   "metadata": {},
   "outputs": [
    {
     "ename": "ValueError",
     "evalue": "'VV-R' is an invalid tag.",
     "output_type": "error",
     "traceback": [
      "\u001b[1;31m---------------------------------------------------------------------------\u001b[0m",
      "\u001b[1;31mValueError\u001b[0m                                Traceback (most recent call last)",
      "Cell \u001b[1;32mIn[6], line 1\u001b[0m\n\u001b[1;32m----> 1\u001b[0m stopwords\u001b[39m.\u001b[39;49madd((\u001b[39m'\u001b[39;49m\u001b[39m접\u001b[39;49m\u001b[39m'\u001b[39;49m, \u001b[39m'\u001b[39;49m\u001b[39mVV-R\u001b[39;49m\u001b[39m'\u001b[39;49m))\n",
      "File \u001b[1;32mc:\\ProgramData\\anaconda3\\lib\\site-packages\\kiwipiepy\\utils.py:118\u001b[0m, in \u001b[0;36mStopwords.add\u001b[1;34m(self, tokens)\u001b[0m\n\u001b[0;32m    116\u001b[0m \u001b[39mif\u001b[39;00m \u001b[39mtype\u001b[39m(tokens) \u001b[39mis\u001b[39;00m \u001b[39mstr\u001b[39m:\n\u001b[0;32m    117\u001b[0m     \u001b[39mself\u001b[39m\u001b[39m.\u001b[39mstopwords\u001b[39m.\u001b[39madd((tokens, \u001b[39m'\u001b[39m\u001b[39mNNP\u001b[39m\u001b[39m'\u001b[39m))\n\u001b[1;32m--> 118\u001b[0m \u001b[39melif\u001b[39;00m \u001b[39mtype\u001b[39m(tokens) \u001b[39mis\u001b[39;00m \u001b[39mtuple\u001b[39m \u001b[39mand\u001b[39;00m \u001b[39mself\u001b[39;49m\u001b[39m.\u001b[39;49m_tag_exists(tokens[\u001b[39m1\u001b[39;49m]):\n\u001b[0;32m    119\u001b[0m     \u001b[39mself\u001b[39m\u001b[39m.\u001b[39mstopwords\u001b[39m.\u001b[39madd(tokens)\n\u001b[0;32m    120\u001b[0m \u001b[39melse\u001b[39;00m:\n",
      "File \u001b[1;32mc:\\ProgramData\\anaconda3\\lib\\site-packages\\kiwipiepy\\utils.py:94\u001b[0m, in \u001b[0;36mStopwords._tag_exists\u001b[1;34m(self, tag)\u001b[0m\n\u001b[0;32m     92\u001b[0m \u001b[39mif\u001b[39;00m tag \u001b[39min\u001b[39;00m _tag_set:\n\u001b[0;32m     93\u001b[0m     \u001b[39mreturn\u001b[39;00m \u001b[39mTrue\u001b[39;00m\n\u001b[1;32m---> 94\u001b[0m \u001b[39mraise\u001b[39;00m \u001b[39mValueError\u001b[39;00m(\u001b[39mf\u001b[39m\u001b[39m'\u001b[39m\u001b[39m{\u001b[39;00m\u001b[39mrepr\u001b[39m(tag)\u001b[39m}\u001b[39;00m\u001b[39m is an invalid tag.\u001b[39m\u001b[39m'\u001b[39m)\n",
      "\u001b[1;31mValueError\u001b[0m: 'VV-R' is an invalid tag."
     ]
    }
   ],
   "source": [
    "stopwords.add(('접', 'VV-R')) #이건 불용어 추가 코드"
   ]
  },
  {
   "cell_type": "code",
   "execution_count": null,
   "metadata": {},
   "outputs": [],
   "source": []
  },
  {
   "cell_type": "code",
   "execution_count": null,
   "metadata": {},
   "outputs": [],
   "source": []
  }
 ],
 "metadata": {
  "kernelspec": {
   "display_name": "base",
   "language": "python",
   "name": "python3"
  },
  "language_info": {
   "codemirror_mode": {
    "name": "ipython",
    "version": 3
   },
   "file_extension": ".py",
   "mimetype": "text/x-python",
   "name": "python",
   "nbconvert_exporter": "python",
   "pygments_lexer": "ipython3",
   "version": "3.10.9"
  },
  "orig_nbformat": 4
 },
 "nbformat": 4,
 "nbformat_minor": 2
}
