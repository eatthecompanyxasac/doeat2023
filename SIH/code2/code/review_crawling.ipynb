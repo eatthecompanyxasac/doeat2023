{
 "cells": [
  {
   "cell_type": "code",
   "execution_count": 2,
   "metadata": {},
   "outputs": [],
   "source": [
    "import pandas as pd\n",
    "import numpy as np\n",
    "import matplotlib.pyplot as plt\n",
    "import seaborn as sns\n",
    "\n",
    "import warnings\n",
    "warnings.filterwarnings(\"ignore\")"
   ]
  },
  {
   "cell_type": "markdown",
   "metadata": {},
   "source": [
    "### <step1. 크롤링> : 네이버 쇼핑 리뷰 크롤링"
   ]
  },
  {
   "cell_type": "code",
   "execution_count": 3,
   "metadata": {},
   "outputs": [
    {
     "ename": "JSONDecodeError",
     "evalue": "Expecting value: line 1 column 1 (char 0)",
     "output_type": "error",
     "traceback": [
      "\u001b[1;31m---------------------------------------------------------------------------\u001b[0m",
      "\u001b[1;31mJSONDecodeError\u001b[0m                           Traceback (most recent call last)",
      "Cell \u001b[1;32mIn[3], line 17\u001b[0m\n\u001b[0;32m     15\u001b[0m \u001b[39m# 반환받은 api 데이터에 json, loads 함수를 사용\u001b[39;00m\n\u001b[0;32m     16\u001b[0m json_data \u001b[39m=\u001b[39m requests\u001b[39m.\u001b[39mget(url_concat)\u001b[39m.\u001b[39mtext\n\u001b[1;32m---> 17\u001b[0m honey_stick_list_data \u001b[39m=\u001b[39m json\u001b[39m.\u001b[39;49mloads(json_data)\n\u001b[0;32m     19\u001b[0m \u001b[39m# 관련도순 상위 100개의 꿀 스틱 리스트 정보를 출력\u001b[39;00m\n\u001b[0;32m     20\u001b[0m \u001b[39mprint\u001b[39m(\u001b[39mstr\u001b[39m(honey_stick_list_data)[:\u001b[39m100\u001b[39m]\u001b[39m+\u001b[39m\u001b[39m'\u001b[39m\u001b[39m...\u001b[39m\u001b[39m'\u001b[39m)\n",
      "File \u001b[1;32mc:\\ProgramData\\anaconda3\\lib\\json\\__init__.py:346\u001b[0m, in \u001b[0;36mloads\u001b[1;34m(s, cls, object_hook, parse_float, parse_int, parse_constant, object_pairs_hook, **kw)\u001b[0m\n\u001b[0;32m    341\u001b[0m     s \u001b[39m=\u001b[39m s\u001b[39m.\u001b[39mdecode(detect_encoding(s), \u001b[39m'\u001b[39m\u001b[39msurrogatepass\u001b[39m\u001b[39m'\u001b[39m)\n\u001b[0;32m    343\u001b[0m \u001b[39mif\u001b[39;00m (\u001b[39mcls\u001b[39m \u001b[39mis\u001b[39;00m \u001b[39mNone\u001b[39;00m \u001b[39mand\u001b[39;00m object_hook \u001b[39mis\u001b[39;00m \u001b[39mNone\u001b[39;00m \u001b[39mand\u001b[39;00m\n\u001b[0;32m    344\u001b[0m         parse_int \u001b[39mis\u001b[39;00m \u001b[39mNone\u001b[39;00m \u001b[39mand\u001b[39;00m parse_float \u001b[39mis\u001b[39;00m \u001b[39mNone\u001b[39;00m \u001b[39mand\u001b[39;00m\n\u001b[0;32m    345\u001b[0m         parse_constant \u001b[39mis\u001b[39;00m \u001b[39mNone\u001b[39;00m \u001b[39mand\u001b[39;00m object_pairs_hook \u001b[39mis\u001b[39;00m \u001b[39mNone\u001b[39;00m \u001b[39mand\u001b[39;00m \u001b[39mnot\u001b[39;00m kw):\n\u001b[1;32m--> 346\u001b[0m     \u001b[39mreturn\u001b[39;00m _default_decoder\u001b[39m.\u001b[39;49mdecode(s)\n\u001b[0;32m    347\u001b[0m \u001b[39mif\u001b[39;00m \u001b[39mcls\u001b[39m \u001b[39mis\u001b[39;00m \u001b[39mNone\u001b[39;00m:\n\u001b[0;32m    348\u001b[0m     \u001b[39mcls\u001b[39m \u001b[39m=\u001b[39m JSONDecoder\n",
      "File \u001b[1;32mc:\\ProgramData\\anaconda3\\lib\\json\\decoder.py:337\u001b[0m, in \u001b[0;36mJSONDecoder.decode\u001b[1;34m(self, s, _w)\u001b[0m\n\u001b[0;32m    332\u001b[0m \u001b[39mdef\u001b[39;00m \u001b[39mdecode\u001b[39m(\u001b[39mself\u001b[39m, s, _w\u001b[39m=\u001b[39mWHITESPACE\u001b[39m.\u001b[39mmatch):\n\u001b[0;32m    333\u001b[0m     \u001b[39m\"\"\"Return the Python representation of ``s`` (a ``str`` instance\u001b[39;00m\n\u001b[0;32m    334\u001b[0m \u001b[39m    containing a JSON document).\u001b[39;00m\n\u001b[0;32m    335\u001b[0m \n\u001b[0;32m    336\u001b[0m \u001b[39m    \"\"\"\u001b[39;00m\n\u001b[1;32m--> 337\u001b[0m     obj, end \u001b[39m=\u001b[39m \u001b[39mself\u001b[39;49m\u001b[39m.\u001b[39;49mraw_decode(s, idx\u001b[39m=\u001b[39;49m_w(s, \u001b[39m0\u001b[39;49m)\u001b[39m.\u001b[39;49mend())\n\u001b[0;32m    338\u001b[0m     end \u001b[39m=\u001b[39m _w(s, end)\u001b[39m.\u001b[39mend()\n\u001b[0;32m    339\u001b[0m     \u001b[39mif\u001b[39;00m end \u001b[39m!=\u001b[39m \u001b[39mlen\u001b[39m(s):\n",
      "File \u001b[1;32mc:\\ProgramData\\anaconda3\\lib\\json\\decoder.py:355\u001b[0m, in \u001b[0;36mJSONDecoder.raw_decode\u001b[1;34m(self, s, idx)\u001b[0m\n\u001b[0;32m    353\u001b[0m     obj, end \u001b[39m=\u001b[39m \u001b[39mself\u001b[39m\u001b[39m.\u001b[39mscan_once(s, idx)\n\u001b[0;32m    354\u001b[0m \u001b[39mexcept\u001b[39;00m \u001b[39mStopIteration\u001b[39;00m \u001b[39mas\u001b[39;00m err:\n\u001b[1;32m--> 355\u001b[0m     \u001b[39mraise\u001b[39;00m JSONDecodeError(\u001b[39m\"\u001b[39m\u001b[39mExpecting value\u001b[39m\u001b[39m\"\u001b[39m, s, err\u001b[39m.\u001b[39mvalue) \u001b[39mfrom\u001b[39;00m \u001b[39mNone\u001b[39m\n\u001b[0;32m    356\u001b[0m \u001b[39mreturn\u001b[39;00m obj, end\n",
      "\u001b[1;31mJSONDecodeError\u001b[0m: Expecting value: line 1 column 1 (char 0)"
     ]
    }
   ],
   "source": [
    "import requests\n",
    "import json\n",
    "\n",
    "# 네이버 쇼핑 api를 호출하기 위한 기본 주소입니다.\n",
    "source_url = \"https://search.shopping.naver.com/sogum/api/businesses?\"\n",
    "\n",
    "# 검색 규칙 파라미터를 추가\n",
    "url_parameter_start = \"start=1\"\n",
    "url_parameter_display = '&display='\n",
    "url_parameter_query = '&query=꿀+스틱'\n",
    "url_parameter_sorting = '&sortingOrder=precision'\n",
    "url_concat = source_url + url_parameter_start + \\\n",
    "    url_parameter_display + str(100) + url_parameter_query + url_parameter_sorting\n",
    "    \n",
    "# 반환받은 api 데이터에 json, loads 함수를 사용\n",
    "json_data = requests.get(url_concat).text\n",
    "honey_stick_list_data = json.loads(json_data)\n",
    "\n",
    "# 관련도순 상위 100개의 꿀 스틱 리스트 정보를 출력\n",
    "print(str(honey_stick_list_data)[:100]+'...')"
   ]
  },
  {
   "cell_type": "code",
   "execution_count": 1,
   "metadata": {},
   "outputs": [
    {
     "name": "stdout",
     "output_type": "stream",
     "text": [
      "request_url: https://search.shopping.naver.com/sogum/api/businesses?start=11&display=100&query=꿀+스틱&sortingOrder=precision\n"
     ]
    },
    {
     "ename": "NameError",
     "evalue": "name 'requests' is not defined",
     "output_type": "error",
     "traceback": [
      "\u001b[1;31m---------------------------------------------------------------------------\u001b[0m",
      "\u001b[1;31mNameError\u001b[0m                                 Traceback (most recent call last)",
      "Cell \u001b[1;32mIn[1], line 17\u001b[0m\n\u001b[0;32m     14\u001b[0m url_concat \u001b[39m=\u001b[39m source_url \u001b[39m+\u001b[39m url_parameter_start \u001b[39m+\u001b[39m \\\n\u001b[0;32m     15\u001b[0m     url_parameter_display \u001b[39m+\u001b[39m \u001b[39mstr\u001b[39m(start_idx\u001b[39m+\u001b[39m\u001b[39m99\u001b[39m) \u001b[39m+\u001b[39m url_parameter_query \u001b[39m+\u001b[39m url_parameter_sorting\n\u001b[0;32m     16\u001b[0m \u001b[39mprint\u001b[39m(\u001b[39m'\u001b[39m\u001b[39mrequest_url:\u001b[39m\u001b[39m'\u001b[39m, url_concat)\n\u001b[1;32m---> 17\u001b[0m json_data \u001b[39m=\u001b[39m requests\u001b[39m.\u001b[39mget(url_concat)\u001b[39m.\u001b[39mtext\n\u001b[0;32m     18\u001b[0m honey_stick_list_data \u001b[39m=\u001b[39m json\u001b[39m.\u001b[39mloads(json_data)\n\u001b[0;32m     20\u001b[0m \u001b[39m# 크롤링에 필요한 각 리뷰 상세 페이지의 id를 추출\u001b[39;00m\n",
      "\u001b[1;31mNameError\u001b[0m: name 'requests' is not defined"
     ]
    }
   ],
   "source": [
    "honey_stick_id_list = []\n",
    "\n",
    "# 100개씩 api 호출 결과를 10번 가져옴\n",
    "for start_idx in [1,101,201, 301, 401, 501, 601, 701, 801, 901]:\n",
    "    \n",
    "    # 네이버 쇼핑 api를 호출하기 위한 기본 주소\n",
    "    source_url = \"https://search.shopping.naver.com/sogum/api/businesses?\"\n",
    "    \n",
    "    # 검색 규칙 파라미터를 추가\n",
    "    url_parameter_start = \"start=1\" + str(start_idx)\n",
    "    url_parameter_display = '&display='\n",
    "    url_parameter_query = '&query=꿀+스틱'\n",
    "    url_parameter_sorting = '&sortingOrder=precision'\n",
    "    url_concat = source_url + url_parameter_start + \\\n",
    "        url_parameter_display + str(start_idx+99) + url_parameter_query + url_parameter_sorting\n",
    "    print('request_url:', url_concat)\n",
    "    json_data = requests.get(url_concat).text\n",
    "    honey_stick_list_data = json.loads(json_data)\n",
    "    \n",
    "    # 크롤링에 필요한 각 리뷰 상세 페이지의 id를 추출\n",
    "    for honey in honey_stick_list_data['items']:\n",
    "        if 'moreBookingReviewsPath' in honey:\n",
    "            honey_stick_id_list.append(honey['id'])\n",
    "            \n",
    "honey_stick_id_list = list(set(honey_stick_id_list))\n",
    "    "
   ]
  },
  {
   "cell_type": "code",
   "execution_count": null,
   "metadata": {},
   "outputs": [],
   "source": []
  }
 ],
 "metadata": {
  "kernelspec": {
   "display_name": "base",
   "language": "python",
   "name": "python3"
  },
  "language_info": {
   "codemirror_mode": {
    "name": "ipython",
    "version": 3
   },
   "file_extension": ".py",
   "mimetype": "text/x-python",
   "name": "python",
   "nbconvert_exporter": "python",
   "pygments_lexer": "ipython3",
   "version": "3.10.9"
  },
  "orig_nbformat": 4
 },
 "nbformat": 4,
 "nbformat_minor": 2
}
