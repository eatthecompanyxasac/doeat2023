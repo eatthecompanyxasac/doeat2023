{
 "cells": [
  {
   "cell_type": "code",
   "execution_count": null,
   "metadata": {},
   "outputs": [
    {
     "ename": "",
     "evalue": "",
     "output_type": "error",
     "traceback": [
      "\u001b[1;31m'do_it'(으)로 셀을 실행하려면 ipykernel 패키지가 필요합니다.\n",
      "\u001b[1;31mRun the following command to install 'ipykernel' into the Python environment. \n",
      "\u001b[1;31mCommand: 'conda install -n do_it ipykernel --update-deps --force-reinstall'"
     ]
    }
   ],
   "source": [
    "#pip install ko-sentence-transformers"
   ]
  },
  {
   "cell_type": "code",
   "execution_count": 1,
   "metadata": {},
   "outputs": [],
   "source": [
    "import pandas as pd\n",
    "import numpy as np"
   ]
  },
  {
   "cell_type": "code",
   "execution_count": 2,
   "metadata": {},
   "outputs": [],
   "source": [
    "rv_32 = pd.read_csv(r'C:\\Users\\NT550\\asac\\eat_the\\review_5075632.csv')\n",
    "rv_60 = pd.read_csv(r'C:\\Users\\NT550\\asac\\eat_the\\review_1000085960.csv')\n",
    "rv_25 = pd.read_csv(r'C:\\Users\\NT550\\asac\\eat_the\\review_1000098225.csv')\n",
    "rv_77 = pd.read_csv(r'C:\\Users\\NT550\\asac\\eat_the\\review_1000120077.csv')"
   ]
  },
  {
   "cell_type": "code",
   "execution_count": 3,
   "metadata": {},
   "outputs": [
    {
     "data": {
      "text/html": [
       "<div>\n",
       "<style scoped>\n",
       "    .dataframe tbody tr th:only-of-type {\n",
       "        vertical-align: middle;\n",
       "    }\n",
       "\n",
       "    .dataframe tbody tr th {\n",
       "        vertical-align: top;\n",
       "    }\n",
       "\n",
       "    .dataframe thead th {\n",
       "        text-align: right;\n",
       "    }\n",
       "</style>\n",
       "<table border=\"1\" class=\"dataframe\">\n",
       "  <thead>\n",
       "    <tr style=\"text-align: right;\">\n",
       "      <th></th>\n",
       "      <th>ReviewText</th>\n",
       "      <th>ReviewText</th>\n",
       "      <th>ReviewText</th>\n",
       "      <th>ReviewText</th>\n",
       "    </tr>\n",
       "  </thead>\n",
       "  <tbody>\n",
       "    <tr>\n",
       "      <th>0</th>\n",
       "      <td>맛있어요! 첨엔 좀 비싸다 생각했지만 전복솥밥 만들어먹으니 넘 편하고 전복세개 든거...</td>\n",
       "      <td>치즈룸 좋아하는 브랜드인데\\n밀키트로 나와서 언능 샀네요\\n\\n밥볶다가 크림소스 녹...</td>\n",
       "      <td>간단한 한끼대용으로 좋네요</td>\n",
       "      <td>솥밥 키트 자주시켜먹는데, 제 최애는 가지 솥밥이었는데 어느날부터 없어졌더라구요. ...</td>\n",
       "    </tr>\n",
       "    <tr>\n",
       "      <th>1</th>\n",
       "      <td>도미솥밥 맛있게 잘 먹어서 믿고 전복도 구매해봤는데 역시 잘한 선택 같아요!!\\n\\...</td>\n",
       "      <td>치즈룸서 먹는것같아요. 진짜너무맛있어용!!</td>\n",
       "      <td>맛있어서 재구매했어요!</td>\n",
       "      <td>제입맛에는 그냥그랬어요...</td>\n",
       "    </tr>\n",
       "    <tr>\n",
       "      <th>2</th>\n",
       "      <td>가을이 되니까 TV에서 전복솥밥을 먹는 장면이 많이 나오더라구요\\n맛있게 먹는 걸 ...</td>\n",
       "      <td>후기보고 구매했습니다</td>\n",
       "      <td>아침대용으로 간단하고좋아요</td>\n",
       "      <td>재구매할것  같아요\\n너무 맛있게 먹었어요</td>\n",
       "    </tr>\n",
       "    <tr>\n",
       "      <th>3</th>\n",
       "      <td>맛있어요 잘먹고있어요</td>\n",
       "      <td>고소하면서 크리미한 리조또에요~집에 있는 와규치맛살 올려먹으니 더 든든하네요</td>\n",
       "      <td>톳좋아해서 주문했어요.</td>\n",
       "      <td>그냥그랬어요ㅠ후기만큼은 아니었네요</td>\n",
       "    </tr>\n",
       "    <tr>\n",
       "      <th>4</th>\n",
       "      <td>맛있게 잘 먹었어요~</td>\n",
       "      <td>양이 적어요 맛은 좋아요</td>\n",
       "      <td>지난 번에 간편하면서도 맛있게 먹어서 또 주문 했습니다.</td>\n",
       "      <td>밥솥으로도 편하게 만들 수 있어서 좋아요 물을 좀 더 많이 넣어야 했긴했지만 바닥에...</td>\n",
       "    </tr>\n",
       "  </tbody>\n",
       "</table>\n",
       "</div>"
      ],
      "text/plain": [
       "                                          ReviewText  \\\n",
       "0  맛있어요! 첨엔 좀 비싸다 생각했지만 전복솥밥 만들어먹으니 넘 편하고 전복세개 든거...   \n",
       "1  도미솥밥 맛있게 잘 먹어서 믿고 전복도 구매해봤는데 역시 잘한 선택 같아요!!\\n\\...   \n",
       "2  가을이 되니까 TV에서 전복솥밥을 먹는 장면이 많이 나오더라구요\\n맛있게 먹는 걸 ...   \n",
       "3                                        맛있어요 잘먹고있어요   \n",
       "4                                        맛있게 잘 먹었어요~   \n",
       "\n",
       "                                          ReviewText  \\\n",
       "0  치즈룸 좋아하는 브랜드인데\\n밀키트로 나와서 언능 샀네요\\n\\n밥볶다가 크림소스 녹...   \n",
       "1                            치즈룸서 먹는것같아요. 진짜너무맛있어용!!   \n",
       "2                                       후기보고 구매했습니다    \n",
       "3         고소하면서 크리미한 리조또에요~집에 있는 와규치맛살 올려먹으니 더 든든하네요   \n",
       "4                                      양이 적어요 맛은 좋아요   \n",
       "\n",
       "                         ReviewText  \\\n",
       "0                    간단한 한끼대용으로 좋네요   \n",
       "1                      맛있어서 재구매했어요!   \n",
       "2                    아침대용으로 간단하고좋아요   \n",
       "3                      톳좋아해서 주문했어요.   \n",
       "4  지난 번에 간편하면서도 맛있게 먹어서 또 주문 했습니다.    \n",
       "\n",
       "                                          ReviewText  \n",
       "0  솥밥 키트 자주시켜먹는데, 제 최애는 가지 솥밥이었는데 어느날부터 없어졌더라구요. ...  \n",
       "1                                    제입맛에는 그냥그랬어요...  \n",
       "2                            재구매할것  같아요\\n너무 맛있게 먹었어요  \n",
       "3                                 그냥그랬어요ㅠ후기만큼은 아니었네요  \n",
       "4  밥솥으로도 편하게 만들 수 있어서 좋아요 물을 좀 더 많이 넣어야 했긴했지만 바닥에...  "
      ]
     },
     "execution_count": 3,
     "metadata": {},
     "output_type": "execute_result"
    }
   ],
   "source": [
    "rvt = pd.concat([rv_32['ReviewText'], rv_60['ReviewText'], rv_25['ReviewText'], rv_77['ReviewText']], axis=1)\n",
    "rvt.head()"
   ]
  },
  {
   "cell_type": "code",
   "execution_count": 4,
   "metadata": {},
   "outputs": [],
   "source": [
    "f = pd.read_excel(r'C:\\Users\\NT550\\asac\\eat_the\\감성분석_가중치.xlsx')"
   ]
  },
  {
   "cell_type": "code",
   "execution_count": 22,
   "metadata": {},
   "outputs": [
    {
     "name": "stdout",
     "output_type": "stream",
     "text": [
      "Defaulting to user installation because normal site-packages is not writeable\n",
      "Requirement already satisfied: PyKomoran in c:\\programdata\\anaconda3\\envs\\do_it\\lib\\site-packages (0.1.6.post1)\n",
      "Requirement already satisfied: py4j==0.10.9.2 in c:\\programdata\\anaconda3\\envs\\do_it\\lib\\site-packages (from PyKomoran) (0.10.9.2)\n",
      "Note: you may need to restart the kernel to use updated packages.\n"
     ]
    }
   ],
   "source": [
    "#pip install PyKomoran\n"
   ]
  },
  {
   "cell_type": "code",
   "execution_count": 7,
   "metadata": {},
   "outputs": [],
   "source": [
    "from PyKomoran import Komoran, DEFAULT_MODEL\n",
    "#komoran = Komoran('STABLE')"
   ]
  },
  {
   "cell_type": "code",
   "execution_count": 10,
   "metadata": {},
   "outputs": [
    {
     "ename": "FileNotFoundError",
     "evalue": "[WinError 2] 지정된 파일을 찾을 수 없습니다",
     "output_type": "error",
     "traceback": [
      "\u001b[1;31m---------------------------------------------------------------------------\u001b[0m",
      "\u001b[1;31mFileNotFoundError\u001b[0m                         Traceback (most recent call last)",
      "Cell \u001b[1;32mIn[10], line 5\u001b[0m\n\u001b[0;32m      1\u001b[0m \u001b[39m# 다양한 형태소 분석기가 있지만, 리뷰데이터는 KOMORAN이 적합하다고 판단\u001b[39;00m\n\u001b[0;32m      2\u001b[0m \u001b[39m# 명사와 형용사를 추출하여 데이터프레임에 추가\u001b[39;00m\n\u001b[0;32m      3\u001b[0m \u001b[39m#from PyKomoran import *\u001b[39;00m\n\u001b[0;32m      4\u001b[0m \u001b[39mimport\u001b[39;00m \u001b[39mre\u001b[39;00m \u001b[39m# 정규표현식 사용위해 re 모듈 사용!!\u001b[39;00m\n\u001b[1;32m----> 5\u001b[0m komoran \u001b[39m=\u001b[39m Komoran(DEFAULT_MODEL[\u001b[39m'\u001b[39;49m\u001b[39mLIGHT\u001b[39;49m\u001b[39m'\u001b[39;49m])\n\u001b[0;32m      6\u001b[0m n_ \u001b[39m=\u001b[39m []\n\u001b[0;32m      8\u001b[0m \u001b[39mfor\u001b[39;00m i \u001b[39min\u001b[39;00m \u001b[39mrange\u001b[39m(\u001b[39mlen\u001b[39m(rvt)):\n",
      "File \u001b[1;32mc:\\ProgramData\\anaconda3\\envs\\do_it\\lib\\site-packages\\PyKomoran\\core.py:51\u001b[0m, in \u001b[0;36mKomoran.__init__\u001b[1;34m(self, model_path, max_heap)\u001b[0m\n\u001b[0;32m     47\u001b[0m     \u001b[39mraise\u001b[39;00m KomoranError(\u001b[39m\"\u001b[39m\u001b[39mmodel does NOT exist!\u001b[39m\u001b[39m\"\u001b[39m)\n\u001b[0;32m     49\u001b[0m \u001b[39mself\u001b[39m\u001b[39m.\u001b[39mpos_table \u001b[39m=\u001b[39m Pos()\n\u001b[1;32m---> 51\u001b[0m jvm\u001b[39m.\u001b[39;49minit_jvm(max_heap)\n\u001b[0;32m     52\u001b[0m \u001b[39mself\u001b[39m\u001b[39m.\u001b[39m_komoran \u001b[39m=\u001b[39m jvm\u001b[39m.\u001b[39mget_jvm()\u001b[39m.\u001b[39mkr\u001b[39m.\u001b[39mco\u001b[39m.\u001b[39mshineware\u001b[39m.\u001b[39mnlp\u001b[39m.\u001b[39mpykomoran\u001b[39m.\u001b[39mKomoranEntryPoint()\n\u001b[0;32m     54\u001b[0m \u001b[39mself\u001b[39m\u001b[39m.\u001b[39m_komoran\u001b[39m.\u001b[39minit(model_path)\n",
      "File \u001b[1;32mc:\\ProgramData\\anaconda3\\envs\\do_it\\lib\\site-packages\\PyKomoran\\jvm.py:42\u001b[0m, in \u001b[0;36minit_jvm\u001b[1;34m(max_heap, jar_path)\u001b[0m\n\u001b[0;32m     39\u001b[0m classpath \u001b[39m=\u001b[39m os\u001b[39m.\u001b[39mpathsep\u001b[39m.\u001b[39mjoin([lib\u001b[39m.\u001b[39mformat(jar_path, os\u001b[39m.\u001b[39msep) \u001b[39mfor\u001b[39;00m lib \u001b[39min\u001b[39;00m libraries])\n\u001b[0;32m     40\u001b[0m py4j_path \u001b[39m=\u001b[39m \u001b[39m\"\u001b[39m\u001b[39m{0}\u001b[39;00m\u001b[39m{1}\u001b[39;00m\u001b[39mpy4j-0.10.9.2.jar\u001b[39m\u001b[39m\"\u001b[39m\u001b[39m.\u001b[39mformat(jar_path, os\u001b[39m.\u001b[39msep)\n\u001b[1;32m---> 42\u001b[0m port \u001b[39m=\u001b[39m launch_gateway(jarpath\u001b[39m=\u001b[39;49mpy4j_path,\n\u001b[0;32m     43\u001b[0m                       classpath\u001b[39m=\u001b[39;49mclasspath,\n\u001b[0;32m     44\u001b[0m                       javaopts\u001b[39m=\u001b[39;49m[\u001b[39m'\u001b[39;49m\u001b[39m-Dfile.encoding=UTF8\u001b[39;49m\u001b[39m'\u001b[39;49m, \u001b[39m'\u001b[39;49m\u001b[39m-ea\u001b[39;49m\u001b[39m'\u001b[39;49m, \u001b[39m'\u001b[39;49m\u001b[39m-Xmx\u001b[39;49m\u001b[39m{}\u001b[39;49;00m\u001b[39mm\u001b[39;49m\u001b[39m'\u001b[39;49m\u001b[39m.\u001b[39;49mformat(max_heap)],\n\u001b[0;32m     45\u001b[0m                       die_on_exit\u001b[39m=\u001b[39;49m\u001b[39mTrue\u001b[39;49;00m)\n\u001b[0;32m     47\u001b[0m logging\u001b[39m.\u001b[39mdebug(\u001b[39m\"\u001b[39m\u001b[39minitializing JVM... \u001b[39m\u001b[39m\"\u001b[39m)\n\u001b[0;32m     48\u001b[0m \u001b[39mtry\u001b[39;00m:\n",
      "File \u001b[1;32mc:\\ProgramData\\anaconda3\\envs\\do_it\\lib\\site-packages\\py4j\\java_gateway.py:331\u001b[0m, in \u001b[0;36mlaunch_gateway\u001b[1;34m(port, jarpath, classpath, javaopts, die_on_exit, redirect_stdout, redirect_stderr, daemonize_redirect, java_path, create_new_process_group, enable_auth, cwd, return_proc, use_shell)\u001b[0m\n\u001b[0;32m    328\u001b[0m     popen_kwargs\u001b[39m.\u001b[39mupdate(get_create_new_process_group_kwargs())\n\u001b[0;32m    330\u001b[0m popen_kwargs[\u001b[39m\"\u001b[39m\u001b[39mshell\u001b[39m\u001b[39m\"\u001b[39m] \u001b[39m=\u001b[39m use_shell\n\u001b[1;32m--> 331\u001b[0m proc \u001b[39m=\u001b[39m Popen(\n\u001b[0;32m    332\u001b[0m     command, stdout\u001b[39m=\u001b[39mPIPE, stdin\u001b[39m=\u001b[39mPIPE, stderr\u001b[39m=\u001b[39mstderr, cwd\u001b[39m=\u001b[39mcwd,\n\u001b[0;32m    333\u001b[0m     \u001b[39m*\u001b[39m\u001b[39m*\u001b[39mpopen_kwargs)\n\u001b[0;32m    335\u001b[0m \u001b[39m# Determine which port the server started on (needed to support\u001b[39;00m\n\u001b[0;32m    336\u001b[0m \u001b[39m# ephemeral ports)\u001b[39;00m\n\u001b[0;32m    337\u001b[0m _port \u001b[39m=\u001b[39m \u001b[39mint\u001b[39m(proc\u001b[39m.\u001b[39mstdout\u001b[39m.\u001b[39mreadline())\n",
      "File \u001b[1;32mc:\\ProgramData\\anaconda3\\envs\\do_it\\lib\\subprocess.py:951\u001b[0m, in \u001b[0;36mPopen.__init__\u001b[1;34m(self, args, bufsize, executable, stdin, stdout, stderr, preexec_fn, close_fds, shell, cwd, env, universal_newlines, startupinfo, creationflags, restore_signals, start_new_session, pass_fds, user, group, extra_groups, encoding, errors, text, umask)\u001b[0m\n\u001b[0;32m    947\u001b[0m         \u001b[39mif\u001b[39;00m \u001b[39mself\u001b[39m\u001b[39m.\u001b[39mtext_mode:\n\u001b[0;32m    948\u001b[0m             \u001b[39mself\u001b[39m\u001b[39m.\u001b[39mstderr \u001b[39m=\u001b[39m io\u001b[39m.\u001b[39mTextIOWrapper(\u001b[39mself\u001b[39m\u001b[39m.\u001b[39mstderr,\n\u001b[0;32m    949\u001b[0m                     encoding\u001b[39m=\u001b[39mencoding, errors\u001b[39m=\u001b[39merrors)\n\u001b[1;32m--> 951\u001b[0m     \u001b[39mself\u001b[39;49m\u001b[39m.\u001b[39;49m_execute_child(args, executable, preexec_fn, close_fds,\n\u001b[0;32m    952\u001b[0m                         pass_fds, cwd, env,\n\u001b[0;32m    953\u001b[0m                         startupinfo, creationflags, shell,\n\u001b[0;32m    954\u001b[0m                         p2cread, p2cwrite,\n\u001b[0;32m    955\u001b[0m                         c2pread, c2pwrite,\n\u001b[0;32m    956\u001b[0m                         errread, errwrite,\n\u001b[0;32m    957\u001b[0m                         restore_signals,\n\u001b[0;32m    958\u001b[0m                         gid, gids, uid, umask,\n\u001b[0;32m    959\u001b[0m                         start_new_session)\n\u001b[0;32m    960\u001b[0m \u001b[39mexcept\u001b[39;00m:\n\u001b[0;32m    961\u001b[0m     \u001b[39m# Cleanup if the child failed starting.\u001b[39;00m\n\u001b[0;32m    962\u001b[0m     \u001b[39mfor\u001b[39;00m f \u001b[39min\u001b[39;00m \u001b[39mfilter\u001b[39m(\u001b[39mNone\u001b[39;00m, (\u001b[39mself\u001b[39m\u001b[39m.\u001b[39mstdin, \u001b[39mself\u001b[39m\u001b[39m.\u001b[39mstdout, \u001b[39mself\u001b[39m\u001b[39m.\u001b[39mstderr)):\n",
      "File \u001b[1;32mc:\\ProgramData\\anaconda3\\envs\\do_it\\lib\\subprocess.py:1436\u001b[0m, in \u001b[0;36mPopen._execute_child\u001b[1;34m(self, args, executable, preexec_fn, close_fds, pass_fds, cwd, env, startupinfo, creationflags, shell, p2cread, p2cwrite, c2pread, c2pwrite, errread, errwrite, unused_restore_signals, unused_gid, unused_gids, unused_uid, unused_umask, unused_start_new_session)\u001b[0m\n\u001b[0;32m   1434\u001b[0m \u001b[39m# Start the process\u001b[39;00m\n\u001b[0;32m   1435\u001b[0m \u001b[39mtry\u001b[39;00m:\n\u001b[1;32m-> 1436\u001b[0m     hp, ht, pid, tid \u001b[39m=\u001b[39m _winapi\u001b[39m.\u001b[39;49mCreateProcess(executable, args,\n\u001b[0;32m   1437\u001b[0m                              \u001b[39m# no special security\u001b[39;49;00m\n\u001b[0;32m   1438\u001b[0m                              \u001b[39mNone\u001b[39;49;00m, \u001b[39mNone\u001b[39;49;00m,\n\u001b[0;32m   1439\u001b[0m                              \u001b[39mint\u001b[39;49m(\u001b[39mnot\u001b[39;49;00m close_fds),\n\u001b[0;32m   1440\u001b[0m                              creationflags,\n\u001b[0;32m   1441\u001b[0m                              env,\n\u001b[0;32m   1442\u001b[0m                              cwd,\n\u001b[0;32m   1443\u001b[0m                              startupinfo)\n\u001b[0;32m   1444\u001b[0m \u001b[39mfinally\u001b[39;00m:\n\u001b[0;32m   1445\u001b[0m     \u001b[39m# Child is launched. Close the parent's copy of those pipe\u001b[39;00m\n\u001b[0;32m   1446\u001b[0m     \u001b[39m# handles that only the child should have open.  You need\u001b[39;00m\n\u001b[1;32m   (...)\u001b[0m\n\u001b[0;32m   1449\u001b[0m     \u001b[39m# pipe will not close when the child process exits and the\u001b[39;00m\n\u001b[0;32m   1450\u001b[0m     \u001b[39m# ReadFile will hang.\u001b[39;00m\n\u001b[0;32m   1451\u001b[0m     \u001b[39mself\u001b[39m\u001b[39m.\u001b[39m_close_pipe_fds(p2cread, p2cwrite,\n\u001b[0;32m   1452\u001b[0m                          c2pread, c2pwrite,\n\u001b[0;32m   1453\u001b[0m                          errread, errwrite)\n",
      "\u001b[1;31mFileNotFoundError\u001b[0m: [WinError 2] 지정된 파일을 찾을 수 없습니다"
     ]
    }
   ],
   "source": [
    "# 다양한 형태소 분석기가 있지만, 리뷰데이터는 KOMORAN이 적합하다고 판단\n",
    "# 명사와 형용사를 추출하여 데이터프레임에 추가\n",
    "#from PyKomoran import *\n",
    "import re # 정규표현식 사용위해 re 모듈 사용!!\n",
    "komoran = Komoran(DEFAULT_MODEL['LIGHT'])\n",
    "n_ = []\n",
    "\n",
    "for i in range(len(rvt)):\n",
    "    nouns = komoran.get_morphes_by_tag(rvt.iloc[i]['revies'], tag_list=['NNP','NNG','VA'])\n",
    "    n_.append(' '.join(nouns))\n",
    "    rvt['nouns'] = n_\n",
    "    rvt = rvt[rvt['nouns']!= '']"
   ]
  },
  {
   "cell_type": "code",
   "execution_count": null,
   "metadata": {},
   "outputs": [],
   "source": []
  }
 ],
 "metadata": {
  "kernelspec": {
   "display_name": "base",
   "language": "python",
   "name": "python3"
  },
  "language_info": {
   "codemirror_mode": {
    "name": "ipython",
    "version": 3
   },
   "file_extension": ".py",
   "mimetype": "text/x-python",
   "name": "python",
   "nbconvert_exporter": "python",
   "pygments_lexer": "ipython3",
   "version": "3.9.17"
  },
  "orig_nbformat": 4
 },
 "nbformat": 4,
 "nbformat_minor": 2
}
