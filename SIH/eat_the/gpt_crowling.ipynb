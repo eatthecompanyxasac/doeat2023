{
 "cells": [
  {
   "cell_type": "code",
   "execution_count": 3,
   "metadata": {},
   "outputs": [],
   "source": [
    "import requests\n",
    "from bs4 import BeautifulSoup\n",
    "import urllib.parse\n",
    "\n",
    "def crawl_page(url):\n",
    "    response = requests.get(url)\n",
    "    soup = BeautifulSoup(response.text, 'html.parser')\n",
    "    text = soup.get_text()\n",
    "    print(text)  # 또는 추출한 텍스트를 원하는 방식으로 처리\n",
    "\n",
    "def extract_urls(keyword):\n",
    "    base_url = \"https://search.naver.com/search.naver?query=\"\n",
    "    encoded_keyword = urllib.parse.quote(keyword)\n",
    "    url = base_url + encoded_keyword\n",
    "\n",
    "    response = requests.get(url)\n",
    "    soup = BeautifulSoup(response.text, 'html.parser')\n",
    "\n",
    "    blog_results = soup.select(\".type01 .sh_blog_title\")\n",
    "    cafe_results = soup.select(\".type02 .sh_cafe_title\")\n",
    "\n",
    "    urls = []\n",
    "    for result in blog_results:\n",
    "        blog_url = result[\"href\"]\n",
    "        urls.append(blog_url)\n",
    "\n",
    "    for result in cafe_results:\n",
    "        cafe_url = result[\"href\"]\n",
    "        urls.append(cafe_url)\n",
    "\n",
    "    return urls\n",
    "\n",
    "def process_keyword(keyword):\n",
    "    urls = extract_urls(keyword)\n",
    "    for url in urls:\n",
    "        crawl_page(url)\n",
    "\n",
    "# 특정 키워드로 검색하여 HTML 주소를 추출하고 텍스트 추출\n",
    "keyword = \"솥밥 밀키트\"\n",
    "process_keyword(keyword)\n"
   ]
  },
  {
   "cell_type": "code",
   "execution_count": null,
   "metadata": {},
   "outputs": [],
   "source": []
  }
 ],
 "metadata": {
  "kernelspec": {
   "display_name": "base",
   "language": "python",
   "name": "python3"
  },
  "language_info": {
   "codemirror_mode": {
    "name": "ipython",
    "version": 3
   },
   "file_extension": ".py",
   "mimetype": "text/x-python",
   "name": "python",
   "nbconvert_exporter": "python",
   "pygments_lexer": "ipython3",
   "version": "3.10.9"
  },
  "orig_nbformat": 4
 },
 "nbformat": 4,
 "nbformat_minor": 2
}
