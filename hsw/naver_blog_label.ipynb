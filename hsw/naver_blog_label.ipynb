{
 "cells": [
  {
   "cell_type": "markdown",
   "metadata": {},
   "source": [
    "#### 라벨링 하기"
   ]
  },
  {
   "cell_type": "code",
   "execution_count": 1,
   "metadata": {},
   "outputs": [],
   "source": [
    "import tensorflow\n",
    "import keras\n",
    "import pandas as pd\n",
    "import numpy as np\n",
    "import requests\n",
    "import re\n",
    "from konlpy.tag import *\n",
    "from collections import Counter"
   ]
  },
  {
   "cell_type": "code",
   "execution_count": 4,
   "metadata": {},
   "outputs": [],
   "source": [
    "naver_blog_text_scaling_keyword = pd.read_csv(r\"C:\\vscode\\project\\잇더컴퍼니\\1차프로젝트\\naver_blog_text_scaling_keyword.csv\")"
   ]
  },
  {
   "cell_type": "code",
   "execution_count": 3,
   "metadata": {},
   "outputs": [],
   "source": [
    "naver_blog_text_scaling_keyword = pd.read_csv(r\"C:\\vscode\\project\\잇더컴퍼니\\1차프로젝트\\naver_blog_text_scaling_keyword.csv\", encoding= \"utf-8-sig\")"
   ]
  },
  {
   "cell_type": "code",
   "execution_count": 6,
   "metadata": {},
   "outputs": [],
   "source": [
    "del naver_blog_text_scaling_keyword[\"Unnamed: 0\"]"
   ]
  },
  {
   "cell_type": "code",
   "execution_count": 7,
   "metadata": {},
   "outputs": [],
   "source": [
    "#키워드가 들어간 키워드 모음보기\n",
    "def kw_in_blog_k(kw):\n",
    "    print('\"', kw, '\"', '포함된 리뷰 총',len(naver_blog_text_scaling_keyword[naver_blog_text_scaling_keyword['주요 키워드'].apply(lambda x:kw in x)]['주요 키워드']),'건')\n",
    "    return naver_blog_text_scaling_keyword[naver_blog_text_scaling_keyword['주요 키워드'].apply(lambda x:kw in x)]['주요 키워드']"
   ]
  },
  {
   "cell_type": "code",
   "execution_count": 9,
   "metadata": {},
   "outputs": [
    {
     "name": "stdout",
     "output_type": "stream",
     "text": [
      "\" 보신 \" 포함된 리뷰 총 4 건\n"
     ]
    },
    {
     "data": {
      "text/plain": [
       "1      몸보신,요리,똥손,아이,고급,캠핑,여행,영양,선물,가족,보양,간편,명란,버터,계란,...\n",
       "13                                       가격,고급,간단,몸보신,건강\n",
       "20                                     가족,아이,저녁,몸보신,집,간단\n",
       "133                                             몸보신,간편,집\n",
       "Name: 주요 키워드, dtype: object"
      ]
     },
     "execution_count": 9,
     "metadata": {},
     "output_type": "execute_result"
    }
   ],
   "source": [
    "kw_in_blog_k(\"보신\") "
   ]
  },
  {
   "cell_type": "code",
   "execution_count": 13,
   "metadata": {},
   "outputs": [],
   "source": [
    "#키워드가 들어간 문장보기\n",
    "def kw_in_blog_t(kw):\n",
    "    print('\"', kw, '\"', '포함된 리뷰 총',len(naver_blog_text_scaling_keyword[naver_blog_text_scaling_keyword['변환된 내용'].apply(lambda x:kw in x)]['주요 키워드']),'건')\n",
    "    return naver_blog_text_scaling_keyword[naver_blog_text_scaling_keyword['변환된 내용'].apply(lambda x:kw in x)]['변환된 내용']"
   ]
  },
  {
   "cell_type": "code",
   "execution_count": 14,
   "metadata": {},
   "outputs": [
    {
     "name": "stdout",
     "output_type": "stream",
     "text": [
      "\" 보신 \" 포함된 리뷰 총 10 건\n"
     ]
    },
    {
     "data": {
      "text/plain": [
       "1      육아하는 RN 널봄맘요리똥손인 제가 환절기를 앞두고 식구들 몸보신을 위해뭘 조리해볼...\n",
       "3      전복솥밥 키트가 있더라구요. 몸 보신하고 싶어서 최상급 전복 사서 직접 만들어 먹으...\n",
       "9      국내산 전복솥밥 밀키트 인색전복장 최상급 전복이 가득들어 몸보신에 추천안녕하세요. ...\n",
       "13     요즘 밀키트가 너무 잘 나오고 있는 거 같아요.간단하게 해먹기 좋으면서 또 신선도도...\n",
       "20     환절기라 그런지 아이들도 그렇고 온가족이 감기에 걸려서 일주일동안 아팠어요.. ㅠ이...\n",
       "39     솥밥 밀키트 이야기솥밥밥솥.비가오나눈이오나본가 어미의 품에서떠나 독립을 하게 되면매...\n",
       "83     6월 블챌 23.06.11  2023.06.286월을 살고 있는 사람 ..바로 나야...\n",
       "85     문어 효능부터 삶는 방법까지 다 알아봐요  쫄깃하고 맛있는 문어구이 볶음 숙회 튀김...\n",
       "129    내가 생각했던 5월의 날씨보다훨씬 더습하고 무더위가 시작된한국의 이른 여름.여름.여...\n",
       "133    짝지가 출장으로 부재중이다보니집에서 집밥다운 집밥을 먹기가 힘들어지는 것 같아요ㅠ_...\n",
       "Name: 변환된 내용, dtype: object"
      ]
     },
     "execution_count": 14,
     "metadata": {},
     "output_type": "execute_result"
    }
   ],
   "source": [
    "kw_in_blog_t(\"보신\") "
   ]
  },
  {
   "cell_type": "code",
   "execution_count": 364,
   "metadata": {},
   "outputs": [],
   "source": [
    "# 결과 보이는 설정 ....없이 보이게\n",
    "pd.set_option('display.max_colwidth', None)\n",
    "pd.set_option('display.max_rows', None) "
   ]
  },
  {
   "cell_type": "code",
   "execution_count": 353,
   "metadata": {},
   "outputs": [],
   "source": [
    "pd.reset_option('display.max_rows')\n",
    "pd.reset_option('display.max_colwidth')"
   ]
  },
  {
   "cell_type": "code",
   "execution_count": 16,
   "metadata": {},
   "outputs": [
    {
     "data": {
      "text/plain": [
       "0      None\n",
       "1      None\n",
       "2      None\n",
       "3      None\n",
       "4      None\n",
       "       ... \n",
       "132    None\n",
       "133    None\n",
       "134    None\n",
       "135    None\n",
       "136    None\n",
       "Name: 주요 키워드, Length: 137, dtype: object"
      ]
     },
     "execution_count": 16,
     "metadata": {},
     "output_type": "execute_result"
    }
   ],
   "source": [
    "keyword_zip = []\n",
    "naver_blog_text_scaling_keyword[\"주요 키워드\"].apply(lambda x : keyword_zip.append(x))"
   ]
  },
  {
   "cell_type": "code",
   "execution_count": 17,
   "metadata": {},
   "outputs": [],
   "source": [
    "keyword_zip = \",\".join(keyword_zip)"
   ]
  },
  {
   "cell_type": "code",
   "execution_count": 18,
   "metadata": {},
   "outputs": [],
   "source": [
    "keyword_zip1 = keyword_zip.split(\",\")"
   ]
  },
  {
   "cell_type": "code",
   "execution_count": 19,
   "metadata": {},
   "outputs": [],
   "source": [
    "keyword_zip1 = [item for item in keyword_zip1 if item != ''] "
   ]
  },
  {
   "cell_type": "code",
   "execution_count": 20,
   "metadata": {},
   "outputs": [],
   "source": [
    "keyword_zip1 = list(set(keyword_zip1))"
   ]
  },
  {
   "cell_type": "code",
   "execution_count": 31,
   "metadata": {},
   "outputs": [],
   "source": [
    "def person_labeling(x):\n",
    "    who_guest = ['지인','손님','직장','친구','남친', '남자', '여자'] #1 외부인\n",
    "\n",
    "    who_mam = ['엄마','어머니', '아빠','아버지','아부지', '할아버지', '할머니', '부모','엄빠'] # 2 어른\n",
    "\n",
    "    who_kid = ['딸','아들','아이','애들','얘들', '아기','애기'] # 3 아이\n",
    "\n",
    "    who_husband = ['남편','오빠', '남의편','아저씨', '부부', '와이프', '주부', '신랑'] # 4 부부\n",
    "\n",
    "    who_fam = ['식구','가족', '동생', '언니'] # 5 가족\n",
    "\n",
    "    who_solo = ['혼자', '자취', '1인가구', '저는', '저한', '제가', '제 입'] #6 혼자   \n",
    "\n",
    "    if any(i in x for i in who_guest):\n",
    "        person_label = 1\n",
    "    elif any(i in x for i in who_mam):\n",
    "        person_label = 2\n",
    "    elif any(i in x for i in who_kid):\n",
    "        person_label = 3\n",
    "    elif any(i in x for i in who_husband):\n",
    "        person_label = 4\n",
    "    elif any(i in x for i in who_fam):\n",
    "        person_label = 5\n",
    "    elif any(i in x for i in who_solo):\n",
    "        person_label = 6\n",
    "    else:\n",
    "        person_label = 6\n",
    "    \n",
    "    return person_label"
   ]
  },
  {
   "cell_type": "code",
   "execution_count": 32,
   "metadata": {},
   "outputs": [],
   "source": [
    "def purpose_labeling(sen):\n",
    "    invite = ['홈파티','모임','본가','집','야외','소개',\"캠핑\",'집들이', '초대', '접대', '파티', '해드', '파티', '크리스마스', '대접', '생일', '생신', '손님','모실때', '모시', '어르신', '어루신',\"시댁\"] # 2\n",
    "    goodmeal = ['특별식','별미','영양','보양식','집밥','중복','특별한','신혼','기념일','초복','유아식','프리미엄',\"기력\",'보신', '분위기', '고급', '건강', '보양', '도전', '기운', '기분','제대로','성공',\"몸보신\",\"요리\"] # 3\n",
    "    comfortable = ['간단식','자취','육아','이벤트','연휴','혼밥','저렴','급할때','초보','쉬움','왕초보','반찬이 없을때','할인','가성비','반찬','간편','편함','손질','귀찮','편하','급하','간단','밥하기','입맛없','입맛 없','밥맛없','밥맛 없','반찬없','반찬 없','바쁜','바쁠','바쁘',\"비쌈\",\"세일\"] # 4\n",
    "    gift = ['선물','드렸','보내','보냈'] # 1 중복 5\n",
    "    label = 0\n",
    "    for kw in goodmeal:\n",
    "        if kw in sen:\n",
    "            label = 3\n",
    "            break\n",
    "    for kw in comfortable:\n",
    "        if kw in sen:\n",
    "            if label == 3:\n",
    "                label = 5\n",
    "            else:\n",
    "                label = 4\n",
    "            break\n",
    "    for kw in invite:\n",
    "        if kw in sen:\n",
    "            label = 2\n",
    "            break\n",
    "    for kw in gift:\n",
    "        if kw in sen:\n",
    "            label = 1\n",
    "            break\n",
    "    return label"
   ]
  },
  {
   "cell_type": "code",
   "execution_count": 33,
   "metadata": {},
   "outputs": [],
   "source": [
    "def place_labeling(x):\n",
    "    house = ['집','집밥','자취'] #1\n",
    "\n",
    "    travel = ['여행'] # 2\n",
    "\n",
    "    camping = ['캠핑','캠핑장'] # 3\n",
    "\n",
    "    hospital = ['병원','병문안'] # 4\n",
    "\n",
    "    if any(i in x for i in hospital):\n",
    "        place_label = 4\n",
    "    elif any(i in x for i in camping):\n",
    "        place_label = 3\n",
    "    elif any(i in x for i in travel):\n",
    "        place_label = 2\n",
    "    elif any(i in x for i in house):\n",
    "        place_label = 1\n",
    "    else:\n",
    "        place_label = 0\n",
    "    \n",
    "    return place_label"
   ]
  },
  {
   "cell_type": "code",
   "execution_count": 361,
   "metadata": {},
   "outputs": [],
   "source": [
    "naver_blog_text_scaling_keyword[\"person_labeling\"] = naver_blog_text_scaling_keyword[\"주요 키워드\"].apply(lambda x : person_labeling(x))"
   ]
  },
  {
   "cell_type": "code",
   "execution_count": null,
   "metadata": {},
   "outputs": [],
   "source": [
    "naver_blog_text_scaling_keyword[\"purpose_labeling\"] = naver_blog_text_scaling_keyword[\"주요 키워드\"].apply(lambda x : purpose_labeling(x))"
   ]
  },
  {
   "cell_type": "code",
   "execution_count": null,
   "metadata": {},
   "outputs": [],
   "source": [
    "naver_blog_text_scaling_keyword[\"place_labeling\"] = naver_blog_text_scaling_keyword[\"주요 키워드\"].apply(lambda x : place_labeling(x))"
   ]
  },
  {
   "cell_type": "code",
   "execution_count": 304,
   "metadata": {},
   "outputs": [
    {
     "name": "stdout",
     "output_type": "stream",
     "text": [
      "Note: you may need to restart the kernel to use updated packages.Collecting openpyxl\n",
      "  Downloading openpyxl-3.1.2-py2.py3-none-any.whl (249 kB)\n",
      "     -------------------------------------- 250.0/250.0 kB 2.6 MB/s eta 0:00:00\n",
      "Collecting et-xmlfile (from openpyxl)\n",
      "  Downloading et_xmlfile-1.1.0-py3-none-any.whl (4.7 kB)\n",
      "Installing collected packages: et-xmlfile, openpyxl\n",
      "Successfully installed et-xmlfile-1.1.0 openpyxl-3.1.2\n",
      "\n"
     ]
    },
    {
     "name": "stderr",
     "output_type": "stream",
     "text": [
      "DEPRECATION: Loading egg at c:\\users\\nt550\\anaconda3\\envs\\textmining\\lib\\site-packages\\py_hanspell-1.1-py3.11.egg is deprecated. pip 23.3 will enforce this behaviour change. A possible replacement is to use pip for package installation..\n"
     ]
    }
   ],
   "source": [
    "pip install openpyxl"
   ]
  },
  {
   "cell_type": "code",
   "execution_count": 305,
   "metadata": {},
   "outputs": [],
   "source": [
    "import openpyxl"
   ]
  },
  {
   "cell_type": "code",
   "execution_count": 362,
   "metadata": {},
   "outputs": [],
   "source": [
    "naver_blog_text_scaling_keyword.to_excel(r\"naver_blog_text_scaling_keyword_label_finish2.xlsx\")"
   ]
  },
  {
   "cell_type": "code",
   "execution_count": 277,
   "metadata": {},
   "outputs": [
    {
     "name": "stdout",
     "output_type": "stream",
     "text": [
      "person_labeling\n",
      "7    51\n",
      "4    21\n",
      "1    18\n",
      "3    15\n",
      "6    13\n",
      "2    13\n",
      "5     6\n",
      "Name: count, dtype: int64\n"
     ]
    }
   ],
   "source": [
    "counts = naver_blog_text_scaling_keyword['person_labeling'].value_counts()\n",
    "\n",
    "print(counts)"
   ]
  }
 ],
 "metadata": {
  "kernelspec": {
   "display_name": "textmining",
   "language": "python",
   "name": "python3"
  },
  "language_info": {
   "codemirror_mode": {
    "name": "ipython",
    "version": 3
   },
   "file_extension": ".py",
   "mimetype": "text/x-python",
   "name": "python",
   "nbconvert_exporter": "python",
   "pygments_lexer": "ipython3",
   "version": "3.11.4"
  },
  "orig_nbformat": 4
 },
 "nbformat": 4,
 "nbformat_minor": 2
}
